{
 "cells": [
  {
   "cell_type": "markdown",
   "metadata": {
    "Collapsed": "false"
   },
   "source": [
    "<img src='https://gitlab.eumetsat.int/eumetlab/oceans/ocean-training/tools/frameworks/-/raw/main/img/UN_decade_banner.png' align='right' width='100%'/>"
   ]
  },
  {
   "cell_type": "markdown",
   "metadata": {},
   "source": [
    "<font color=\"#138D75\">**Copernicus Marine Training Service**</font> <br>\n",
    "**Copyright:** 2022 EUMETSAT <br>\n",
    "**License:** MIT <br>\n",
    "**Author:** B. Loveday (Innoflair UG / EUMETSAT)"
   ]
  },
  {
   "cell_type": "markdown",
   "metadata": {},
   "source": [
    "<div class=\"alert alert-block alert-success\">\n",
    "<h3>Ocean case studies</h3></div>\n",
    "<hr>"
   ]
  },
  {
   "cell_type": "markdown",
   "metadata": {
    "Collapsed": "false"
   },
   "source": [
    "<div class=\"alert alert-info\" role=\"alert\">\n",
    "\n",
    "## Index\n",
    "\n",
    "</div>\n",
    "\n",
    "### Learning outcomes (optional)\n",
    "\n",
    "### Outline\n",
    "\n",
    "The **ocean-case-studies** module consists of a series of Jupyter Notebooks that reflect one or more facets of a marine case study, as published on the EUMETSAT website. Though ancillary data sources may be used, the notebooks focus on the use of Copernicus Marine data from Sentinel-3 and Sentinel-6 provided by EUMETSAT. Many of the cases are highlight specific uses of individual sensors, while others are linked to \n",
    "\n",
    "<a href=\"https://www.oceandecade.org/challenges/\" target=\"_blank\">UN Ocean Decade challenges</a>. The list of case studies is every-growing and the Copernicus Marine Training Service, aims to produce a new notebook alongside every new marine case study published on our website, where feasible.\n",
    "\n",
    "Case studies that align with the UN Ocean Decade priorities are organised according to the challenge they respond to. The list of challenges is below;\n",
    "\n",
    "* Challenge 1: Understand and beat marine pollution\n",
    "* Challenge 2: Protect and restore ecosystems and biodiversity\n",
    "* Challenge 3: Sustainably feed the global population\n",
    "* Challenge 4: Develop a sustainable and equitable ocean economy\n",
    "* Challenge 5: Unlock ocean-based solutions to climate change\n",
    "* Challenge 6: Increase community resilience to ocean hazards\n",
    "* Challenge 7: Expand the Global Ocean Observing System\n",
    "* Challenge 8: Create a digital representation of the Ocean\n",
    "* Challenge 9: Skills, knowledge and technology for all\n",
    "* Challenge 10: Change humanity’s relationship with the ocean\n",
    "\n",
    "### How to use this material\n",
    "\n",
    "This module is based around a series of <a href=\"https://jupyter.org/\" target=\"_blank\">Jupyter Notebooks</a>. These support high-level interactive learning by allowing us to combine code, text descriptions and data visualisations. If you have not worked with Jupyter Notebooks before, please look at the <a href=\"./working-with-python/Intro_to_Python_and_Jupyter.ipynb\" target=\"_blank\">Introduction to Python and Project Jupyter</a> module to get a short introduction to their usage and benefits. Refer to this module's <a href=\"https://gitlab.eumetsat.int/eumetlab/oceans/ocean-training/applications/ocean-case-studies\n",
    "\" target=\"_blank\">**README**</a> for further information on how to set up Jupyter."
   ]
  },
  {
   "cell_type": "markdown",
   "metadata": {},
   "source": [
    "<div class=\"alert alert-info\" role=\"alert\">\n",
    "\n",
    "## <a id='TOC_TOP'></a>Contents\n",
    "\n",
    "</div>\n",
    "\n",
    "The case study library contains the following notebooks:\n",
    "\n",
    "1. **UN Ocean Decade**\n",
    "  * Challenge 01: coming soon\n",
    "  * [Challenge 02: Marine heatwaves intensification threatens coral reef health](./Case_studies/UN_Ocean_Decade/Challenge02_ecosystems_and_biodiversity/Marine_heatwaves_intensification_threatens_coral_reef_health.ipynb) *(SLSTR & OSTIA)*\n",
    "  * [Challenge 03: Deoxygenation impacts marine life in the Benguela](./Case_studies/UN_Ocean_Decade/Challenge03_sustainable_food/Deoxygenation_impacts_marine_life_benguela.ipynb) *(OLCI)*\n",
    "  * Challenge 04: Coming soon\n",
    "  * Challenge 05: Coming soon\n",
    "  * Challenge 06: Coming soon\n",
    "  * Challenge 07: Coming soon\n",
    "  * Challenge 08: Coming soon\n",
    "  * Challenge 09: Coming soon\n",
    "  * Challenge 10: Coming soon\n",
    "  <br><br>\n",
    "\n",
    "2. **Ocean colour**\n",
    "  * Coming soon\n",
    "<br><br>\n",
    "\n",
    "3. **Thermal radiometry**\n",
    "  * Coming soon\n",
    "<br><br>\n",
    "\n",
    "4. **Altimetry**\n",
    "  * Coming soon\n",
    "<br><br>"
   ]
  },
  {
   "cell_type": "markdown",
   "metadata": {},
   "source": [
    "<hr>\n",
    "<a href=\"https://gitlab.eumetsat.int/eumetlab/ocean\">View on GitLab</a> | <a href=\"https://training.eumetsat.int/\">EUMETSAT Training</a> | <a href=mailto:ops@eumetsat.int>Contact helpdesk for support </a> | <a href=mailto:Copernicus.training@eumetsat.int>Contact our training team to collaborate on and reuse this material</a></span></p>"
   ]
  }
 ],
 "metadata": {
  "kernelspec": {
   "display_name": "Python 3 (ipykernel)",
   "language": "python",
   "name": "python3"
  },
  "language_info": {
   "codemirror_mode": {
    "name": "ipython",
    "version": 3
   },
   "file_extension": ".py",
   "mimetype": "text/x-python",
   "name": "python",
   "nbconvert_exporter": "python",
   "pygments_lexer": "ipython3",
   "version": "3.9.10"
  }
 },
 "nbformat": 4,
 "nbformat_minor": 4
}

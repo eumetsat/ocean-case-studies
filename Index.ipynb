{
 "cells": [
  {
   "cell_type": "markdown",
   "metadata": {
    "Collapsed": "false"
   },
   "source": [
    "<img src='https://gitlab.eumetsat.int/eumetlab/oceans/ocean-training/tools/frameworks/-/raw/main/img/UN_decade_banner.png' align='right' width='100%'/>"
   ]
  },
  {
   "cell_type": "markdown",
   "metadata": {},
   "source": [
    "<font color=\"#138D75\">**Copernicus Marine Training Service**</font> <br>\n",
    "**Copyright:** 2024 EUMETSAT <br>\n",
    "**License:** MIT <br>\n",
    "**Authors:** Ben Loveday (EUMETSAT/Innoflair UG), Hayley Evers-King (EUMETSAT), Vinca Rosmorduc (CLS), Marie Smith (CSIR), Noemi Marsico (EUMETSAT/Innoflair UG), Guillaume Aubert (EUMETSAT), Valters Zeizis (EUMETSAT/Innoflair UG)"
   ]
  },
  {
   "cell_type": "markdown",
   "metadata": {},
   "source": [
    "<html>\n",
    "  <div style=\"width:100%\">\n",
    "    <div style=\"float:left\"><a href=\"https://gitlab.eumetsat.int/eumetlab/oceans/ocean-training/applications/ocean-case-studies\"><img src=\"https://img.shields.io/badge/open-EUMETLAB-E67E22.svg?style=flat&logo=data:image/png;base64,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\" alt=\"Open in EUMETLAB\"></a></div>\n",
    "    <div style=\"float:left\"><p>&emsp;</p></div>\n",
    "  </div>\n",
    "  <div style=\"width:100%\">\n",
    "    <div style=\"float:left\"><a href=\"https://mybinder.org/v2/git/https%3A%2F%2Fgitlab.eumetsat.int%2Feumetlab%2Foceans%2Focean-training%2Fapplications%2Focean-case-studies/HEAD?urlpath=%2Ftree%2FIndex.ipynb\"><img src=\"https://mybinder.org/badge_logo.svg\" alt=\"Open in Binder\"></a></div>\n",
    "    <div style=\"float:left\"><p>&emsp;</p></div>\n",
    "  </div>\n",
    "  <div style=\"width:100%\">\n",
    "    <div style=\"float:left\"><a href=\"https://jupyterhub-wekeo.apps.eumetsat.dpi.wekeo.eu/hub/user-redirect/lab/tree/public/wekeo4oceans/ocean-case-studies/Index.ipynb\"><img src=\"https://img.shields.io/badge/launch-WEKEO-1a4696.svg?style=flat&logo=data:image/png;base64,iVBORw0KGgoAAAANSUhEUgAAAA8AAAAMCAMAAACKnBfWAAAABGdBTUEAALGPC/xhBQAAACBjSFJNAAB6JgAAgIQAAPoAAACA6AAAdTAAAOpgAAA6mAAAF3CculE8AAABwlBMVEUAYbdepNtBc7VCdLhNhMQkXKpsn9RWltFZl9VlpNI3aK9fpNtMd7ZznM8pg8o4WJc2TZFHY6MmQYptiLxnqt5hptxfpNtfpNtfpNtgpdtip9x2uullqN1fpNtdo9pepdtanNQ9a65Bc7dCeb5nqt5fpNslUpssW6RMgcBTjstWldJhptxdo9phoNdkpdtfpNtoqNxepNplo9hepNthnNNfpdtelM1hptxSgL5dj8hoqt5fpNsjRYgjPog8WqBHa61TfLplqN1fpdtfpdxam9IyTIw2TZFGYaBoqt5hptxfpdtepNpfpNtgpdtjp9x5vu5do9pHgb5co9pepNtHgbwWN4AVP5AhU6JLgL9dl89epNphpttgpdtipttnqd1ho9glSIkWM3snSokeTJdHda9cksphndRmqNyTweaWxOePv+WfyemAs91QYphFUmpuclhKYHRwh5V8pNNdls6iyuq72fCNvuWIueCIlbtTW2hwcFNTY2lmfpSBpNJZj8lsq91xr99nqdx4suBrqds7V5AlNm85S20lRIJVcZxZgr1Uh8NcotpbotpdpNtGfrcTKnAOKXsYOYo4XKRJcbNHfbf////t/CgnAAAAUHRSTlMAAAAAAAAAAAAAAAAAAAAAAAAAAByF2PfyxGAJLcH+9pQvJgsav/7s57hBf/3gQdO69vH18dK4fN0+GLz96uSzPCq99JArIgkagNTz7r9bB4DtcFsAAAABYktHRJUIYHqDAAAAB3RJTUUH5wIKESIRAg6dCwAAALtJREFUCNdjYGAUERUTl5CUkmZiZmFlY2CUkZULAAJ5BUUlZXYOBhXVADAIVFPX0NTiZNDWAXKCgkNCw8IjInX1GPSjomNi4+ITEpOSU1LTDBgM0zMys7JzcvPyCwqLio0YjKNKSstKyisqq6prautMGEwD6hsam5pbWtvaOzq7zBjMdbq7g3p6+/onTJw02cKSwcoaYt8UG1s7ewcuBm5HJ7B7nF1c3dx5eBn4uD08vbx9fP38+QUEhYQB5Z40RP8+e1wAAAAldEVYdGRhdGU6Y3JlYXRlADIwMjMtMDItMTBUMTc6MzM6NDUrMDA6MDCCLR1xAAAAJXRFWHRkYXRlOm1vZGlmeQAyMDIzLTAyLTEwVDE3OjI2OjU5KzAwOjAw393bowAAAABJRU5ErkJggg==\" alt=\"Open in WEkEO\"></a></div>\n",
    "    <div style=\"float:left\"><p>&emsp;</p></div>\n",
    "  </div>  \n",
    "</html>"
   ]
  },
  {
   "cell_type": "markdown",
   "metadata": {
    "jp-MarkdownHeadingCollapsed": true
   },
   "source": [
    "<div class=\"alert alert-block alert-success\">\n",
    "<h3>Ocean case studies</h3></div>\n",
    "<hr>"
   ]
  },
  {
   "cell_type": "markdown",
   "metadata": {
    "Collapsed": "false"
   },
   "source": [
    "# Index for the ocean-case-studies module\n",
    "\n",
    "### Module outline\n",
    "\n",
    "Welcome to the **ocean-case-studies** module. This repository consists of a series of Jupyter Notebooks that either reflect one or more facets of a marine case study, as published on the EUMETSAT website, or focusses on a specific ocean region or oceanographic phenomenon. Though ancillary data sources may be used, the notebooks focus on the use of Copernicus Marine data from <a href=\"https://www.eumetsat.int/sentinel-3\" target=\"_blank\">Sentinel-3</a> and <a href=\"https://www.eumetsat.int/sentinel-6\" target=\"_blank\">Sentinel-6</a> provided by EUMETSAT. Many of the cases are highlight specific uses of individual sensors to monitor ocean phenomena, and/or how to use their data in combination with other data streams. Others are linked to <a href=\"https://www.oceandecade.org/challenges/\" target=\"_blank\">UN Ocean Decade challenges</a>.\n",
    "\n",
    "The list of case studies is every-growing and the EUMETSAT Copernicus Marine Training Service aims to produce a new notebook alongside every new marine case study published on our website, where feasible.\n",
    "\n",
    "Case studies that align with the UN Ocean Decade priorities are organised according to the challenge they respond to. The list of challenges is below;\n",
    "\n",
    "* Challenge 1: Understand and beat marine pollution\n",
    "* Challenge 2: Protect and restore ecosystems and biodiversity\n",
    "* Challenge 3: Sustainably feed the global population\n",
    "* Challenge 4: Develop a sustainable and equitable ocean economy\n",
    "* Challenge 5: Unlock ocean-based solutions to climate change\n",
    "* Challenge 6: Increase community resilience to ocean hazards\n",
    "* Challenge 7: Expand the Global Ocean Observing System\n",
    "* Challenge 8: Create a digital representation of the Ocean\n",
    "* Challenge 9: Skills, knowledge and technology for all\n",
    "* Challenge 10: Change humanity’s relationship with the ocean\n",
    "\n",
    "<hr>\n",
    "\n",
    "### How to use this material\n",
    "\n",
    "This module is based around a series of **<a href=\"https://jupyter.org/\" target=\"_blank\">Jupyter Notebooks</a>**. These support high-level interactive learning by allowing us to combine code, text descriptions and data visualisations. If you have not worked with Jupyter Notebooks before, please look at the **<a href=\"./working-with-python/Intro_to_Python_and_Jupyter.ipynb\" target=\"_blank\">Introduction to Python and Project Jupyter</a>** module to get a short introduction to their usage and benefits. Refer to this module's <a href=\"https://gitlab.eumetsat.int/eumetlab/oceans/ocean-training/applications/ocean-case-studies\" target=\"_blank\">**README**</a> for further information on how to set up Jupyter.\n",
    "\n",
    "This module is split into three parts, focussed on:\n",
    "* Case studies that are relevant to the <font color=\"#3498DB\">**UN Ocean Decade**</font>, challenges.\n",
    "* Case studies that are focus on the <font color=\"#1F618D\">**marine applications**</font>.\n",
    "* Workflows that focus on <font color=\"#D35400\">**data acquisition and synthesis**</font>\n",
    "\n",
    "In all cases, we use a mix of <font color=\"#1E8449\">**Ocean Colour**</font>, <font color=\"#C0392B\">**Thermal radiometry**</font> and <font color=\"#8E44AD\">**Altimetry**</font> data sets. The sources and types used are colour coded in the the menu below. \n",
    "\n",
    "There is no suggested order in which to access the notebooks, but pre-requisites where applicable are listed at the top of each notebook. Not all notebooks may be relevant for every user, so we have tried to make each one as self contained as possible.\n",
    "\n",
    "<hr>\n",
    "\n",
    "### Learning outcomes\n",
    "\n",
    "Very broadly, from this module, you can expect to learn:\n",
    "* How to use multiple remote-sensing based data sets to address the UN ocean decade challenges\n",
    "* How to work with the Copernicus marine data streams from Sentinel-3 and Sentinel-6\n",
    "* How to contextualise satellite data with products from different levels (e.g. level-1B to level-4)\n",
    "* How to combine Earth observation data with *in situ* measurements and model simulations\n",
    "\n",
    "Each notebook contains more specific information on its expected learning outcomes.\n",
    "\n",
    "<hr>"
   ]
  },
  {
   "cell_type": "markdown",
   "metadata": {},
   "source": [
    "<div class=\"alert alert-info\" role=\"alert\">\n",
    "\n",
    "## <a id='TOC-TOP'></a>Contents\n",
    "\n",
    "</div>\n",
    "\n",
    "The case study library contains the following notebooks:\n",
    "\n",
    "1. <font color=\"#3498DB\">**UN Ocean Decade**</font>\n",
    "* **Challenge 01:** coming soon\n",
    "* <a href=\"./Case_studies/UNOD/Ch02/MHW_reefs/MHW_intensification_coral_reef_health.ipynb\">**Challenge 02:** Marine heatwaves intensification threatens coral reef health</a> *(<font color=\"#C0392B\">**Sentinel-3 SLSTR & OSTIA SST**</font>)*\n",
    "* <a href=\"./Case_studies/UNOD/Ch03/Deoxygenation_benguela/Deoxygenation_benguela.ipynb\">**Challenge 03:** Deoxygenation impacts marine life in the Benguela</a> *(<font color=\"#1E8449\">**Sentinel-3 OLCI ocean colour**</font>)*\n",
    "* **Challenge 04:** Coming soon\n",
    "* <a href=\"./Case_studies/UNOD/Ch05/Quantifying_PIC_POC/Quantifying_PIC_POC.ipynb\">**Challenge 05:** Quantifying particulate organic and inorganic carbon in the ocean</a> *(<font color=\"#1E8449\">**Sentinel-3 OLCI ocean colour**</font>)*\n",
    "* <a href=\"./Case_studies/UNOD/Ch05/ENSO_evolution_2023/ENSO_altimetry_hovmoller.ipynb\">**Challenge 05:** Observing marine ENSO progression throughout 2023</a> *(<font color=\"#8E44AD\">**Copernicus Marine Service level-4 altimetry**</font>)*\n",
    "* <a href=\"./Case_studies/UNOD/Ch06/Tropical_cyclones_altimetry/Tropical_cyclones_altimetry.ipynb\">**Challenge 06:** Tracking tropical storm impacts using altimetry</a> *(<font color=\"#8E44AD\">**Sentinel-3 SRAL & Sentinel-6 altimetry**</font>)*\n",
    "* <a href=\"./Case_studies/UNOD/Ch07/SLR_S6/Coming_soon.md\">**Challenge 07:** Quantifying sea level rise with Sentinel-6</a> *(<font color=\"#8E44AD\">**Sentinel-3 SRAL & Sentinel-6 altimetry**</font>)* *(coming soon)*\n",
    "* **Challenge 08:** Coming soon\n",
    "* **Challenge 09:** Coming soon\n",
    "* **Challenge 10:** Coming soon\n",
    "<br><br>\n",
    "\n",
    "2. <font color=\"#1F618D\">**Marine applications**</font>\n",
    "* **Climate system monitoring: cryosphere:** *coming soon*\n",
    "     <hr>\n",
    "* **Climate system monitoring: ocean:** <a href=\"./Case_studies/CSM_ocean/Atl_Med_anomalies/Atlantic_Med_SST_anomalies.ipynb\">Sea surface temperature anomalies and trends in the Northern Atlantic and Mediterranean Sea</a> *(<font color=\"#C0392B\">**Sentinel-3 SLSTR & OSTIA SST**</font>)*\n",
    "* **Climate system monitoring: ocean:** <a href=\"./Case_studies/CSM_ocean/Med_MHW_2023/Med_MHW.ipynb\">Marine heatwaves in the Mediterranean Sea</a> *(<font color=\"#C0392B\">**Copernicus Marine Service OSTIA & C3S/CCI SST**</font>)*\n",
    "     <hr>\n",
    "* **Maritime safety:** <a href=\"./Case_studies/Maritime_safety/Topography_SWH/Land_altimetry_SWH.ipynb\">Linking land topography with altimetry derived winds and significant wave height</a> *(<font color=\"#8E44AD\">**Sentinel-3 SRAL altimetry**</font>)*\n",
    "* **Maritime safety:** <a href=\"./Case_studies/Maritime_safety/Extreme_waves/SWH_storms_2023.ipynb\">Exploring extreme waves during a major North Atlantic winter storms in November, 2023</a> *(<font color=\"#8E44AD\">**Sentinel-3 SRAL altimetry**</font>, <font color=\"#8E44AD\">**Copernicus Marine Service Global Wave Reanalysis**</font>)*\n",
    "     <hr>\n",
    "* **Ocean biogeochemistry:** *coming soon*\n",
    "     <hr>\n",
    "* **Ocean dynamics:** <a href=\"./Case_studies/Ocean_dynamics/Agulhas_biophysical/Coming_soon.md\">Variability and biophysical interactions in the Agulhas Current</a> *(<font color=\"#1E8449\">**Sentinel-3 OLCI ocean colour**</font>, <font color=\"#C0392B\">**Sentinel-3 SLSTR & OSTIA SST**</font>, <font color=\"#8E44AD\">**Sentinel-3 SRAL altimetry**</font> & <font color=\"#8E44AD\">**Globcurrent velocity**</font>)*  *(coming soon)*\n",
    "* **Ocean dynamics:** <a href=\"./Case_studies/Ocean_dynamics/Alboran_gyre_variability/Coming_soon.md\">Mesoscale variability in the Alboran Gyre</a> *(<font color=\"#1E8449\">**Sentinel-3 OLCI ocean colour**</font>, <font color=\"#C0392B\">**Sentinel-3 SLSTR SST**</font>)* *(coming soon)*\n",
    "    <hr>\n",
    "* **Water quality:** <a href=\"./Case_studies/Water_quality/Algal_blooms/Algal_blooms_baltic_2023.ipynb\">Investigating cyanobacterial algal blooms in the Baltic Sea</a> *(<font color=\"#1E8449\">**Sentinel-3 OLCI ocean colour**</font>, <font color=\"#1E8449\">**Copernicus Marine Service Ocean Colour products**</font>)*\n",
    "    <hr><br>\n",
    "\n",
    "3. <font color=\"#D35400\">**Data acquisition and synthesis**</font>\n",
    "* <a href=\"./Case_studies/Acq_syn/Altimetry_cycles_orbits/Altimetry_orbit_cycle_selection.ipynb\">Selecting altimetry products by orbital parameter</a> *(<font color=\"#8E44AD\">**Sentinel-3 SRAL altimetry**</font> & <font color=\"#8E44AD\">**Sentinel-6 altimetry**</font>)*\n",
    "* <a href=\"./Case_studies/Acq_syn/Cruise_tracks/Cruise_tracker.ipynb\">Downloading data to supporting oceanographic cruises</a> *(<font color=\"#1E8449\">**Sentinel-3 OLCI ocean colour**</font>, <font color=\"#C0392B\">**Sentinel-3 SLSTR SST**</font>)*\n",
    "* <a href=\"./Case_studies/Acq_syn/Automated_downloads/Automated_downloads.ipynb\">Automated downloading of EUMETSAT marine products</a> (***All sensors***)\n",
    "* <a href=\"./Case_studies/Acq_syn/Data_cubes/Pan_collection_cubes.ipynb\">Creating pan-collection times series and data cubes with the EUMETSAT Data Tailor\n",
    "</a> (***All sensors***)\n",
    "<br><br>"
   ]
  },
  {
   "cell_type": "markdown",
   "metadata": {},
   "source": [
    "<div class=\"alert alert-block alert-success\">\n",
    "    \n",
    "### Do you have ideas to for case studies to include in this repository?\n",
    "We'd love to hear them, if so, and would be happy to collaborate with you on generating them.\n",
    "</div>"
   ]
  },
  {
   "cell_type": "markdown",
   "metadata": {},
   "source": [
    "<hr>\n",
    "<a href=\"https://gitlab.eumetsat.int/eumetlab/ocean\">View on GitLab</a> | <a href=\"https://training.eumetsat.int/\">EUMETSAT Training</a> | <a href=mailto:ops@eumetsat.int>Contact helpdesk for support </a> | <a href=mailto:training@eumetsat.int>Contact our training team to collaborate on and reuse this material</a></span></p>"
   ]
  }
 ],
 "metadata": {
  "author": "Ben Loveday, Hayley Evers-King",
  "description": "This repository provides case study examples using EUMETSAT Copernicus marine data",
  "image": "./img/thumbs/Index_thumb.png",
  "kernelspec": {
   "display_name": "Python 3 (ipykernel)",
   "language": "python",
   "name": "python3"
  },
  "language_info": {
   "codemirror_mode": {
    "name": "ipython",
    "version": 3
   },
   "file_extension": ".py",
   "mimetype": "text/x-python",
   "name": "python",
   "nbconvert_exporter": "python",
   "pygments_lexer": "ipython3",
   "version": "3.10.14"
  },
  "services": {
   "eumetsat": {
    "binder": {
     "link": "https://mybinder.org/v2/git/https%3A%2F%2Fgitlab.eumetsat.int%2Feumetlab%2Foceans%2Focean-training%2Fapplications%2Focean-case-studies/HEAD?urlpath=%2Ftree%2FIndex.ipynb",
     "service_contact": "ops@eumetsat.int",
     "service_provider": "EUMETSAT"
    },
    "git": {
     "link": "https://gitlab.eumetsat.int/eumetlab/oceans/ocean-training/applications/ocean-case-studies/-/blob/main/Index.ipynb",
     "service_contact": "ops@eumetsat.int",
     "service_provider": "EUMETSAT"
    }
   },
   "wekeo": {
    "git": {
     "link": "",
     "service_contact": "ops@eumetsat.int",
     "service_provider": "EUMETSAT"
    },
    "url": {
     "link": "",
     "service_contact": "ops@eumetsat.int",
     "service_provider": "EUMETSAT"
    }
   }
  },
  "tags": {
   "data access": [
    "Data store",
    "WEkEO",
    "Copernicus Marine Data Store"
   ],
   "domain": [
    "Marine",
    "Climate"
   ],
   "platform": [
    "Sentinel-3",
    "Sentinel-6",
    "Multimission"
   ],
   "provider": [
    "EUMETSAT",
    "Copernicus Marine Service"
   ],
   "sensor": [
    "OLCI",
    "SLSTR",
    "SRAL",
    "Poseidon-4",
    "Multisensor"
   ],
   "service": [
    "Altimetry",
    "Ocean colour",
    "Sea surface temperature"
   ],
   "subtheme": [
    "Climate system monitoring - Ocean",
    "Maritime safety",
    "Ocean biogeochemistry",
    "Oceans dynamics",
    "Water quality"
   ],
   "tags": [
    "Top-of-atmosphere radiance",
    "Water leaving reflectance",
    "Chlorophyll concentration",
    "Photosynthetically active radiation",
    "Diffuse attentuation coefficient",
    "Coloured dissolved organic matter absorption coefficient",
    "Total suspended matter concentration",
    "Ocean colour",
    "Sea surface temperature",
    "Altimetry",
    "Sea surface height",
    "Significant wave height",
    "Wind speed"
   ]
  },
  "title": "Welcome to the EUMETSAT ocean-case-studies GitLab repository"
 },
 "nbformat": 4,
 "nbformat_minor": 4
}

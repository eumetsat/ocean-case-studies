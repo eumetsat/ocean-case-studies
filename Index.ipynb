{
 "cells": [
  {
   "cell_type": "markdown",
   "metadata": {
    "Collapsed": "false"
   },
   "source": [
    "<img src='./frameworks/img/EU-Copernicus-EUM-WEKEO_banner_logo.png' align='right' width='75%'/>"
   ]
  },
  {
   "cell_type": "markdown",
   "metadata": {},
   "source": [
    "<font color=\"#138D75\">**Copernicus Marine Training Service**</font> <br>\n",
    "**Copyright:** 2022 EUMETSAT <br>\n",
    "**License:** MIT <br>\n",
    "**Author:** B. Loveday (Innoflair UG / EUMETSAT)"
   ]
  },
  {
   "cell_type": "markdown",
   "metadata": {},
   "source": [
    "<div class=\"alert alert-block alert-success\">\n",
    "<h3>Ocean case studies</h3></div>\n",
    "<hr>"
   ]
  },
  {
   "cell_type": "markdown",
   "metadata": {
    "Collapsed": "false"
   },
   "source": [
    "<div class=\"alert alert-info\" role=\"alert\">\n",
    "\n",
    "## Index\n",
    "\n",
    "</div>\n",
    "\n",
    "### Learning outcomes (optional)\n",
    "\n",
    "### Outline\n",
    "\n",
    "The **ocean-case-studies** module consists of a series of Jupyter Notebooks that reflect one or more facets of a marine case study, as published on the EUMETSAT website. Though ancillary data sources may be used, the notebooks focus on the use of Copernicus Marine data from Sentinel-3 and Sentinel-6 provided by EUMETSAT. Many of the cases are highlight specific uses of individual sensors, while others are linked to [UN Ocean Decade challenges](https://www.oceandecade.org/challenges/). The list of case studies is every-growing and the Copernicus Marine Training Service, aims to produce a new notebook alongside every new marine case study published on our website, where feasible.\n",
    "\n",
    "### How to use this material\n",
    "\n",
    "The code is based around a series of [Jupyter notebooks](https://jupyter.org/). These support high-level interactive learning by allowing us to combine code, text descriptions and data visualisations. If you have not worked with `Jupyter Notebooks` before, please look at the [Introduction to Python and Project Jupyter](./working-with-python/Intro_to_Python_and_Jupyter_WIP.ipynb) module to get a short introduction to their benefits.\n",
    "<hr>"
   ]
  },
  {
   "cell_type": "markdown",
   "metadata": {},
   "source": [
    "<div class=\"alert alert-info\" role=\"alert\">\n",
    "\n",
    "## <a id='TOC_TOP'></a>Contents\n",
    "\n",
    "</div>\n",
    "\n",
    "The case study library contains the following notebooks:\n",
    "\n",
    "1. **UN Ocean Decade**\n",
    "  * [Challenge 1: River plumes WIP](./case_studies/UN_Ocean_Decade/Challenge01_marine_pollution/River_plot.ipynb)\n",
    "  * [Challenge 2: GBR bleaching WIP](./case_studies/UN_Ocean_Decade/Challenge02_ecosystems_and_biodiversity/GBR_plot.ipynb)\n",
    "  * [Challenge 3: Coastal deoxygenation: South African red tides WIP](./case_studies/UN_Ocean_Decade/Challenge03_sustainable_food/Coastal_deoxygenation_South_African_red_tides_OLCI_spectral_plot.ipynb)\n",
    "  <br><br>\n",
    "\n",
    "2. **Ocean colour**\n",
    "  * link\n",
    "<br><br>\n",
    "\n",
    "3. **Thermal radiometry**\n",
    "  * link\n",
    "<br><br>\n",
    "\n",
    "4. **Altimetry**\n",
    "  * link\n",
    "<br><br>"
   ]
  },
  {
   "cell_type": "markdown",
   "metadata": {},
   "source": [
    "<hr>\n",
    "<a href=\"https://gitlab.eumetsat.int/eumetlab/ocean\">View on GitLab</a> | <a href=\"https://training.eumetsat.int/\">EUMETSAT Training</a> | <a href=mailto:ops@eumetsat.int>Contact helpdesk for support </a> | <a href=mailto:Copernicus.training@eumetsat.int>Contact our training team to collaborate on and reuse this material</a></span></p>"
   ]
  }
 ],
 "metadata": {
  "kernelspec": {
   "display_name": "Python 3 (ipykernel)",
   "language": "python",
   "name": "python3"
  },
  "language_info": {
   "codemirror_mode": {
    "name": "ipython",
    "version": 3
   },
   "file_extension": ".py",
   "mimetype": "text/x-python",
   "name": "python",
   "nbconvert_exporter": "python",
   "pygments_lexer": "ipython3",
   "version": "3.9.10"
  }
 },
 "nbformat": 4,
 "nbformat_minor": 4
}

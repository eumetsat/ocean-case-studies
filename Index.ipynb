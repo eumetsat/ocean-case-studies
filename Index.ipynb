{
 "cells": [
  {
   "cell_type": "markdown",
   "metadata": {
    "Collapsed": "false"
   },
   "source": [
    "<img src='https://gitlab.eumetsat.int/eumetlab/oceans/ocean-training/tools/frameworks/-/raw/main/img/UN_decade_banner.png' align='right' width='100%'/>"
   ]
  },
  {
   "cell_type": "markdown",
   "metadata": {},
   "source": [
    "<font color=\"#138D75\">**Copernicus Marine Training Service**</font> <br>\n",
    "**Copyright:** 2024 European Union <br>\n",
    "**License:** MIT <br>\n",
    "**Authors:** Ben Loveday (EUMETSAT/Innoflair UG), Hayley Evers-King (EUMETSAT), Vinca Rosmorduc (CLS), Marie Smith (CSIR), Noemi Marsico (EUMETSAT/Innoflair UG), Guillaume Aubert (EUMETSAT), Valters Zeizis (EUMETSAT/Innoflair UG)"
   ]
  },
  {
   "attachments": {},
   "cell_type": "markdown",
   "metadata": {},
   "source": [
    "<html>\n",
    "   <div style=\"float:left\"><p>&emsp;</p></div>\n",
    "   <div style=\"float:left\"><a href=\"https://gitlab.eumetsat.int/eumetlab/oceans/ocean-training/applications/ocean-case-studies\"><img src=\"https://img.shields.io/badge/open-EUMETLAB-E67E22.svg\"></a></div>\n",
    "   <div style=\"float:left\"><p>&emsp;</p></div>\n",
    "   <div style=\"float:left\"><a href=\"https://user.eumetsat.int/data/themes/marine\"><img src=\"https://img.shields.io/badge/open-USER PORTAL-154360.svg\"></a></div>\n",
    "   <div style=\"float:left\"><p>&emsp;</p></div>\n",
    "   <div style=\"float:left\"><a href=\"https://mybinder.org/v2/git/https%3A%2F%2Fgitlab.eumetsat.int%2Feumetlab%2Foceans%2Focean-training%2Fapplications%2Focean-case-studies/HEAD?labpath=Index.ipynb\"><img src=\"https://mybinder.org/badge_logo.svg\"></a></div>\n",
    "   <div style=\"float:left\"><p>&emsp;</p></div>\n",
    "   <div style=\"float:left\"><a href=\"https://jupyterhub.prod.wekeo2.eu/hub/user-redirect/lab/tree/public/wekeo4oceans/ocean-case-studies/Index.ipynb\"><img src=\"https://img.shields.io/badge/launch-WEKEO-1a4696.svg\"></a></div>\n",
    "   <div style=\"float:left\"><p>&emsp;</p></div>\n",
    "   <div style=\"float:left\"><a href=\"https://code.insula.destine.eu/hub/\"><img src=\"https://img.shields.io/badge/launch-DestinE-f43fd3.svg\"></a></div></div>\n",
    "</html>"
   ]
  },
  {
   "cell_type": "markdown",
   "metadata": {
    "jp-MarkdownHeadingCollapsed": true
   },
   "source": [
    "<div class=\"alert alert-block alert-success\">\n",
    "<h3>Ocean case studies</h3></div>\n",
    "<hr>"
   ]
  },
  {
   "cell_type": "markdown",
   "metadata": {
    "Collapsed": "false"
   },
   "source": [
    "# Index for the ocean-case-studies module\n",
    "\n",
    "### Module outline\n",
    "\n",
    "Welcome to the **ocean-case-studies** module. This repository consists of a series of Jupyter Notebooks that either reflect one or more facets of a marine case study, as published on the EUMETSAT website, or focusses on a specific ocean region or oceanographic phenomenon. Though ancillary data sources, such as those from EUMETSAT mandatory missions or the <a href=\"https://marine.copernicus.eu/\" target=\"_blank\">Copernicus Marine Service</a> may be used, the notebooks focus on the use of Copernicus Marine data from <a href=\"https://www.eumetsat.int/sentinel-3\" target=\"_blank\">Sentinel-3</a> and <a href=\"https://www.eumetsat.int/sentinel-6\" target=\"_blank\">Sentinel-6</a> provided by EUMETSAT. Many of the cases are highlight specific uses of individual sensors to monitor ocean phenomena, and/or how to use their data in combination with other data streams. Others are linked to <a href=\"https://www.oceandecade.org/challenges/\" target=\"_blank\">UN Ocean Decade challenges</a>.\n",
    "\n",
    "The list of case studies is every-growing and the EUMETSAT Copernicus Marine Training Service aims to produce a new notebook alongside every new marine case study published on our website, where feasible.\n",
    "\n",
    "Case studies that align with the UN Ocean Decade priorities are organised according to the challenge they respond to. The list of challenges is below;\n",
    "\n",
    "* Challenge 1: Understand and beat marine pollution\n",
    "* Challenge 2: Protect and restore ecosystems and biodiversity\n",
    "* Challenge 3: Sustainably feed the global population\n",
    "* Challenge 4: Develop a sustainable and equitable ocean economy\n",
    "* Challenge 5: Unlock ocean-based solutions to climate change\n",
    "* Challenge 6: Increase community resilience to ocean hazards\n",
    "* Challenge 7: Expand the Global Ocean Observing System\n",
    "* Challenge 8: Create a digital representation of the Ocean\n",
    "* Challenge 9: Skills, knowledge and technology for all\n",
    "* Challenge 10: Change humanity’s relationship with the ocean\n",
    "\n",
    "<hr>\n",
    "\n",
    "### How to use this material\n",
    "\n",
    "This module is based around a series of <a href=\"https://jupyter.org/\" target=\"_blank\">Jupyter Notebooks</a>. These support high-level interactive learning by allowing us to combine code, text descriptions and data visualisations. If you have not worked with Jupyter Notebooks before, please look at the <a href=\"./working-with-python/Intro_to_Python_and_Jupyter.ipynb\" target=\"_blank\">Introduction to Python and Project Jupyter</a> module to get a short introduction to their usage and benefits. Refer to this module's <a href=\"https://gitlab.eumetsat.int/eumetlab/oceans/ocean-training/applications/ocean-case-studies\" target=\"_blank\">README</a> for further information on how to set up Jupyter.\n",
    "\n",
    "This module is split into three parts, focussed on:\n",
    "* Case studies that are relevant to the <font color=\"#3498DB\">**UN Ocean Decade**</font>, challenges.\n",
    "* Case studies that are focus on the <font color=\"#1F618D\">**marine applications**</font>.\n",
    "* Workflows that focus on <font color=\"#D35400\">**data acquisition and synthesis**</font>\n",
    "\n",
    "In all cases, we use a mix of <font color=\"#1E8449\">**Ocean Colour**</font>, <font color=\"#C0392B\">**Thermal radiometry**</font> and <font color=\"#8E44AD\">**Altimetry**</font> data sets. The sources and types used are colour coded in the the menu below. \n",
    "\n",
    "There is no suggested order in which to access the notebooks, but pre-requisites where applicable are listed at the top of each notebook. Not all notebooks may be relevant for every user, so we have tried to make each one as self contained as possible.\n",
    "\n",
    "<hr>\n",
    "\n",
    "### Learning outcomes\n",
    "\n",
    "Very broadly, from this module, you can expect to learn:\n",
    "* How to use multiple remote-sensing based data sets to address the UN ocean decade challenges\n",
    "* How to work with the Copernicus marine data streams from Sentinel-3 and Sentinel-6\n",
    "* How to contextualise satellite data with products from different levels (e.g. level 1b to level 4)\n",
    "* How to combine Earth observation data with *in situ* measurements and model simulations\n",
    "\n",
    "Each notebook contains more specific information on its expected learning outcomes.\n",
    "\n",
    "<hr>"
   ]
  },
  {
   "cell_type": "markdown",
   "metadata": {},
   "source": [
    "<div class=\"alert alert-info\" role=\"alert\">\n",
    "\n",
    "## <a id='TOC-TOP'></a>Contents\n",
    "\n",
    "</div>\n",
    "\n",
    "The case study library contains the following notebooks:\n",
    "\n",
    "1. <font color=\"#3498DB\">**UN Ocean Decade**</font>\n",
    "* **Challenge 01:** coming soon\n",
    "* <a href=\"./Case_studies/UNOD/Ch02/MHW_reefs/MHW_intensification_coral_reef_health.ipynb\">**Challenge 02:** Marine heatwaves intensification threatens coral reef health</a> *(<font color=\"#C0392B\">**Sentinel-3 SLSTR & OSTIA SST**</font>)*\n",
    "* <a href=\"./Case_studies/UNOD/Ch02/Algal_blooms/Algal_blooms_summer_2024.ipynb\">**Challenge 02:** Viewing algal blooms in European seas during Summer 2024</a> *(<font color=\"#1E8449\">**Sentinel-3 OLCI ocean colour**</font>)*\n",
    "* <a href=\"./Case_studies/UNOD/Ch03/Deoxygenation_benguela/Deoxygenation_benguela.ipynb\">**Challenge 03:** Deoxygenation impacts marine life in the Benguela</a> *(<font color=\"#1E8449\">**Sentinel-3 OLCI ocean colour**</font>)*\n",
    "* **Challenge 04:** Coming soon\n",
    "* <a href=\"./Case_studies/UNOD/Ch05/Quantifying_PIC_POC/Quantifying_PIC_POC.ipynb\">**Challenge 05:** Quantifying particulate organic and inorganic carbon in the ocean</a> *(<font color=\"#1E8449\">**Sentinel-3 OLCI ocean colour**</font>)*\n",
    "* <a href=\"./Case_studies/UNOD/Ch05/ENSO_evolution_2023/ENSO_altimetry_hovmoller.ipynb\">**Challenge 05:** Observing marine ENSO progression throughout 2023</a> *(<font color=\"#8E44AD\">**Copernicus Marine Service level-4 altimetry**</font>)*\n",
    "* <a href=\"./Case_studies/UNOD/Ch06/Tropical_cyclones_altimetry/Tropical_cyclones_altimetry.ipynb\">**Challenge 06:** Tracking tropical storm impacts using altimetry</a> *(<font color=\"#8E44AD\">**Sentinel-3 SRAL & Sentinel-6 altimetry**</font>)*\n",
    "* <a href=\"./Case_studies/UNOD/Ch06/Thessaly_floods/Coming_soon.md\">**Challenge 06:** Monitoring coastal and lake water quality since the 2023 floods in Thessaly, Greece.</a> *(<font color=\"#8E44AD\">**Sentinel-3 SRAL & Sentinel-6 altimetry**</font>)* *(coming soon)*\n",
    "* <a href=\"./Case_studies/UNOD/Ch07/SLR_S6/SLR_with_S6.ipynb\">**Challenge 07:** Quantifying sea level rise with Sentinel-6</a> *(<font color=\"#8E44AD\">**Sentinel-6 altimetry**</font>)*\n",
    "* **Challenge 08:** Coming soon\n",
    "* **Challenge 09:** Coming soon\n",
    "* **Challenge 10:** Coming soon\n",
    "<br>\n",
    "\n",
    "<hr>\n",
    "\n",
    "2. <font color=\"#1F618D\">**Marine applications**</font>\n",
    "* **Climate system monitoring: cryosphere:** *coming soon*\n",
    "* **Climate system monitoring: ocean:** <a href=\"./Case_studies/CSM_ocean/Atl_Med_anomalies/Atlantic_Med_SST_anomalies.ipynb\">Sea surface temperature anomalies and trends in the Northern Atlantic and Mediterranean Sea</a> *(<font color=\"#C0392B\">**Sentinel-3 SLSTR & OSTIA SST**</font>)*\n",
    "* **Climate system monitoring: ocean:** <a href=\"./Case_studies/CSM_ocean/Med_MHW_2023/Med_MHW.ipynb\">Marine heatwaves in the Mediterranean Sea</a> *(<font color=\"#C0392B\">**Copernicus Marine Service OSTIA & C3S/CCI SST**</font>)*\n",
    "* **Maritime safety:** <a href=\"./Case_studies/Maritime_safety/Topography_SWH/Land_altimetry_SWH.ipynb\">Linking land topography with altimetry derived winds and significant wave height</a> *(<font color=\"#8E44AD\">**Sentinel-3 SRAL altimetry**</font>)*\n",
    "* **Maritime safety:** <a href=\"./Case_studies/Maritime_safety/Extreme_waves/SWH_storms_2023.ipynb\">Exploring extreme waves during a major North Atlantic winter storms in November, 2023</a> *(<font color=\"#8E44AD\">**Sentinel-3 SRAL altimetry**</font>, <font color=\"#8E44AD\">**Copernicus Marine Service Global Wave Reanalysis**</font>)*\n",
    "* **Ocean biogeochemistry:** *coming soon*\n",
    "* **Ocean dynamics:** <a href=\"./Case_studies/Ocean_dynamics/Agulhas_biophysical/Coming_soon.md\">Variability and biophysical interactions in the Agulhas Current</a> *(<font color=\"#1E8449\">**Sentinel-3 OLCI ocean colour**</font>, <font color=\"#C0392B\">**Sentinel-3 SLSTR & OSTIA SST**</font>, <font color=\"#8E44AD\">**Sentinel-3 SRAL altimetry**</font> & <font color=\"#8E44AD\">**Globcurrent velocity**</font>)*  *(coming soon)*\n",
    "* **Ocean dynamics:** <a href=\"./Case_studies/Ocean_dynamics/Alboran_gyre_variability/Coming_soon.md\">Mesoscale variability in the Alboran Gyre</a> *(<font color=\"#1E8449\">**Sentinel-3 OLCI ocean colour**</font>, <font color=\"#C0392B\">**Sentinel-3 SLSTR SST**</font>)* *(coming soon)*\n",
    "* **Water quality:** <a href=\"./Case_studies/Water_quality/Algal_blooms/Algal_blooms_baltic_2023.ipynb\">Investigating cyanobacterial algal blooms in the Baltic Sea</a> *(<font color=\"#1E8449\">**Sentinel-3 OLCI ocean colour**</font>, <font color=\"#1E8449\">**Copernicus Marine Service Ocean Colour products**</font>)*\n",
    "<br>\n",
    "\n",
    "<hr>\n",
    "\n",
    "3. <font color=\"#D35400\">**Data acquisition and synthesis**</font>\n",
    "* <a href=\"./Case_studies/Acq_syn/Altimetry_cycles_orbits/Altimetry_orbit_cycle_selection.ipynb\">Selecting altimetry products by orbital parameter</a> *(<font color=\"#8E44AD\">**Sentinel-3 SRAL altimetry**</font> & <font color=\"#8E44AD\">**Sentinel-6 altimetry**</font>)*\n",
    "* <a href=\"./Case_studies/Acq_syn/Cruise_tracks/Cruise_tracker.ipynb\">Downloading data to supporting oceanographic cruises</a> *(<font color=\"#1E8449\">**Sentinel-3 OLCI ocean colour**</font>)*\n",
    "* <a href=\"./Case_studies/Acq_syn/Automated_downloads/Automated_downloads.ipynb\">Automated downloading of EUMETSAT marine products</a> (***All sensors***)\n",
    "* <a href=\"./Case_studies/Acq_syn/Data_cubes/Pan_collection_cubes.ipynb\">Creating pan-collection times series and data cubes with the EUMETSAT Data Tailor\n",
    "</a> (***All sensors***)\n",
    "<br><br>"
   ]
  },
  {
   "cell_type": "markdown",
   "metadata": {},
   "source": [
    "<div class=\"alert alert-block alert-success\">\n",
    "    \n",
    "### Do you have ideas to for case studies to include in this repository?\n",
    "We'd love to hear them, if so, and would be happy to collaborate with you on generating them.\n",
    "</div>"
   ]
  },
  {
   "cell_type": "markdown",
   "metadata": {},
   "source": [
    "<hr>\n",
    "<a href=\"https://gitlab.eumetsat.int/eumetlab/ocean\">View on GitLab</a> | <a href=\"https://training.eumetsat.int/\">EUMETSAT Training</a> | <a href=mailto:ops@eumetsat.int>Contact helpdesk for support </a> | <a href=mailto:training@eumetsat.int>Contact our training team to collaborate on and reuse this material</a></span></p>"
   ]
  }
 ],
 "metadata": {
  "author": "Ben Loveday, Hayley Evers-King, Vinca Rosmorduc",
  "content_type": "Software & code",
  "data_access": [
   "Data Store",
   "Data Tailor",
   "WEkEO",
   "CMEMS"
  ],
  "deployment": {
   "eumetsat": {
    "binder": {
     "link": "https://mybinder.org/v2/git/https%3A%2F%2Fgitlab.eumetsat.int%2Feumetlab%2Foceans%2Focean-training%2Fapplications%2Focean-case-studies/HEAD?labpath=Index.ipynb",
     "service_contact": "ops@eumetsat.int",
     "service_provider": "EUMETSAT"
    },
    "git": {
     "link": "https://gitlab.eumetsat.int/eumetlab/oceans/ocean-training/applications/ocean-case-studies/-/blob/main/Index.ipynb",
     "service_contact": "ops@eumetsat.int",
     "service_provider": "EUMETSAT"
    }
   },
   "wekeo": {
    "git": {
     "link": "https://github.com/wekeo/ocean-case-studies/blob/main/Index.ipynb",
     "service_contact": "ops@eumetsat.int",
     "service_provider": "EUMETSAT"
    },
    "url": {
     "link": "https://jupyterhub.prod.wekeo2.eu/hub/user-redirect/lab/tree/public/wekeo4oceans/ocean-case-studies/Index.ipynb",
     "service_contact": "ops@eumetsat.int",
     "service_provider": "EUMETSAT"
    }
   }
  },
  "description": "This repository provides case study examples using EUMETSAT Copernicus marine data",
  "image": "./img/thumbs/Index_thumb.png",
  "kernelspec": {
   "display_name": "Python 3 (ipykernel)",
   "language": "python",
   "name": "python3"
  },
  "language_info": {
   "codemirror_mode": {
    "name": "ipython",
    "version": 3
   },
   "file_extension": ".py",
   "mimetype": "text/x-python",
   "name": "python",
   "nbconvert_exporter": "python",
   "pygments_lexer": "ipython3",
   "version": "3.10.17"
  },
  "license": "MIT",
  "metadata_schema_version": "2.0.0",
  "originator": "EUMETSAT",
  "tags": {
   "data_provider": [
    "EUMETSAT",
    "CMEMS"
   ],
   "orbit": "LEO",
   "satellite": [
    "Sentinel-3",
    "Sentinel-6",
    "Multimission"
   ],
   "sensor": [
    "OLCI (Sentinel-3)",
    "SLSTR (Sentinel-3)",
    "SRAL (Sentinel-3)",
    "Poseidon-4 (Sentinel-6)",
    "Multisensor"
   ],
   "service": [
    "Altimetry",
    "Ocean colour",
    "Sea surface temperature"
   ],
   "subtheme": [
    "Climate system monitoring - Ocean",
    "Maritime safety",
    "Ocean biogeochemistry",
    "Ocean dynamics",
    "Water quality"
   ],
   "theme": "Marine",
   "variable": [
    "Top-of-atmosphere radiance",
    "Water leaving reflectance",
    "Chlorophyll concentration",
    "Total suspended matter",
    "Ocean colour",
    "Particulate organic carbon",
    "Particulate inorganic carbon",
    "Significant wave height",
    "Sea surface height",
    "Wind speed",
    "Sea surface temperature"
   ]
  },
  "title": "Welcome to the EUMETSAT ocean-case-studies GitLab repository",
  "version": "2.0.0",
  "version_date": "2024-09-02"
 },
 "nbformat": 4,
 "nbformat_minor": 4
}

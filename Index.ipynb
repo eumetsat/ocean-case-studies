{
 "cells": [
  {
   "cell_type": "markdown",
   "metadata": {
    "Collapsed": "false"
   },
   "source": [
    "<img src='https://gitlab.eumetsat.int/eumetlab/oceans/ocean-training/tools/frameworks/-/raw/main/img/UN_decade_banner.png' align='right' width='100%'/>"
   ]
  },
  {
   "cell_type": "markdown",
   "metadata": {},
   "source": [
    "<font color=\"#138D75\">**Copernicus Marine Training Service**</font> <br>\n",
    "**Copyright:** 2023 EUMETSAT <br>\n",
    "**License:** MIT <br>\n",
    "**Authors:** Ben Loveday (EUMETSAT/Innoflair UG), Hayley Evers-King (EUMETSAT), Vinca Rosmorduc (CLS), Marie Smith (CSIR), Noemi Marsico (EUMETSAT/Innoflair UG), Guillaume Aubert (EUMETSAT), Valters Zeizis (EUMETSAT/Innoflair UG)"
   ]
  },
  {
   "cell_type": "markdown",
   "metadata": {},
   "source": [
    "<html>\n",
    "  <div style=\"width:100%\">\n",
    "    <div style=\"float:left\"><a href=\"https://mybinder.org/v2/git/https%3A%2F%2Fgitlab.eumetsat.int%2Feumetlab%2Foceans%2Focean-training%2Fapplications%2Focean-case-studies/HEAD?urlpath=%2Ftree%2FIndex.ipynb\"><img src=\"https://mybinder.org/badge_logo.svg\" alt=\"Open in Binder\"></a></div>\n",
    "    <div style=\"float:left\"><p>&emsp;</p></div>\n",
    "  </div>\n",
    "  <div style=\"width:100%\">\n",
    "    <div style=\"float:left\"><a href=\"https://jupyterhub-wekeo.apps.eumetsat.dpi.wekeo.eu/hub/user-redirect/lab/tree/public/wekeo4oceans/ocean-case-studies/Index.ipynb\"><img src=\"https://img.shields.io/badge/launch-WEKEO-1a4696.svg?style=flat&logo=data:image/png;base64,iVBORw0KGgoAAAANSUhEUgAAAA8AAAAMCAMAAACKnBfWAAAABGdBTUEAALGPC/xhBQAAACBjSFJNAAB6JgAAgIQAAPoAAACA6AAAdTAAAOpgAAA6mAAAF3CculE8AAABwlBMVEUAYbdepNtBc7VCdLhNhMQkXKpsn9RWltFZl9VlpNI3aK9fpNtMd7ZznM8pg8o4WJc2TZFHY6MmQYptiLxnqt5hptxfpNtfpNtfpNtgpdtip9x2uullqN1fpNtdo9pepdtanNQ9a65Bc7dCeb5nqt5fpNslUpssW6RMgcBTjstWldJhptxdo9phoNdkpdtfpNtoqNxepNplo9hepNthnNNfpdtelM1hptxSgL5dj8hoqt5fpNsjRYgjPog8WqBHa61TfLplqN1fpdtfpdxam9IyTIw2TZFGYaBoqt5hptxfpdtepNpfpNtgpdtjp9x5vu5do9pHgb5co9pepNtHgbwWN4AVP5AhU6JLgL9dl89epNphpttgpdtipttnqd1ho9glSIkWM3snSokeTJdHda9cksphndRmqNyTweaWxOePv+WfyemAs91QYphFUmpuclhKYHRwh5V8pNNdls6iyuq72fCNvuWIueCIlbtTW2hwcFNTY2lmfpSBpNJZj8lsq91xr99nqdx4suBrqds7V5AlNm85S20lRIJVcZxZgr1Uh8NcotpbotpdpNtGfrcTKnAOKXsYOYo4XKRJcbNHfbf////t/CgnAAAAUHRSTlMAAAAAAAAAAAAAAAAAAAAAAAAAAByF2PfyxGAJLcH+9pQvJgsav/7s57hBf/3gQdO69vH18dK4fN0+GLz96uSzPCq99JArIgkagNTz7r9bB4DtcFsAAAABYktHRJUIYHqDAAAAB3RJTUUH5wIKESIRAg6dCwAAALtJREFUCNdjYGAUERUTl5CUkmZiZmFlY2CUkZULAAJ5BUUlZXYOBhXVADAIVFPX0NTiZNDWAXKCgkNCw8IjInX1GPSjomNi4+ITEpOSU1LTDBgM0zMys7JzcvPyCwqLio0YjKNKSstKyisqq6prautMGEwD6hsam5pbWtvaOzq7zBjMdbq7g3p6+/onTJw02cKSwcoaYt8UG1s7ewcuBm5HJ7B7nF1c3dx5eBn4uD08vbx9fP38+QUEhYQB5Z40RP8+e1wAAAAldEVYdGRhdGU6Y3JlYXRlADIwMjMtMDItMTBUMTc6MzM6NDUrMDA6MDCCLR1xAAAAJXRFWHRkYXRlOm1vZGlmeQAyMDIzLTAyLTEwVDE3OjI2OjU5KzAwOjAw393bowAAAABJRU5ErkJggg==\" alt=\"Open in WEkEO\"></a></div>\n",
    "    <div style=\"float:left\"><p>&emsp;</p></div>\n",
    "  </div>  \n",
    "</html>"
   ]
  },
  {
   "cell_type": "markdown",
   "metadata": {},
   "source": [
    "<div class=\"alert alert-block alert-success\">\n",
    "<h3>Ocean case studies</h3></div>\n",
    "<hr>"
   ]
  },
  {
   "cell_type": "markdown",
   "metadata": {
    "Collapsed": "false"
   },
   "source": [
    "# Index for the ocean-case-studies module\n",
    "\n",
    "### Module outline\n",
    "\n",
    "The **ocean-case-studies** module consists of a series of Jupyter Notebooks that reflect one or more facets of a marine case study, as published on the EUMETSAT website. Though ancillary data sources may be used, the notebooks focus on the use of Copernicus Marine data from <a href=\"https://www.eumetsat.int/sentinel-3\" target=\"_blank\">Sentinel-3</a> and <a href=\"https://www.eumetsat.int/sentinel-6\" target=\"_blank\">Sentinel-6</a> provided by EUMETSAT. Many of the cases are highlight specific uses of individual sensors and/or how to use their data \n",
    "in combination with other data streams. Others are linked to <a href=\"https://www.oceandecade.org/challenges/\" target=\"_blank\">UN Ocean Decade challenges</a>. The list of case studies is every-growing and the Copernicus Marine Training Service, aims to produce a new notebook alongside every new marine case study published on our website, where feasible.\n",
    "\n",
    "Case studies that align with the UN Ocean Decade priorities are organised according to the challenge they respond to. The list of challenges is below;\n",
    "\n",
    "* Challenge 1: Understand and beat marine pollution\n",
    "* Challenge 2: Protect and restore ecosystems and biodiversity\n",
    "* Challenge 3: Sustainably feed the global population\n",
    "* Challenge 4: Develop a sustainable and equitable ocean economy\n",
    "* Challenge 5: Unlock ocean-based solutions to climate change\n",
    "* Challenge 6: Increase community resilience to ocean hazards\n",
    "* Challenge 7: Expand the Global Ocean Observing System\n",
    "* Challenge 8: Create a digital representation of the Ocean\n",
    "* Challenge 9: Skills, knowledge and technology for all\n",
    "* Challenge 10: Change humanity’s relationship with the ocean\n",
    "\n",
    "<hr>\n",
    "\n",
    "### How to use this material\n",
    "\n",
    "This module is based around a series of <a href=\"https://jupyter.org/\" target=\"_blank\">Jupyter Notebooks</a>. These support high-level interactive learning by allowing us to combine code, text descriptions and data visualisations. If you have not worked with Jupyter Notebooks before, please look at the <a href=\"./working-with-python/Intro_to_Python_and_Jupyter.ipynb\" target=\"_blank\">Introduction to Python and Project Jupyter</a> module to get a short introduction to their usage and benefits. Refer to this module's <a href=\"https://gitlab.eumetsat.int/eumetlab/oceans/ocean-training/applications/ocean-case-studies\n",
    "\" target=\"_blank\">**README**</a> for further information on how to set up Jupyter.\n",
    "\n",
    "This module is split into four parts, focussed on:\n",
    "* Case studies that are relevant to the <font color=\"#3498DB\">**UN Ocean Decade**</font>, challenges.\n",
    "* Case studies that are focus on the **thematic** use of <font color=\"#1E8449\">**Ocean Colour**</font>, <font color=\"#C0392B\">**Thermal radiometry**</font> and <font color=\"#8E44AD\">**Altimetry**</font> applications.\n",
    "\n",
    "There is no suggested order in which to access the notebooks, but pre-requisites where applicable are listed at the top of each notebook. Not all notebooks may be relevant for every user, so we have tried to make each one as self contained as possible.\n",
    "\n",
    "<hr>\n",
    "\n",
    "### Learning outcomes\n",
    "\n",
    "Very broadly, from this module, you can expect to learn:\n",
    "* How to use multiple remote-sensing based data sets to address the UN ocean decade challenges\n",
    "* How to work with the Copernicus marine data streams from Sentinel-3 and Sentinel-6\n",
    "* How to combine Earth observation data with *in situ* measurements and model simulations\n",
    "\n",
    "Each notebook contains more specific information on its expected learning outcomes.\n",
    "\n",
    "<hr>"
   ]
  },
  {
   "cell_type": "markdown",
   "metadata": {},
   "source": [
    "<div class=\"alert alert-info\" role=\"alert\">\n",
    "\n",
    "## <a id='TOC_TOP'></a>Contents\n",
    "\n",
    "</div>\n",
    "\n",
    "The case study library contains the following notebooks:\n",
    "\n",
    "1. <font color=\"#3498DB\">**UN Ocean Decade**</font>\n",
    "  * Challenge 01: coming soon\n",
    "  * [Challenge 02: Marine heatwaves intensification threatens coral reef health](./Case_studies/UN_Ocean_Decade/Challenge02_ecosystems_and_biodiversity/Marine_heatwaves_intensification_threatens_coral_reef_health.ipynb) *(<font color=\"#C0392B\">**Sentinel-3 SLSTR & OSTIA**</font>)*\n",
    "  * [Challenge 03: Deoxygenation impacts marine life in the Benguela](./Case_studies/UN_Ocean_Decade/Challenge03_sustainable_food/Deoxygenation_impacts_marine_life_benguela.ipynb) *(<font color=\"#1E8449\">**Sentinel-3 OLCI**</font>)*\n",
    "  * Challenge 04: Coming soon\n",
    "  * [Challenge 05: Quantifying particulate organic and inorganic carbon in the ocean](./Case_studies/UN_Ocean_Decade/Challenge05_ocean_solutions_climate_change/Quantifying_particulate_organic_and_inorganic_carbon_in_the_ocean.ipynb) *(<font color=\"#1E8449\">**Sentinel-3 OLCI**</font>)*\n",
    "   * [Challenge 06: Tracking tropical storm impacts using altimetry](./Case_studies/UN_Ocean_Decade/Challenge06_community_resilience_ocean_hazards/Tracking_tropical_cyclone_impacts_using_altimetry.ipynb) *(<font color=\"#8E44AD\">**Sentinel-3 SRAL / Sentinel-6**</font>)*\n",
    "  * Challenge 07: Coming soon\n",
    "  * Challenge 08: Coming soon\n",
    "  * Challenge 09: Coming soon\n",
    "  * Challenge 10: Coming soon\n",
    "  <br><br>\n",
    "\n",
    "2. **Thematic**\n",
    "  * Biophysical interactions in the Agulhas Current: Coming soon *(<font color=\"#1E8449\">**Sentinel-3 OLCI**</font>, <font color=\"#C0392B\">**SLSTR**</font> and <font color=\"#8E44AD\">**SRAL**</font>)*\n",
    "<br><br>\n",
    "\n"
   ]
  },
  {
   "cell_type": "markdown",
   "metadata": {},
   "source": [
    "<hr>\n",
    "<a href=\"https://gitlab.eumetsat.int/eumetlab/ocean\">View on GitLab</a> | <a href=\"https://training.eumetsat.int/\">EUMETSAT Training</a> | <a href=mailto:ops@eumetsat.int>Contact helpdesk for support </a> | <a href=mailto:Copernicus.training@eumetsat.int>Contact our training team to collaborate on and reuse this material</a></span></p>"
   ]
  }
 ],
 "metadata": {
  "kernelspec": {
   "display_name": "Python 3 (ipykernel)",
   "language": "python",
   "name": "python3"
  },
  "language_info": {
   "codemirror_mode": {
    "name": "ipython",
    "version": 3
   },
   "file_extension": ".py",
   "mimetype": "text/x-python",
   "name": "python",
   "nbconvert_exporter": "python",
   "pygments_lexer": "ipython3",
   "version": "3.9.16"
  }
 },
 "nbformat": 4,
 "nbformat_minor": 4
}

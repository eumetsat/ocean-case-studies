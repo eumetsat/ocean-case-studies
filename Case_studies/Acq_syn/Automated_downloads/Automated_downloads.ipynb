{
 "cells": [
  {
   "cell_type": "markdown",
   "metadata": {},
   "source": [
    "<img src='https://gitlab.eumetsat.int/eumetlab/oceans/ocean-training/tools/frameworks/-/raw/main/img/Standard_banner.png' align='right' width='100%'/>"
   ]
  },
  {
   "cell_type": "markdown",
   "metadata": {},
   "source": [
    "<a href=\"../../../Index.ipynb\"><< Index</a>\n",
    "<br>"
   ]
  },
  {
   "cell_type": "markdown",
   "metadata": {},
   "source": [
    "<font color=\"#138D75\">**Copernicus Marine Training Service**</font> <br>\n",
    "**Copyright:** 2024 European Union <br>\n",
    "**License:** MIT <br>\n",
    "**Authors:** Ben Loveday (EUMETSAT/Innoflair UG), Hayley Evers-King (EUMETSAT)"
   ]
  },
  {
   "cell_type": "markdown",
   "metadata": {},
   "source": [
    "<html>\n",
    "  <div style=\"width:100%\">\n",
    "    <div style=\"float:left\"><a href=\"https://gitlab.eumetsat.int/eumetlab/oceans/ocean-training/applications/ocean-case-studies\"><img src=\"https://img.shields.io/badge/open-EUMETLAB-E67E22.svg?style=flat&logo=data:image/png;base64,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\" alt=\"Open in EUMETLAB\"></a></div>\n",
    "    <div style=\"float:left\"><p>&emsp;</p></div>\n",
    "  </div>\n",
    "  <div style=\"width:100%\">\n",
    "    <div style=\"float:left\"><a href=\"https://user.eumetsat.int/search-view?sort=startDate%20desc&facets=%7B%22contentTypes%22:%5B%22Resources%7CCase%20studies%22%5D,%22theme%22:%5B%22Marine%22,%22Marine%7CMaritime%20safety%22,%22Marine%7COcean%20biogeochemistry%22,%22Marine%7COcean%20dynamics%22,%22Marine%7CWater%20quality%22%5D%7D\"><img src=\"https://img.shields.io/badge/open-USER PORTAL-154360.svg?style=flat&logo=data:image/png;base64,iVBORw0KGgoAAAANSUhEUgAAAhMAAAITCAYAAAC9o54kAAAACXBIWXMAAC4jAAAuIwF4pT92AAAb0klEQVR42u3df5SXdZ338XeteQ4x5b2T3sIZ8NcQoKw0B1DCRHe/Q3arKWKokAb+QKMUXQp/ZEmKypqSrGLebKIubCYiyqSrs1swpaNO2mDfaAWGZjJxZoep7knlO8457Tl39x97j1ttpszMd77XdX0fj/88px/ymrAn1/W5rus9cfjc3wUAQD+91wQAgJgAAMQEACAmAAAxAQAgJgAAMQEAiAkAQEwAAIgJAEBMAABiAgAQEwAAYgIAEBMAgJgAAMQEAICYAADEBAAgJgAAMQEAiAkAADEBAIgJAEBMAABiAgBATAAAYgIAEBMAgJgAABATAICYAADEBAAgJgAAxAQAICYAADEBAIgJAEBMAACICQBATAAAYgIAEBMAAGICABATAICYAADEBACAmAAAxAQAICYAADEBACAmAAAxAQCICQBATAAAiAkAQEwAAGICABATAICYAAAQEwCAmAAAxAQAICYAAMQEACAmAAAxAQCICQAAMQEAiAkAQEwAAGICAEBMAABiAgAQEwCAmAAAxAQAgJgAAMQEACAmAAAxAQAgJgAAMQEAiAkAQEwAAIgJAEBMAABiAgAQEwAAYgIAEBMAgJgAAMQEACAmAADEBAAgJgAAMQEAiAkAADEBAIgJAEBMAABiAgBATAAAxbOfCSDbcpOro/KA4XHY6IPikKqDIiJidNVBMWrkh97611SNPDBGHlw5oP+eltb22Ft4862/3r5rd7z+xn/+9dM/3B4REa2v/DLybXv8UCBj3hOHz/2dGSC9qiorYlrNEfGRCYfFAR94f0wYd0h88APvjyk1YxP791zo6Y2dP3s12jv/T7za8avYtuOVeO31ntjYsM0PFMQEUEyzcxPjsNEHxdFHHhpHjT0kxn94dFQMH5apX2NnV3d0dP46mpp3xrYdr0TztpddzQAxAfRHTfWImHH8hDj6yENj6qTxMW7MqLLdou9KRl9g1D/10+joLvgfCYgJ4PflJlfH3xw3IY6bMj6OnTQuc1ccBltLa3vs+Nmr8ewL22PzMy+5egFiAspP35WHjx17VMw4oUY8DEJcPP/izmh8fkes2dRkEBATkE25ydUx/6wTy/62xVBoaMzHc80745EnX3DVAsQEpNuCWdPi1BlTXH0ooZbW9nj48Wfi+8+9FA1b2wwCYgIEBP3X2dUd9377u65YgJiA5Om7hfHxEycN+AVQDI2+KxarH2jwdAiICSiNqsqKmHva1Fhw7iecgUi5hsZ8PFjX6PAmiAkYGrnJ1bHowlPijJOnGSNjOru6Y+Pjz8R9D/3AbRAQEzD4lsyvdRWijNTVN8UDjzzlNd8gJmBgqior4uqFn4wL5n7cYcoy1dLaHmse+NdYsXaLMUBMwLtXUz0ivvqFs9zK4C19T4I4sAliAkQEA1Lo6Y37H/xefG31P4sKEBPwX2bnJsbn5v+vyE2vMQaiAsQEvHuuRCAqQEyAiCBRUXH58vXGQExAlvU9nbFowenGoCg6u7rj9tWbPP2BmIAsunHR6fG3l8z0iCdDoqW1Pb5yy7e8pwIxAVkwOzcx7rz5Et/MoCQaGvPxxWXrvFETMQFpVFM9Ir6+dJ4nNCg55ykQE5BCd147x1srSZzOru64/MvfdOsDMQFJNjs3MW665jzfzyDR6uqb4rLr7vcoKWICkqSqsiKWX3V2zDt7hjFIhUJPbyxeusZnzxETkAQOWJJmDY35mLf4blcpEBNQCq5GkBWuUiAmoARyk6vjW3ctdjWCTHGVgjR6rwlIozuvnRNbHr5RSJC9SJ5eEz964paYnZtoDFLjL+Ivj77eDKRFVWVFNDxwbcw65ThjkFkfqBgWZ59+fHxo+PuivvHfDELiuTJBaiyYNS12PnVHTKkZawzKwqIFp8ePHr0+aqpHGAMxAQN157Vz4p6vL/ICKsrOlJqx0Vh3s9seJJrbHCSa2xoQsf/+73PbAzEB/ZGbXB3Pfmd5HHaIS7wQETF10rg4YuQBUbf5x8ZATMA7WTK/Nr71jS/G/vu/zxjwez4y4Yjoee21eO4nLxuDxNjPBCTN2lsu9BIq+DNu++pF8dobb3rBFYnhACaJUVVZEVvWXiUk4F1YuWxB5CZXGwIxAX8QEuuXRm56jTHgXagYPizu/rvPRlVlhTEQE5CbXB07n7rDJ8NhH40bMyqWX3W2IRATlLfZuYnxnX+81vsjoJ/mnT0jFsyaZgjEBOVpyfzaeHjNNUICBmjZVee63YGYoDxD4ravXmQIGAQjD650uwMxgZAABmbe2TN8wwMxQXnY9I1FQgKK5J7bFhoBMUH2Q+KMkx0Ug2KZUjPWB8EQEwgJYGCuvuxMIyAmEBJA/02pGevNmIgJhAQwMIsuPMUIiAmy4c5r5wgJKIEZJ9R47wRigvRbMr82Fi043RBQAhXDh8Xc06YaAjFBukPC459QWifnJhsBMUE6LZg1TUhAAuSmu9WBmCCN//CaXB0rly0wBCSEWx2ICVIXEr7+CcnysWOPMgJignSoqqyIu//us0ICEmbqpHFGQEyQDlvWL41xY0YZAhJm5MGVPv6FmCD5Nn1jkZCABJsy8XAjICZIrhsXne6lVJBwE4881AiICZJpdm5ifGXxHENAwk0Yd4gREBMkT031iLj/jisMASnwwQ+83wiICZKlqrIi1v/vL3hyA1Ji/IdHGwExQbLcdeMFDlxCigh/xASJsmR+rQOXAIgJ+ic3uTq+uuTThoCU/v4FMUFJecMlpFvlAcONgJigtJyTAEBM0G8LZk1zTgIAMUH/1FSP8ElxAMQE/XfPbQudkwBATNA/Ny46PabUjDUEZEDrK780AmKCoVVTPSL+9pKZhoCMyLftMQJigqHl9gYAYoJ+c3sDsqXQ02sExARDp6qywu0NyJidP3vVCIgJhs66lZ93ewMy5o29bxoBMcHQmJ2bGLnpNYaAjHmpZbcREBMUX1VlRdx58yWGgAza3fErIyAmKL6rF34yRh5caQjIoF+8KiYQExRZTfWIuGDuxw0BGbWxYZsREBMU19eXznPoEjKqpbXdCIgJisuhS8i2HR4LRUxQbDddc54RIMOefWG7ERATFM+S+bUxbswoQ0CGbX7mJSMgJiieLyycZQTIsM6ubh/4QkxQPDcuOt2joJBxz7/YYgTEBMXh+xtQHpyXQExQNFcv/KRHQaEMPPj480ZATDD4qiorvKAKykBzfld0dBcMgZhg8LkqAeXhX77/ohEQEww+VyWgfDzy5AtGQEww+FyVgPLQ0trukVDEBMXhqgSUh4cff8YIiAkG35L5ta5KQJlY/UCDERATDD5vu4Ty0NCY9xQHYoLBt2DWNG+7hDJR37DVCIgJBt9nP/MJI0AZKPT0xoq1WwyBmGBw5SZXx5SasYaAMvDoE88agZLZzwTZtejCU4wAZeKDHxged147JxV/r0//cHtsbNjmh5Yh74nD5/7ODNlTVVkR7c3fNASQOM35XXHMmdcbIkPc5siohefmjAAk0pSasVFTPcIQYoKku+jTJxkBSKzFF7sNKyZItNm5iR4HBRLtzFM/ZgQxQZKd+6kTjQAkWsXwYbFkfq0hxARJVFVZETNOqDEEkHgn5yYbQUyQRHNPm+o7HEAq5KbXOIgpJkiic2ZONwKQGp865VgjiAmSpKZ6hDdeAqly1mnHG0FMoPAB+m/cmFFudYgJFD7AwHjnhJggIWqqR8S4MaMMAaTOx0+cZAQxQRK4xQGk1ciDKyM3udoQYoJSc4sDSLMzPnGMEcQEpeQWB5B2J/21Wx1igpKacfwEIwCp5qkOMUGJeSUtkAXOfokJSig33bc4gPQ7bsp4I4gJSmHBrGlGAPzBCDFB/02feqQRAH9AQkzQf1MnuSwI+AMSYoJ+qqqs8Ego4A9IiAn6b+5pU40AZMq4MaOiqrLCEGKCofKxY48yApA5J594tBHEBENl6qRxRgAyx7kJMcEQqaqsiJEHVxoCyOAflJybEBMMCZcBgaxybkJMMERcBgSybFrNEUYQExTbUWMPMQKQWSd81AFzMUHRTakZawQgsyaM8wemNNnPBOmTm1xtBMiIzq7u6Oj8tSEQEwytSX91mBEgI867bGU0bG0zBKnmNkcKHX3koUaADLhp5XohgZigNBy+hPRrzu+K61Y9ZgjEBKUx/sOjjQApVujpjYuvXG0IxASlUVM9IiqGDzMEpNjipWsi37bHEIgJSmPMof/TCJBidfVNsWZTkyEQE5SOF7lAenV2dcdl191vCMQEpXXAB99vBEip8y5bGR3dBUMgJigtT3JAOnkMFDFBYlSNPNAIkDINjXmPgSImSI6RB1caAVKks6s75i2+2xCICZLBNzkgfZyTQEyQKJUHDDcCpIhzEogJEuew0QcZAVKirr7JOQnEBMlzSJWYgDRoaW33PgnEBMnkHROQfIWe3vj8l/7BOQnEBMnkHROQfIuXrnFOAjEBQP+sWvOY724gJkg2L6yC5GpozMfly9cbAjFBsnlhFSRTS2u7F1MhJgDoHwcuQUwADIgDlyAmUmN2bqIRIGFuWrnegUsQEwD94w2XICYA+q2ltT1mXbrKECAmAPZdZ1d31M5ZZggQEwD7rtDT65PiICbSyxdDofQuuOIOT26AmEgvXwyF0rryhntjY8M2Q4CYANh36zZsjhVrtxgCxATAvqurb4r519xnCBATAPuupbU9LrvufkOAmADoX0jUzlnmyQ0QEwD7rtDTG3M+d7uQADEB0L+QmHn+8si37TEGiAmAfeddEiAmAPrNuyRATGTa7o5fGQGKHBLeJQFiItN+8aqYgGKpq28SEiAmAPofEj4nDmICQEiAmAAYWt5uCWICYEAh4e2WICbKjsfVQEiAmAAosUJPr5AAMQHQ/5CYef5yIQFiory1tLYbAQYQEl6TDWKi7O0tvGkEEBIgJgCEBIgJSqSpeacRQEiAmAAYCjes+LaQADHBH/PlUHh3fAEUxARvw5dDQUiAmGBAWl/5pRFASICYoP/ybXuMAEICxAQD48VVICRATDAgXlwFQgLEBAPiXRMgJEBMMCCv73VlAoQEJMt+JkiXn7z0CyNQ9go9vXHOzOlxzszpxsiwN/a+GbXzbzWEmGCwNeV/bgTKXsXwYTGlZqwhMq45v8sIKeE2R8p0dBei0NNrCCDztu/abQQxQbHs/NmrRgAyb3fHr40gJigWT3QA5cAZMTFBEW3b8YoRgMzb2LDNCGKCYmne9rIRgEzztl8xQZHl2/Y4hAlk2g5nw8QExecQJpBl/7bT7VwxQdE5hAlk2fefe8kIYoJie/qH240AZFbD1jYjiAmKzZswgazy5ksxwRDp6C447Qxk8w9LbuOKCYbO8y/6DQdkj9u4YoIh1Pj8DiMAmeNlVWKCIVT/1E+NAGSK8xJigiHm3ASQNf/y/ReNICYYat/9gd94QHZ4v4SYoATq/vVHRgAyodDT6/0SYoJSaNja5jsdQCZsfjpvBDGB34AA/ffE5mYjiAlK5dkXPJMNpJ8n1MQEJfTg488bAUi1hsZ8dHQXDCEmKJWO7kI0NLrVAaRXfcNWI4gJ/EYE6L/Nz3gkVExQcm51AGnV0toe+bY9hhATlJpbHUBaPfz4M0YQEySFWx1AGq1+oMEIYoKkcKsDSBtPcYgJEsatDiBtXFEVEyTQg3WNRgBSodDT64pqRrwnDp/7OzNky96f3hsVw4cZgqL8w3/x0jXx2us9xmDAul/v8WGvjNjPBNnz6BPPxryzZxiCQdXS2h6f/9I/+Ic/8N+4zZFBK+950ggMekjUzlkmJAAxUS7ybXuiOb/LEAyKuvqmqJ2zzIl7QEyUm4e+4yAmgxMSsy5dJSSAP8sBzAxzEJOBuPKGe2PF2i2GAN6RKxMZ9ugTzxqBfVbo6Y2Lv7hKSABiAgcx6V9IzDx/eazZ1GQMQEzwnwcx6+r9nwLvTktre0w/48ue2ADEBH/ogUeeMgLvqDm/K2rnLPMZaEBM8N9tbNjmMVH+rLr6pjjmzOs9sQGICd6ex0R5OzetXB+zLl1lCGBAPBpaJv696a4YeXClIYiI//rGhoOWwGBwZaJM3L56kxF4KyQ8sQGICfbZirVborOr2xBlrqW1PcafeIUnNgAxQf+4OlHefGMDKBZnJsqMsxPlad2GzTH/mvsMARSFKxNlxtWJ8nPlDfcKCaCoXJkoQ65OlIe+g5bORwDF5spEGXJ1Ivu8GhsQExTVirVbvBUzwxoa816NDYgJiu9rdz1qhAxat2Fz1M6/1RMbgJig+HyzI1sKPb0OWgJigqF38ZWrjZCRkJh5/vJYsXaLMQAxwdDKt+2JdRs2GyLFvNESEBOU3LW3bohCT68hUqiuvinGn3SV8xGAmKC0OroLccOKbxsiZXw6HBATJIpHRdOj0NMbZy24Ja5b9ZgxADFBslx98z8ZIeFaWttj5vnLY2PDNmMAYoLkadja5jBmkn8+//9FVA5aAmKCRLv21g3R2dVtiIRZteYxL6ICxATp0NFdiMu//E1DJEShpzcu/uKquHz5emMAYoL02NiwLRoa84Yosb7zEWs2NRkDEBOkz7zFd3v3RAk5HwGICVKvo7sQi5euMUQJOB8BiAkyY82mJk93DCHnIwAxQSZ5umNoOB8BiAkyq6O7EOddttIQRVRX3+R8BCAmyLaGrW2xao1XNxdD3/c1nI8A0u49cfjc35mBd/KjR6+PKTVjDTEICj29ccEVd3gtNpAZrkzwrpyxYIXHRQdBS2t7TD/jy0ICEBOUn47uQlxwxR2GGIC6+qYYf9JVkW/bYwxATFCeNjZsc36iHwo9vXHlDffGrEtXGQPIJGcm2GfOT7x7nV3dcd5lKz2tAWSaKxPsszMWrPD+iXehoTEfx5x6jZAAxAT8sb73TziQ+fa8FhsQE/BOf+re2ub7HX9Coac3zlpwi9diA2XlL+Ivj77eDPTHizvb40PD3xdTJ40zRkQ053fF8Wcujee3v2oMoKy4MsGAXL58fdTV+6bEug2b45gzr3dbAyhLnuZgUOz87q0xbsyosvt1F3p6Y/HSNT7SBZQ1VyYYFLVzlkVLa3tZ/Zr73mYpJAAxAYOgo7sQcz53e9k84bFuw2ZvswQQEwy2fNuemHn+8kwHRd/bLOdfc58fOICYoBgatrZlNihaWttj5vnLY8XaLX7QAL/Ho6EMupc7fxP/8WZPnPTXkzLza6qrb4o5l94R237e5QcM8Ef2MwHF0Pen99u+elGqfx2Fnt64YcW3XY0A+DNcmaBonvvJy9Hz2mupvULR0toen1n09/FA/VY/TAAxgaDYN+s2bI75i+92WwPgXXCbg6JL0y0PL6EC2HeuTDAk0nCFoqW1PU79zM3x5HM7/cAAxASCYt+s27A5Zsy/Nfb8xrc1AMQEgmIfFHp649IvrY6ldz3uhwPQTz70RUnkJlfHd/7x2qgYPqxkfw/N+V1xxoIVvvQJMEDegElJlPpNmavWPOaT4QBigqwExVB+bbSzqztqz7ouLl++3g8AYJC4zUHJVVVWxJb1S2PcmFHFjZfGfMxbfLerEQCDzJUJSq6juxC1c5ZFXX1x3u3Q96XP2vm3CgmAInBlgkRZe8uFMe/sGYP2n9fS2h5zPnd75Nv2GBegSDwaSqLUbf7xoD06umrNY3HqJSu9OwKgyFyZIJEG8uhoZ1d3XP7lb8bGhm2GBBgCzkyQSA1b22L8iVfs85MeDY35OObUa4QEwBByZYLEG+xzFJBGhZ7euOCKO4QyieTMBInXd47iuGOOjP33f59BKDstre3xmUV/H0/4CB1iAvrvuZ+8HM+/8FJ8dNLYOLDygwahfGK6vinmXHpHbPt5lzEQEzBQL3f+JjY90RQH/o9h8ZEJRxiETOv7CN3VX38k9vb+1iCICRgse3t/G3Wbfxwdu/89csdPdNuDTGrO74pZF90aT7qtQUo4gElqVVVWRN2aJTGlZqwxyIxVax7z7RhSx5UJUmtv72/jnod+EPv93/+ISROrXaUg1Vpa2+Ocz94Wd29oNAap48oEmVBTPSLuuW2hqxSkkqsRpJ0rE2TCnt8UXKUgdVyNICtcmSBzqiorYt3Kz0dueo0xSKRCT2/c/+D3XI1ATEDSzc5NjDtvviRGHlxpDBKjOb8rLr5ytS/ZIiYgLaoqK+LqhZ+MRQtONwYl1dnVHUtvfSDWbGoyBmIC0qimekR8fek8tz4Ycn23NL62+p+jo7tgEMQEpN3s3MS46ZrzYtyYUcag6Orqm+KG2x92SwMxAVm0ZH5tfGHhLOcpKIrm/K64+uZ/ioatbcZATECW9Z2nuGDux6Ni+DCDMGAtre3xlVu+5TPhiAkQFbBvOru64/bVm2LF2i3GQEyAqBAViAgQEyAqKLLm/K546DuNIgLEBLxzVMw9baqDmvxBRHztrkediQAxAftuyfzaOGfmdB8SK1N19U2x6r4nPZ0BYgIGLje5OhZdeEqccfI0Y2RcZ1d3bHz8GS+bAjEBxVFVWRELz83FRZ8+yS2QjGlozMeDdY1eew1iAobO7NzEOPdTJ8aME2oc2EypvqsQ9z30A2+rBDEBpdN3YPPk3GTfAEmBQk9vbH46Hw888pQDlSAmIHlqqkfEp045Ns467XjfAUlgQDyxudltDBATkL6wOG7KeFcsBASICWBg+m6FfOzYo5yxKKLOru743lMvxuPfbXYLA8QEZFtucnWc8YljYtqU8d5hMQCFnt544cWWqG/YGpufeckhShATUL5m5ybGCR89Sly8g86u7tixa3c817wzvv/cS14mBWICeDu5ydXxN8dNiL8af2gc+eHRZXuYszm/K7bv2h2Nz++I5m0vu/IAYgIYiNm5ifGRCYfFIVUHxlFjD4nxHx6dmbMXnV3d0dH562hq3hnbdrwSP9/9S1cdQEwAQ6GqsiKm1RwRh40+KA6pOihGVx0Uo0Z+KKpGHpi4N3S2tLbH3sKbsX3X7nj9jTfj6R9uj+7Xe0QDiAkgDbEREW8FR59pU8b/yX/Pn7vi0XcF4Y+9sffNeKll91t/vW3HK/Ha6z0REZ6qADEBAPCnvdcEAICYAADEBAAgJgAAMQEAICYAADEBAIgJAEBMAACICQBATAAAYgIAEBMAAGICABATAICYAADEBACAmAAAxAQAICYAADEBAIgJAAAxAQCICQBATAAAYgIAQEwAAGICABATAICYAAAQEwCAmAAAxAQAICYAAMQEACAmAAAxAQCICQBATAAAiAkAQEwAAGICABATAABiAgAQEwCAmAAAxAQAgJgAAMQEACAmAAAxAQAgJgAAMQEAiAkAQEwAAIgJAEBMAABiAgAQEwCAmAAAEBMAgJgAAMQEACAmAADEBAAgJgAAMQEAiAkAADEBAIgJAEBMAABiAgBATAAAYgIAEBMAgJgAAMQEAICYAADEBAAgJgAAMQEAICYAADEBAIgJAEBMAACICQBATAAAYgIAEBMAAGICABATAICYAADEBAAgJgAAxAQAICYAADEBAIgJAAAxAQCICQBATAAA2ff/AA4EZoc5BGepAAAAAElFTkSuQmCC\" alt=\"Open in user portal\"></a></div>\n",
    "    <div style=\"float:left\"><p>&emsp;</p></div>\n",
    "  </div>\n",
    "  <div style=\"width:100%\">\n",
    "    <div style=\"float:left\"><a href=\"https://mybinder.org/v2/git/https%3A%2F%2Fgitlab.eumetsat.int%2Feumetlab%2Foceans%2Focean-training%2Fapplications%2Focean-case-studies/HEAD?labpath=Case_studies%2FAcq_syn%2FAutomated_downloads%2Automated_downloads.ipynb\"><img src=\"https://mybinder.org/badge_logo.svg\" alt=\"Open in Binder\"></a></div>\n",
    "    <div style=\"float:left\"><p>&emsp;</p></div>\n",
    "  </div>\n",
    "  <div style=\"width:100%\">\n",
    "    <div style=\"float:left\"><a href=\"https://jupyterhub-wekeo.apps.eumetsat.dpi.wekeo.eu/hub/user-redirect/lab/tree/public/wekeo4oceans/ocean-case-studies/Case_studies/Acq_syn/Automated_downloads/Automated_downloads.ipynb\"><img src=\"https://img.shields.io/badge/launch-WEKEO-1a4696.svg?style=flat&logo=data:image/png;base64,iVBORw0KGgoAAAANSUhEUgAAAA8AAAAMCAMAAACKnBfWAAAABGdBTUEAALGPC/xhBQAAACBjSFJNAAB6JgAAgIQAAPoAAACA6AAAdTAAAOpgAAA6mAAAF3CculE8AAABwlBMVEUAYbdepNtBc7VCdLhNhMQkXKpsn9RWltFZl9VlpNI3aK9fpNtMd7ZznM8pg8o4WJc2TZFHY6MmQYptiLxnqt5hptxfpNtfpNtfpNtgpdtip9x2uullqN1fpNtdo9pepdtanNQ9a65Bc7dCeb5nqt5fpNslUpssW6RMgcBTjstWldJhptxdo9phoNdkpdtfpNtoqNxepNplo9hepNthnNNfpdtelM1hptxSgL5dj8hoqt5fpNsjRYgjPog8WqBHa61TfLplqN1fpdtfpdxam9IyTIw2TZFGYaBoqt5hptxfpdtepNpfpNtgpdtjp9x5vu5do9pHgb5co9pepNtHgbwWN4AVP5AhU6JLgL9dl89epNphpttgpdtipttnqd1ho9glSIkWM3snSokeTJdHda9cksphndRmqNyTweaWxOePv+WfyemAs91QYphFUmpuclhKYHRwh5V8pNNdls6iyuq72fCNvuWIueCIlbtTW2hwcFNTY2lmfpSBpNJZj8lsq91xr99nqdx4suBrqds7V5AlNm85S20lRIJVcZxZgr1Uh8NcotpbotpdpNtGfrcTKnAOKXsYOYo4XKRJcbNHfbf////t/CgnAAAAUHRSTlMAAAAAAAAAAAAAAAAAAAAAAAAAAByF2PfyxGAJLcH+9pQvJgsav/7s57hBf/3gQdO69vH18dK4fN0+GLz96uSzPCq99JArIgkagNTz7r9bB4DtcFsAAAABYktHRJUIYHqDAAAAB3RJTUUH5wIKESIRAg6dCwAAALtJREFUCNdjYGAUERUTl5CUkmZiZmFlY2CUkZULAAJ5BUUlZXYOBhXVADAIVFPX0NTiZNDWAXKCgkNCw8IjInX1GPSjomNi4+ITEpOSU1LTDBgM0zMys7JzcvPyCwqLio0YjKNKSstKyisqq6prautMGEwD6hsam5pbWtvaOzq7zBjMdbq7g3p6+/onTJw02cKSwcoaYt8UG1s7ewcuBm5HJ7B7nF1c3dx5eBn4uD08vbx9fP38+QUEhYQB5Z40RP8+e1wAAAAldEVYdGRhdGU6Y3JlYXRlADIwMjMtMDItMTBUMTc6MzM6NDUrMDA6MDCCLR1xAAAAJXRFWHRkYXRlOm1vZGlmeQAyMDIzLTAyLTEwVDE3OjI2OjU5KzAwOjAw393bowAAAABJRU5ErkJggg==\" alt=\"Open in WEkEO\"></a></div>\n",
    "    <div style=\"float:left\"><p>&emsp;</p></div>\n",
    "  </div>\n",
    "</html>"
   ]
  },
  {
   "cell_type": "markdown",
   "metadata": {},
   "source": [
    "<div class=\"alert alert-block alert-success\">\n",
    "<h3>Ocean case studies</h3></div>"
   ]
  },
  {
   "cell_type": "markdown",
   "metadata": {},
   "source": [
    "<div class=\"alert alert-block alert-warning\">\n",
    "    \n",
    "<b>PREREQUISITES </b>\n",
    "\n",
    "This notebook has the following prerequisites:\n",
    "- **<a href=\"https://eoportal.eumetsat.int/\" target=\"_blank\">A EUMETSAT Earth Observation Portal account</a>** to download from the EUMETSAT Data Store\n",
    "\n",
    "There are no prerequisite notebooks for this module.<br>\n",
    "\n",
    "</div>\n",
    "<hr>"
   ]
  },
  {
   "cell_type": "markdown",
   "metadata": {},
   "source": [
    "# Automated downloading of EUMETSAT marine products\n",
    "\n",
    "### Data used\n",
    "\n",
    "| Dataset | EUMETSAT Data Store<br>collection ID| EUMETSAT collection<br>description | WEkEO dataset ID | WEkEO description |\n",
    "|:--------------------:|:-----------------------:|:-------------:|:-----------------:|:-----------------:|\n",
    "| Sentinel-3 SLSTR level-2P | EO:EUM:DAT:0412 | <a href=\"https://user.eumetsat.int/catalogue/EO:EUM:DAT:0179\" target=\"_blank\">Description</a> | EO:EUM:DAT:SENTINEL-3:SL_2_WST___ | <a href=\"https://www.wekeo.eu/data?view=dataset&dataset=EO%3AEUM%3ADAT%3ASENTINEL-3%3ASL_2_WST___&initial=1\" target=\"_blank\">Description</a> |\n",
    "\n",
    "### Learning outcomes\n",
    "\n",
    "At the end of this notebook you will know how to;\n",
    "* Access EUMETSAT Copernicus marine products from the EUMETSAT Data Store\n",
    "* Construct a search query to match the data we want\n",
    "* Automate this search query to constantly gather new data\n",
    "\n",
    "### Outline\n",
    "\n",
    "<center><img src='https://www.pmel.noaa.gov/gtmba/sites/default/files/styles/landing_page_banner/public/thumbnails/image/IMG_0622.jpg?itok=2kbeXv8z&c=50259841db4e6fd909aea30cc0b86551\n",
    "' align='center' width='750px' height=\"800px\"/>\n",
    "<img src='http://www.pmel.noaa.gov/pirata/global_pirata_web_sm.gif' align='center' width='500px' height=\"300px\"/><br>Figure 1: The Atlantic monitoring <a href=\"https://www.brest.ird.fr/pirata/\" target=\"_blank\">PIRATA</a> branch of the <a href=\"https://www.pmel.noaa.gov/gtmba/\" target=\"_blank\">Global Tropical Moored Buoy Array (GTMBA)</a> (Credit: PMEL)</center><br><br>\n",
    "\n",
    "It is fairly common for us to want to work with the newest satellite data available. We do this, for example, when we want to monitor a region in near real-time, or when we want to compare against *in situ* platforms that are continually acquiring, e.g. a mooring. The first step in most of these activities is to automate data acquisition, allowing us to download the newest data available with no intervention.\n",
    "\n",
    "In this notebook, we are going to download near real-time sea surface temperature products from the Sentinel-3 Sea and Land Surface Temperature Radiometer (SLSTR) when they correspond to one of the moorings in the <a href=\"https://www.brest.ird.fr/pirata/\" target=\"_blank\">PIRATA</a> array, a series of moorings that make up the Atlantic branch of the Global Tropical Moored Buoy Array (GTMBA) (Figure 1). We will introduce methods to do this using an entirely Pythoon-based approach, and using external system tools such as *cron* on Linux/OSx and *ScheduledTasks* on Windows.\n",
    "\n",
    "<div class=\"alert alert-info\" role=\"alert\">\n",
    "\n",
    "## <a id='TOCTOP'></a>Contents\n",
    "\n",
    "</div>\n",
    "\n",
    " 1. [Step 1: Setting up our analysis](#section1)\n",
    " 1. [Step 2: Authenticating the EUMETSAT Data Store](#section2)\n",
    " 1. [Step 3: Selecting data from the EUMETSAT Data Store](#section3)\n",
    " 1. [Step 4: Automating downloading within Python](#section4)\n",
    " 1. [Step 5: Automating downloading outside of Python](#section5)\n",
    " 1. [Step 6: Conclusions](#section6)\n",
    " 1. [Step 7: Challenge (optional)](#section7)\n",
    "\n",
    "<hr>"
   ]
  },
  {
   "cell_type": "markdown",
   "metadata": {},
   "source": [
    "<div class=\"alert alert-info\" role=\"alert\">\n",
    "\n",
    "## <a id='section1'></a>1. Setting up our analysis\n",
    "[Back to top](#TOCTOP)\n",
    "\n",
    "</div>"
   ]
  },
  {
   "cell_type": "markdown",
   "metadata": {},
   "source": [
    "We begin by importing all of the libraries that we need to run this notebook. If you have built your python using the environment file provided in this repository, then you should have everything you need. For more information on building environment, please see the repository **<a href=\"../../../README.md\" target=\"_blank\">README</a>**."
   ]
  },
  {
   "cell_type": "code",
   "execution_count": 1,
   "metadata": {
    "tags": []
   },
   "outputs": [],
   "source": [
    "import datetime                           # a library that allows us to work with dates and times\n",
    "import eumdac                             # a tool that helps us download via the eumetsat/data-store\n",
    "import getpass                            # a library to help us enter passwords\n",
    "import os                                 # a library that allows us access to basic operating system commands\n",
    "from pathlib import Path                  # a library to help us to construct system paths\n",
    "import schedule                           # a library to help us to schedule tasks\n",
    "import shutil                             # a library that allows us access to basic operating system commands like copy\n",
    "import subprocess                         # a library to help us to run system commands\n",
    "import sys                                # a library that gives us access to system tools\n",
    "import time                               # a library that helps us manage script timing\n",
    "import warnings                           # a library that helps us handle warnings\n",
    "\n",
    "# turn off any script warnings\n",
    "warnings.filterwarnings('ignore')"
   ]
  },
  {
   "cell_type": "markdown",
   "metadata": {},
   "source": [
    "Lets begin by setting a few parameters that we will need for our experiment, beginning with the location of one of the PIRATA moorings (in this case the most North Easterly) and the size of the box we want to acquire around this location."
   ]
  },
  {
   "cell_type": "code",
   "execution_count": 2,
   "metadata": {},
   "outputs": [],
   "source": [
    "# PIRATA mooring location\n",
    "lat = 21\n",
    "lon = -23\n",
    "\n",
    "# size of the box we want to acquire around the location of interest\n",
    "spatial_tolerance = 0.25"
   ]
  },
  {
   "cell_type": "markdown",
   "metadata": {},
   "source": [
    "Next, lets specify the collections of interest that contain our data source."
   ]
  },
  {
   "cell_type": "code",
   "execution_count": 3,
   "metadata": {},
   "outputs": [],
   "source": [
    "collectionID = \"EO:EUM:DAT:0412\""
   ]
  },
  {
   "cell_type": "markdown",
   "metadata": {},
   "source": [
    "Data from Sentinel-3 is available at various timeliness. Near real-time data (NR) is available quickly, but does not have the highest quality. Non time-critical data (NT) is available more slowly, but is higher quality. We want the most up to date data, so we will focus on the NR data."
   ]
  },
  {
   "cell_type": "code",
   "execution_count": 4,
   "metadata": {},
   "outputs": [],
   "source": [
    "timeliness = \"NR\""
   ]
  },
  {
   "cell_type": "markdown",
   "metadata": {},
   "source": [
    "Lastly, lets set a few parameters that help us with automating our acquisition; the number of days before today we want to limit our search to (`days_ago`), the format we want any time variables to be in (`tformat`) and how often to run our search (`n_seconds`)."
   ]
  },
  {
   "cell_type": "code",
   "execution_count": 5,
   "metadata": {},
   "outputs": [],
   "source": [
    "days_ago = 5\n",
    "tformat = '%Y-%m-%dT%H:%M:%S'\n",
    "nseconds = 10"
   ]
  },
  {
   "cell_type": "markdown",
   "metadata": {},
   "source": [
    "Now we are ready to begin gathering our data for analysis, beginning by authenticating our access to the EUMETSAT Data Store."
   ]
  },
  {
   "cell_type": "markdown",
   "metadata": {},
   "source": [
    "<div class=\"alert alert-info\" role=\"alert\">\n",
    "\n",
    "## <a id='section2'></a>2. Authenticating the EUMETSAT Data Store\n",
    "[Back to top](#TOCTOP)\n",
    "\n",
    "</div>"
   ]
  },
  {
   "cell_type": "markdown",
   "metadata": {},
   "source": [
    "<div class=\"alert alert-block alert-success\">\n",
    "\n",
    "### Accessing the EUMETSAT Data Store\n",
    "\n",
    "To access Copernicus marine data from the <a href=\"https://data.eumetsat.int \" target=\"_blank\">EUMETSAT Data Store</a>, we will use the EUMETSAT Data Access Client (`eumdac`) python package. If you are working with the recommended Anaconda Python distribution and used the environment file included in this repository (environment.yml) to build this python environment (as detailed in the README), you will already have installed this. If not, you can install eumdac using;\n",
    "\n",
    "`conda install -c eumetsat eumdac`\n",
    "\n",
    "You can also find the source code on the <a href=\"https://gitlab.eumetsat.int/eumetlab/data-services/eumdac \" target=\"_blank\">EUMETSAT GitLab</a>. Please visit the EUMETSAT user portal for more information on the <a href=\"https://user.eumetsat.int/data-access/data-store \" target=\"_blank\">EUMETSAT Data Store</a> and <a href=\"https://user.eumetsat.int/resources/user-guides/eumetsat-data-access-client-eumdac-guide \" target=\"_blank\">eumdac</a>.\n",
    "\n",
    "To download data from the EUMETSDAT Data Store via API, you need to provide credentials. To obtain these you should first register at for an <a href=\"https://eoportal.eumetsat.int/\" target=\"_blank\">EUMETSAT Earth Observation Portal account</a>. Once you have an account, you can retrieve your `<your_consumer_key>` and `<your_consumer_secret>` from the <a href=\"https://api.eumetsat.int/api-key/ \" target=\"_blank\">\"EUMETSAT Data Store API\"</a> page (*Note: you must click the \"Show hidden fields\" button at the bottom of the page to see the relevant fields*). If you do not already have a local credentials file, you will be prompted to enter your credentials when you run the cell below. This will create the required local credentials file, so that you only need to run this once.\n",
    "\n",
    "*Note: your key and secret are permanent, so you should take care to never share them*\n",
    "\n",
    "</div>"
   ]
  },
  {
   "cell_type": "code",
   "execution_count": 6,
   "metadata": {},
   "outputs": [
    {
     "name": "stdout",
     "output_type": "stream",
     "text": [
      "This token '07d0918b-de20-3b1d-80e4-c3305446bb1a' expires 2024-04-30 15:50:37.977822\n"
     ]
    }
   ],
   "source": [
    "# load credentials\n",
    "eumdac_credentials_file = Path(Path.home() / '.eumdac' / 'credentials')\n",
    "\n",
    "if os.path.exists(eumdac_credentials_file):\n",
    "    consumer_key, consumer_secret = Path(eumdac_credentials_file).read_text().split(',')\n",
    "else:\n",
    "    # creating authentication file\n",
    "    consumer_key = input('Enter your consumer key: ')\n",
    "    consumer_secret = getpass.getpass('Enter your consumer secret: ')\n",
    "    try:\n",
    "        os.makedirs(os.path.dirname(eumdac_credentials_file), exist_ok=True)\n",
    "        with open(eumdac_credentials_file, \"w\") as f:\n",
    "            f.write(f'{consumer_key},{consumer_secret}')\n",
    "    except:\n",
    "        pass\n",
    "        \n",
    "token = eumdac.AccessToken((consumer_key, consumer_secret))\n",
    "print(f\"This token '{token}' expires {token.expiration}\")"
   ]
  },
  {
   "cell_type": "markdown",
   "metadata": {},
   "source": [
    "Now we have a token, we can create an instance of the EUMETSAT Data Store."
   ]
  },
  {
   "cell_type": "code",
   "execution_count": 7,
   "metadata": {},
   "outputs": [],
   "source": [
    "datastore = eumdac.DataStore(token)"
   ]
  },
  {
   "cell_type": "markdown",
   "metadata": {},
   "source": [
    "<div class=\"alert alert-info\" role=\"alert\">\n",
    "\n",
    "## <a id='section3'></a>3. Selecting data from the EUMETSAT Data Store\n",
    "[Back to top](#TOCTOP)\n",
    "\n",
    "</div>"
   ]
  },
  {
   "cell_type": "markdown",
   "metadata": {},
   "source": [
    "Now we have authenticated our `datastore` object, lets connect to the collection we are interested in using the `get_collection` method."
   ]
  },
  {
   "cell_type": "code",
   "execution_count": 8,
   "metadata": {},
   "outputs": [],
   "source": [
    "# Use collection ID\n",
    "collection = datastore.get_collection(collectionID)"
   ]
  },
  {
   "cell_type": "markdown",
   "metadata": {},
   "source": [
    "We will now search in our collection, filtering our search by the specified `timeliness`, our region of interest and the number of days before now (`days_ago`) and today. We can do this as follows;"
   ]
  },
  {
   "cell_type": "code",
   "execution_count": 9,
   "metadata": {},
   "outputs": [],
   "source": [
    "# make a very small box around our proposed mooring\n",
    "ROI = [[lon - spatial_tolerance, lat - spatial_tolerance],\n",
    "       [lon - spatial_tolerance, lat + spatial_tolerance],\n",
    "       [lon + spatial_tolerance, lat + spatial_tolerance],\n",
    "       [lon + spatial_tolerance, lat - spatial_tolerance],\n",
    "       [lon - spatial_tolerance, lat - spatial_tolerance]]\n",
    "\n",
    "# convert this to a WKT polygon\n",
    "polygon = 'POLYGON(({}))'.format(','.join([\"{} {}\".format(*coord) for coord in ROI]))\n",
    "\n",
    "# make a very small time window around our cruise point time\n",
    "dtend = datetime.datetime.now()\n",
    "dtstart = dtend - datetime.timedelta(days=days_ago)\n",
    "products = collection.search(dtstart=dtstart, dtend=dtend, geo=polygon, timeliness=timeliness)"
   ]
  },
  {
   "cell_type": "markdown",
   "metadata": {},
   "source": [
    "Lets see how many products we found..."
   ]
  },
  {
   "cell_type": "code",
   "execution_count": 10,
   "metadata": {},
   "outputs": [
    {
     "name": "stdout",
     "output_type": "stream",
     "text": [
      "S3B_SL_2_WST____20240430T112844_20240430T113144_20240430T132402_0179_092_251_2520_MAR_O_NR_003.SEN3\n",
      "S3A_SL_2_WST____20240429T234146_20240429T234446_20240430T003119_0179_112_002_0180_MAR_O_NR_003.SEN3\n",
      "S3B_SL_2_WST____20240429T230550_20240429T230850_20240430T012853_0179_092_244_0360_MAR_O_NR_003.SEN3\n",
      "S3B_SL_2_WST____20240429T115455_20240429T115755_20240429T135126_0179_092_237_2520_MAR_O_NR_003.SEN3\n",
      "S3B_SL_2_WST____20240428T232900_20240428T233200_20240429T001806_0179_092_230_0180_MAR_O_NR_003.SEN3\n",
      "S3A_SL_2_WST____20240428T111903_20240428T112203_20240428T131506_0180_111_365_2520_MAR_O_NR_003.SEN3\n",
      "S3B_SL_2_WST____20240427T235511_20240427T235811_20240428T004452_0179_092_216_0180_MAR_O_NR_003.SEN3\n",
      "S3A_SL_2_WST____20240427T114514_20240427T114814_20240427T134126_0179_111_351_2520_MAR_O_NR_003.SEN3\n",
      "S3B_SL_2_WST____20240427T110917_20240427T111217_20240427T130127_0179_092_208_2700_MAR_O_NR_003.SEN3\n",
      "S3B_SL_2_WST____20240427T110617_20240427T110917_20240427T130125_0179_092_208_2520_MAR_O_NR_003.SEN3\n",
      "S3A_SL_2_WST____20240426T231919_20240426T232219_20240427T000846_0179_111_344_0180_MAR_O_NR_003.SEN3\n",
      "S3B_SL_2_WST____20240426T113227_20240426T113527_20240426T132747_0179_092_194_2520_MAR_O_NR_003.SEN3\n",
      "S3A_SL_2_WST____20240425T234529_20240425T234829_20240426T003536_0179_111_330_0180_MAR_O_NR_003.SEN3\n",
      "S3B_SL_2_WST____20240425T230932_20240425T231232_20240426T013226_0179_092_187_0360_MAR_O_NR_003.SEN3\n",
      "S3B_SL_2_WST____20240425T230632_20240425T230932_20240425T235545_0179_092_187_0180_MAR_O_NR_003.SEN3\n",
      "\n",
      "----\n",
      "Found 15 products\n"
     ]
    }
   ],
   "source": [
    "for product in products:\n",
    "    print(str(product))\n",
    "print(f\"\\n----\\nFound {len(products)} products\")"
   ]
  },
  {
   "cell_type": "markdown",
   "metadata": {},
   "source": [
    "<div class=\"alert alert-info\" role=\"alert\">\n",
    "\n",
    "## <a id='section4'></a>4. Automating downloading **within Python**\n",
    "[Back to top](#TOCTOP)\n",
    "\n",
    "</div>"
   ]
  },
  {
   "cell_type": "markdown",
   "metadata": {},
   "source": [
    "So far so good, but we have only made a single query! To automate this, we need to;\n",
    "* provide a way to schedule the search and download process in time, and\n",
    "* a way to update the start and end dates for the acquisition\n",
    "\n",
    "Fortunately, this is quite easy to do in Python using the `Schedule` library (imported above). `Schedule` will run a function on any time base you specify. Lets go ahead and build our function, which we will call `automate_run`.\n",
    "\n",
    "`automate_run` takes the search query we ran above, and adds a download component to it. It accepts a number of arguments (`token`, `collectionID`, `polygon`, `timeliness`, `days_ago`) that allow up to update it on the fly."
   ]
  },
  {
   "cell_type": "code",
   "execution_count": 11,
   "metadata": {},
   "outputs": [],
   "source": [
    "def automate_run(token, collectionID, polygon, timeliness, days_ago):\n",
    "    '''\n",
    "     A function to download specified products from the EUMETSAT Data Store\n",
    "    '''\n",
    "    # instantiate the datastore\n",
    "    datastore = eumdac.DataStore(token)\n",
    "    \n",
    "    # select collection\n",
    "    collection = datastore.get_collection(collectionID)\n",
    "    \n",
    "    # set parameters\n",
    "    dtend = datetime.datetime.now()\n",
    "    dtstart = dtend - datetime.timedelta(days=days_ago)\n",
    "    \n",
    "    print(\"----------Downloads starting----------\")\n",
    "    print(f\"Start date: {dtstart.strftime(tformat)}\\nEnd date: {dtend.strftime(tformat)}\")\n",
    "    \n",
    "    # search for the specified products\n",
    "    products = collection.search(dtstart=dtstart, dtend=dtend, geo=polygon, timeliness=timeliness)\n",
    "\n",
    "    # download the specified products\n",
    "    for product in products:\n",
    "        product_zip = os.path.join(os.getcwd(), str(product) + '.zip')\n",
    "        if os.path.exists(product_zip):\n",
    "            print(f'Skipping {str(product)} (exists)')\n",
    "        else:\n",
    "            with product.open() as fsrc, open(fsrc.name, mode='wb') as fdst:\n",
    "                print(f'Downloading {fsrc.name}.')\n",
    "                shutil.copyfileobj(fsrc, fdst)\n",
    "    \n",
    "    print(\"----------Downloads complete----------\")"
   ]
  },
  {
   "cell_type": "markdown",
   "metadata": {},
   "source": [
    "The `automate_run` function is defined, but we are not yet running it. To set things up, we launch it via `schedule`. In the cell below, we set up `schedule` to run every `nseconds` (which we defined above as 10 by default), providing our function name and arguments.\n",
    "\n",
    "Once it is set up, we start an \"infinite\" `while` loop that will continually run downloading new data as it appears in the Data Store (and backfilling everything we delete that falls within scope!)."
   ]
  },
  {
   "cell_type": "code",
   "execution_count": 12,
   "metadata": {},
   "outputs": [
    {
     "name": "stdout",
     "output_type": "stream",
     "text": [
      "----------Downloads starting----------\n",
      "Start date: 2024-04-25T15:29:01\n",
      "End date: 2024-04-30T15:29:01\n",
      "Downloading S3B_SL_2_WST____20240430T112844_20240430T113144_20240430T132402_0179_092_251_2520_MAR_O_NR_003.SEN3.zip.\n",
      "Downloading S3A_SL_2_WST____20240429T234146_20240429T234446_20240430T003119_0179_112_002_0180_MAR_O_NR_003.SEN3.zip.\n",
      "Downloading S3B_SL_2_WST____20240429T230550_20240429T230850_20240430T012853_0179_092_244_0360_MAR_O_NR_003.SEN3.zip.\n",
      "Downloading S3B_SL_2_WST____20240429T115455_20240429T115755_20240429T135126_0179_092_237_2520_MAR_O_NR_003.SEN3.zip.\n",
      "Downloading S3B_SL_2_WST____20240428T232900_20240428T233200_20240429T001806_0179_092_230_0180_MAR_O_NR_003.SEN3.zip.\n",
      "Downloading S3A_SL_2_WST____20240428T111903_20240428T112203_20240428T131506_0180_111_365_2520_MAR_O_NR_003.SEN3.zip.\n",
      "Downloading S3B_SL_2_WST____20240427T235511_20240427T235811_20240428T004452_0179_092_216_0180_MAR_O_NR_003.SEN3.zip.\n",
      "Downloading S3A_SL_2_WST____20240427T114514_20240427T114814_20240427T134126_0179_111_351_2520_MAR_O_NR_003.SEN3.zip.\n",
      "Downloading S3B_SL_2_WST____20240427T110917_20240427T111217_20240427T130127_0179_092_208_2700_MAR_O_NR_003.SEN3.zip.\n",
      "Downloading S3B_SL_2_WST____20240427T110617_20240427T110917_20240427T130125_0179_092_208_2520_MAR_O_NR_003.SEN3.zip.\n",
      "Downloading S3A_SL_2_WST____20240426T231919_20240426T232219_20240427T000846_0179_111_344_0180_MAR_O_NR_003.SEN3.zip.\n",
      "Downloading S3B_SL_2_WST____20240426T113227_20240426T113527_20240426T132747_0179_092_194_2520_MAR_O_NR_003.SEN3.zip.\n",
      "Downloading S3A_SL_2_WST____20240425T234529_20240425T234829_20240426T003536_0179_111_330_0180_MAR_O_NR_003.SEN3.zip.\n",
      "Downloading S3B_SL_2_WST____20240425T230932_20240425T231232_20240426T013226_0179_092_187_0360_MAR_O_NR_003.SEN3.zip.\n",
      "Downloading S3B_SL_2_WST____20240425T230632_20240425T230932_20240425T235545_0179_092_187_0180_MAR_O_NR_003.SEN3.zip.\n",
      "----------Downloads complete----------\n",
      "----------Downloads starting----------\n",
      "Start date: 2024-04-25T15:30:34\n",
      "End date: 2024-04-30T15:30:34\n",
      "Skipping S3B_SL_2_WST____20240430T112844_20240430T113144_20240430T132402_0179_092_251_2520_MAR_O_NR_003.SEN3 (exists)\n",
      "Skipping S3A_SL_2_WST____20240429T234146_20240429T234446_20240430T003119_0179_112_002_0180_MAR_O_NR_003.SEN3 (exists)\n",
      "Skipping S3B_SL_2_WST____20240429T230550_20240429T230850_20240430T012853_0179_092_244_0360_MAR_O_NR_003.SEN3 (exists)\n",
      "Skipping S3B_SL_2_WST____20240429T115455_20240429T115755_20240429T135126_0179_092_237_2520_MAR_O_NR_003.SEN3 (exists)\n",
      "Skipping S3B_SL_2_WST____20240428T232900_20240428T233200_20240429T001806_0179_092_230_0180_MAR_O_NR_003.SEN3 (exists)\n",
      "Skipping S3A_SL_2_WST____20240428T111903_20240428T112203_20240428T131506_0180_111_365_2520_MAR_O_NR_003.SEN3 (exists)\n",
      "Skipping S3B_SL_2_WST____20240427T235511_20240427T235811_20240428T004452_0179_092_216_0180_MAR_O_NR_003.SEN3 (exists)\n",
      "Skipping S3A_SL_2_WST____20240427T114514_20240427T114814_20240427T134126_0179_111_351_2520_MAR_O_NR_003.SEN3 (exists)\n",
      "Skipping S3B_SL_2_WST____20240427T110917_20240427T111217_20240427T130127_0179_092_208_2700_MAR_O_NR_003.SEN3 (exists)\n",
      "Skipping S3B_SL_2_WST____20240427T110617_20240427T110917_20240427T130125_0179_092_208_2520_MAR_O_NR_003.SEN3 (exists)\n",
      "Skipping S3A_SL_2_WST____20240426T231919_20240426T232219_20240427T000846_0179_111_344_0180_MAR_O_NR_003.SEN3 (exists)\n",
      "Skipping S3B_SL_2_WST____20240426T113227_20240426T113527_20240426T132747_0179_092_194_2520_MAR_O_NR_003.SEN3 (exists)\n",
      "Skipping S3A_SL_2_WST____20240425T234529_20240425T234829_20240426T003536_0179_111_330_0180_MAR_O_NR_003.SEN3 (exists)\n",
      "Skipping S3B_SL_2_WST____20240425T230932_20240425T231232_20240426T013226_0179_092_187_0360_MAR_O_NR_003.SEN3 (exists)\n",
      "Skipping S3B_SL_2_WST____20240425T230632_20240425T230932_20240425T235545_0179_092_187_0180_MAR_O_NR_003.SEN3 (exists)\n",
      "----------Downloads complete----------\n",
      "----------Downloads starting----------\n",
      "Start date: 2024-04-25T15:30:44\n",
      "End date: 2024-04-30T15:30:44\n",
      "Skipping S3B_SL_2_WST____20240430T112844_20240430T113144_20240430T132402_0179_092_251_2520_MAR_O_NR_003.SEN3 (exists)\n",
      "Skipping S3A_SL_2_WST____20240429T234146_20240429T234446_20240430T003119_0179_112_002_0180_MAR_O_NR_003.SEN3 (exists)\n",
      "Skipping S3B_SL_2_WST____20240429T230550_20240429T230850_20240430T012853_0179_092_244_0360_MAR_O_NR_003.SEN3 (exists)\n",
      "Skipping S3B_SL_2_WST____20240429T115455_20240429T115755_20240429T135126_0179_092_237_2520_MAR_O_NR_003.SEN3 (exists)\n",
      "Skipping S3B_SL_2_WST____20240428T232900_20240428T233200_20240429T001806_0179_092_230_0180_MAR_O_NR_003.SEN3 (exists)\n",
      "Skipping S3A_SL_2_WST____20240428T111903_20240428T112203_20240428T131506_0180_111_365_2520_MAR_O_NR_003.SEN3 (exists)\n",
      "Skipping S3B_SL_2_WST____20240427T235511_20240427T235811_20240428T004452_0179_092_216_0180_MAR_O_NR_003.SEN3 (exists)\n",
      "Skipping S3A_SL_2_WST____20240427T114514_20240427T114814_20240427T134126_0179_111_351_2520_MAR_O_NR_003.SEN3 (exists)\n",
      "Skipping S3B_SL_2_WST____20240427T110917_20240427T111217_20240427T130127_0179_092_208_2700_MAR_O_NR_003.SEN3 (exists)\n",
      "Skipping S3B_SL_2_WST____20240427T110617_20240427T110917_20240427T130125_0179_092_208_2520_MAR_O_NR_003.SEN3 (exists)\n",
      "Skipping S3A_SL_2_WST____20240426T231919_20240426T232219_20240427T000846_0179_111_344_0180_MAR_O_NR_003.SEN3 (exists)\n",
      "Skipping S3B_SL_2_WST____20240426T113227_20240426T113527_20240426T132747_0179_092_194_2520_MAR_O_NR_003.SEN3 (exists)\n",
      "Skipping S3A_SL_2_WST____20240425T234529_20240425T234829_20240426T003536_0179_111_330_0180_MAR_O_NR_003.SEN3 (exists)\n",
      "Skipping S3B_SL_2_WST____20240425T230932_20240425T231232_20240426T013226_0179_092_187_0360_MAR_O_NR_003.SEN3 (exists)\n",
      "Skipping S3B_SL_2_WST____20240425T230632_20240425T230932_20240425T235545_0179_092_187_0180_MAR_O_NR_003.SEN3 (exists)\n",
      "----------Downloads complete----------\n",
      "----------Downloads starting----------\n",
      "Start date: 2024-04-25T15:30:55\n",
      "End date: 2024-04-30T15:30:55\n",
      "Skipping S3B_SL_2_WST____20240430T112844_20240430T113144_20240430T132402_0179_092_251_2520_MAR_O_NR_003.SEN3 (exists)\n",
      "Skipping S3A_SL_2_WST____20240429T234146_20240429T234446_20240430T003119_0179_112_002_0180_MAR_O_NR_003.SEN3 (exists)\n",
      "Skipping S3B_SL_2_WST____20240429T230550_20240429T230850_20240430T012853_0179_092_244_0360_MAR_O_NR_003.SEN3 (exists)\n",
      "Skipping S3B_SL_2_WST____20240429T115455_20240429T115755_20240429T135126_0179_092_237_2520_MAR_O_NR_003.SEN3 (exists)\n",
      "Skipping S3B_SL_2_WST____20240428T232900_20240428T233200_20240429T001806_0179_092_230_0180_MAR_O_NR_003.SEN3 (exists)\n",
      "Skipping S3A_SL_2_WST____20240428T111903_20240428T112203_20240428T131506_0180_111_365_2520_MAR_O_NR_003.SEN3 (exists)\n",
      "Skipping S3B_SL_2_WST____20240427T235511_20240427T235811_20240428T004452_0179_092_216_0180_MAR_O_NR_003.SEN3 (exists)\n",
      "Skipping S3A_SL_2_WST____20240427T114514_20240427T114814_20240427T134126_0179_111_351_2520_MAR_O_NR_003.SEN3 (exists)\n",
      "Skipping S3B_SL_2_WST____20240427T110917_20240427T111217_20240427T130127_0179_092_208_2700_MAR_O_NR_003.SEN3 (exists)\n",
      "Skipping S3B_SL_2_WST____20240427T110617_20240427T110917_20240427T130125_0179_092_208_2520_MAR_O_NR_003.SEN3 (exists)\n",
      "Skipping S3A_SL_2_WST____20240426T231919_20240426T232219_20240427T000846_0179_111_344_0180_MAR_O_NR_003.SEN3 (exists)\n",
      "Skipping S3B_SL_2_WST____20240426T113227_20240426T113527_20240426T132747_0179_092_194_2520_MAR_O_NR_003.SEN3 (exists)\n",
      "Skipping S3A_SL_2_WST____20240425T234529_20240425T234829_20240426T003536_0179_111_330_0180_MAR_O_NR_003.SEN3 (exists)\n",
      "Skipping S3B_SL_2_WST____20240425T230932_20240425T231232_20240426T013226_0179_092_187_0360_MAR_O_NR_003.SEN3 (exists)\n",
      "Skipping S3B_SL_2_WST____20240425T230632_20240425T230932_20240425T235545_0179_092_187_0180_MAR_O_NR_003.SEN3 (exists)\n",
      "----------Downloads complete----------\n",
      "----------Downloads starting----------\n",
      "Start date: 2024-04-25T15:31:06\n",
      "End date: 2024-04-30T15:31:06\n",
      "Skipping S3B_SL_2_WST____20240430T112844_20240430T113144_20240430T132402_0179_092_251_2520_MAR_O_NR_003.SEN3 (exists)\n",
      "Skipping S3A_SL_2_WST____20240429T234146_20240429T234446_20240430T003119_0179_112_002_0180_MAR_O_NR_003.SEN3 (exists)\n",
      "Skipping S3B_SL_2_WST____20240429T230550_20240429T230850_20240430T012853_0179_092_244_0360_MAR_O_NR_003.SEN3 (exists)\n",
      "Skipping S3B_SL_2_WST____20240429T115455_20240429T115755_20240429T135126_0179_092_237_2520_MAR_O_NR_003.SEN3 (exists)\n",
      "Skipping S3B_SL_2_WST____20240428T232900_20240428T233200_20240429T001806_0179_092_230_0180_MAR_O_NR_003.SEN3 (exists)\n",
      "Skipping S3A_SL_2_WST____20240428T111903_20240428T112203_20240428T131506_0180_111_365_2520_MAR_O_NR_003.SEN3 (exists)\n",
      "Skipping S3B_SL_2_WST____20240427T235511_20240427T235811_20240428T004452_0179_092_216_0180_MAR_O_NR_003.SEN3 (exists)\n",
      "Skipping S3A_SL_2_WST____20240427T114514_20240427T114814_20240427T134126_0179_111_351_2520_MAR_O_NR_003.SEN3 (exists)\n",
      "Skipping S3B_SL_2_WST____20240427T110917_20240427T111217_20240427T130127_0179_092_208_2700_MAR_O_NR_003.SEN3 (exists)\n",
      "Skipping S3B_SL_2_WST____20240427T110617_20240427T110917_20240427T130125_0179_092_208_2520_MAR_O_NR_003.SEN3 (exists)\n",
      "Skipping S3A_SL_2_WST____20240426T231919_20240426T232219_20240427T000846_0179_111_344_0180_MAR_O_NR_003.SEN3 (exists)\n",
      "Skipping S3B_SL_2_WST____20240426T113227_20240426T113527_20240426T132747_0179_092_194_2520_MAR_O_NR_003.SEN3 (exists)\n",
      "Skipping S3A_SL_2_WST____20240425T234529_20240425T234829_20240426T003536_0179_111_330_0180_MAR_O_NR_003.SEN3 (exists)\n",
      "Skipping S3B_SL_2_WST____20240425T230932_20240425T231232_20240426T013226_0179_092_187_0360_MAR_O_NR_003.SEN3 (exists)\n",
      "Skipping S3B_SL_2_WST____20240425T230632_20240425T230932_20240425T235545_0179_092_187_0180_MAR_O_NR_003.SEN3 (exists)\n",
      "----------Downloads complete----------\n",
      "----------Downloads starting----------\n",
      "Start date: 2024-04-25T15:31:16\n",
      "End date: 2024-04-30T15:31:16\n",
      "Skipping S3B_SL_2_WST____20240430T112844_20240430T113144_20240430T132402_0179_092_251_2520_MAR_O_NR_003.SEN3 (exists)\n",
      "Skipping S3A_SL_2_WST____20240429T234146_20240429T234446_20240430T003119_0179_112_002_0180_MAR_O_NR_003.SEN3 (exists)\n",
      "Skipping S3B_SL_2_WST____20240429T230550_20240429T230850_20240430T012853_0179_092_244_0360_MAR_O_NR_003.SEN3 (exists)\n",
      "Skipping S3B_SL_2_WST____20240429T115455_20240429T115755_20240429T135126_0179_092_237_2520_MAR_O_NR_003.SEN3 (exists)\n",
      "Skipping S3B_SL_2_WST____20240428T232900_20240428T233200_20240429T001806_0179_092_230_0180_MAR_O_NR_003.SEN3 (exists)\n",
      "Skipping S3A_SL_2_WST____20240428T111903_20240428T112203_20240428T131506_0180_111_365_2520_MAR_O_NR_003.SEN3 (exists)\n",
      "Skipping S3B_SL_2_WST____20240427T235511_20240427T235811_20240428T004452_0179_092_216_0180_MAR_O_NR_003.SEN3 (exists)\n",
      "Skipping S3A_SL_2_WST____20240427T114514_20240427T114814_20240427T134126_0179_111_351_2520_MAR_O_NR_003.SEN3 (exists)\n",
      "Skipping S3B_SL_2_WST____20240427T110917_20240427T111217_20240427T130127_0179_092_208_2700_MAR_O_NR_003.SEN3 (exists)\n",
      "Skipping S3B_SL_2_WST____20240427T110617_20240427T110917_20240427T130125_0179_092_208_2520_MAR_O_NR_003.SEN3 (exists)\n",
      "Skipping S3A_SL_2_WST____20240426T231919_20240426T232219_20240427T000846_0179_111_344_0180_MAR_O_NR_003.SEN3 (exists)\n",
      "Skipping S3B_SL_2_WST____20240426T113227_20240426T113527_20240426T132747_0179_092_194_2520_MAR_O_NR_003.SEN3 (exists)\n",
      "Skipping S3A_SL_2_WST____20240425T234529_20240425T234829_20240426T003536_0179_111_330_0180_MAR_O_NR_003.SEN3 (exists)\n",
      "Skipping S3B_SL_2_WST____20240425T230932_20240425T231232_20240426T013226_0179_092_187_0360_MAR_O_NR_003.SEN3 (exists)\n",
      "Skipping S3B_SL_2_WST____20240425T230632_20240425T230932_20240425T235545_0179_092_187_0180_MAR_O_NR_003.SEN3 (exists)\n",
      "----------Downloads complete----------\n",
      "----------Downloads starting----------\n",
      "Start date: 2024-04-25T15:31:27\n",
      "End date: 2024-04-30T15:31:27\n",
      "Skipping S3B_SL_2_WST____20240430T112844_20240430T113144_20240430T132402_0179_092_251_2520_MAR_O_NR_003.SEN3 (exists)\n",
      "Skipping S3A_SL_2_WST____20240429T234146_20240429T234446_20240430T003119_0179_112_002_0180_MAR_O_NR_003.SEN3 (exists)\n",
      "Skipping S3B_SL_2_WST____20240429T230550_20240429T230850_20240430T012853_0179_092_244_0360_MAR_O_NR_003.SEN3 (exists)\n",
      "Skipping S3B_SL_2_WST____20240429T115455_20240429T115755_20240429T135126_0179_092_237_2520_MAR_O_NR_003.SEN3 (exists)\n",
      "Skipping S3B_SL_2_WST____20240428T232900_20240428T233200_20240429T001806_0179_092_230_0180_MAR_O_NR_003.SEN3 (exists)\n",
      "Skipping S3A_SL_2_WST____20240428T111903_20240428T112203_20240428T131506_0180_111_365_2520_MAR_O_NR_003.SEN3 (exists)\n",
      "Skipping S3B_SL_2_WST____20240427T235511_20240427T235811_20240428T004452_0179_092_216_0180_MAR_O_NR_003.SEN3 (exists)\n",
      "Skipping S3A_SL_2_WST____20240427T114514_20240427T114814_20240427T134126_0179_111_351_2520_MAR_O_NR_003.SEN3 (exists)\n",
      "Skipping S3B_SL_2_WST____20240427T110917_20240427T111217_20240427T130127_0179_092_208_2700_MAR_O_NR_003.SEN3 (exists)\n",
      "Skipping S3B_SL_2_WST____20240427T110617_20240427T110917_20240427T130125_0179_092_208_2520_MAR_O_NR_003.SEN3 (exists)\n",
      "Skipping S3A_SL_2_WST____20240426T231919_20240426T232219_20240427T000846_0179_111_344_0180_MAR_O_NR_003.SEN3 (exists)\n",
      "Skipping S3B_SL_2_WST____20240426T113227_20240426T113527_20240426T132747_0179_092_194_2520_MAR_O_NR_003.SEN3 (exists)\n",
      "Skipping S3A_SL_2_WST____20240425T234529_20240425T234829_20240426T003536_0179_111_330_0180_MAR_O_NR_003.SEN3 (exists)\n",
      "Skipping S3B_SL_2_WST____20240425T230932_20240425T231232_20240426T013226_0179_092_187_0360_MAR_O_NR_003.SEN3 (exists)\n",
      "Skipping S3B_SL_2_WST____20240425T230632_20240425T230932_20240425T235545_0179_092_187_0180_MAR_O_NR_003.SEN3 (exists)\n",
      "----------Downloads complete----------\n",
      "----------Downloads starting----------\n",
      "Start date: 2024-04-25T15:31:37\n",
      "End date: 2024-04-30T15:31:37\n",
      "Skipping S3B_SL_2_WST____20240430T112844_20240430T113144_20240430T132402_0179_092_251_2520_MAR_O_NR_003.SEN3 (exists)\n",
      "Skipping S3A_SL_2_WST____20240429T234146_20240429T234446_20240430T003119_0179_112_002_0180_MAR_O_NR_003.SEN3 (exists)\n",
      "Skipping S3B_SL_2_WST____20240429T230550_20240429T230850_20240430T012853_0179_092_244_0360_MAR_O_NR_003.SEN3 (exists)\n",
      "Skipping S3B_SL_2_WST____20240429T115455_20240429T115755_20240429T135126_0179_092_237_2520_MAR_O_NR_003.SEN3 (exists)\n",
      "Skipping S3B_SL_2_WST____20240428T232900_20240428T233200_20240429T001806_0179_092_230_0180_MAR_O_NR_003.SEN3 (exists)\n",
      "Skipping S3A_SL_2_WST____20240428T111903_20240428T112203_20240428T131506_0180_111_365_2520_MAR_O_NR_003.SEN3 (exists)\n",
      "Skipping S3B_SL_2_WST____20240427T235511_20240427T235811_20240428T004452_0179_092_216_0180_MAR_O_NR_003.SEN3 (exists)\n",
      "Skipping S3A_SL_2_WST____20240427T114514_20240427T114814_20240427T134126_0179_111_351_2520_MAR_O_NR_003.SEN3 (exists)\n",
      "Skipping S3B_SL_2_WST____20240427T110917_20240427T111217_20240427T130127_0179_092_208_2700_MAR_O_NR_003.SEN3 (exists)\n",
      "Skipping S3B_SL_2_WST____20240427T110617_20240427T110917_20240427T130125_0179_092_208_2520_MAR_O_NR_003.SEN3 (exists)\n",
      "Skipping S3A_SL_2_WST____20240426T231919_20240426T232219_20240427T000846_0179_111_344_0180_MAR_O_NR_003.SEN3 (exists)\n",
      "Skipping S3B_SL_2_WST____20240426T113227_20240426T113527_20240426T132747_0179_092_194_2520_MAR_O_NR_003.SEN3 (exists)\n",
      "Skipping S3A_SL_2_WST____20240425T234529_20240425T234829_20240426T003536_0179_111_330_0180_MAR_O_NR_003.SEN3 (exists)\n",
      "Skipping S3B_SL_2_WST____20240425T230932_20240425T231232_20240426T013226_0179_092_187_0360_MAR_O_NR_003.SEN3 (exists)\n",
      "Skipping S3B_SL_2_WST____20240425T230632_20240425T230932_20240425T235545_0179_092_187_0180_MAR_O_NR_003.SEN3 (exists)\n",
      "----------Downloads complete----------\n",
      "----------Downloads starting----------\n",
      "Start date: 2024-04-25T15:31:48\n",
      "End date: 2024-04-30T15:31:48\n",
      "Skipping S3B_SL_2_WST____20240430T112844_20240430T113144_20240430T132402_0179_092_251_2520_MAR_O_NR_003.SEN3 (exists)\n",
      "Skipping S3A_SL_2_WST____20240429T234146_20240429T234446_20240430T003119_0179_112_002_0180_MAR_O_NR_003.SEN3 (exists)\n",
      "Skipping S3B_SL_2_WST____20240429T230550_20240429T230850_20240430T012853_0179_092_244_0360_MAR_O_NR_003.SEN3 (exists)\n",
      "Skipping S3B_SL_2_WST____20240429T115455_20240429T115755_20240429T135126_0179_092_237_2520_MAR_O_NR_003.SEN3 (exists)\n",
      "Skipping S3B_SL_2_WST____20240428T232900_20240428T233200_20240429T001806_0179_092_230_0180_MAR_O_NR_003.SEN3 (exists)\n",
      "Skipping S3A_SL_2_WST____20240428T111903_20240428T112203_20240428T131506_0180_111_365_2520_MAR_O_NR_003.SEN3 (exists)\n",
      "Skipping S3B_SL_2_WST____20240427T235511_20240427T235811_20240428T004452_0179_092_216_0180_MAR_O_NR_003.SEN3 (exists)\n",
      "Skipping S3A_SL_2_WST____20240427T114514_20240427T114814_20240427T134126_0179_111_351_2520_MAR_O_NR_003.SEN3 (exists)\n",
      "Skipping S3B_SL_2_WST____20240427T110917_20240427T111217_20240427T130127_0179_092_208_2700_MAR_O_NR_003.SEN3 (exists)\n",
      "Skipping S3B_SL_2_WST____20240427T110617_20240427T110917_20240427T130125_0179_092_208_2520_MAR_O_NR_003.SEN3 (exists)\n",
      "Downloading S3A_SL_2_WST____20240426T231919_20240426T232219_20240427T000846_0179_111_344_0180_MAR_O_NR_003.SEN3.zip.\n",
      "Skipping S3B_SL_2_WST____20240426T113227_20240426T113527_20240426T132747_0179_092_194_2520_MAR_O_NR_003.SEN3 (exists)\n",
      "Skipping S3A_SL_2_WST____20240425T234529_20240425T234829_20240426T003536_0179_111_330_0180_MAR_O_NR_003.SEN3 (exists)\n",
      "Skipping S3B_SL_2_WST____20240425T230932_20240425T231232_20240426T013226_0179_092_187_0360_MAR_O_NR_003.SEN3 (exists)\n",
      "Skipping S3B_SL_2_WST____20240425T230632_20240425T230932_20240425T235545_0179_092_187_0180_MAR_O_NR_003.SEN3 (exists)\n",
      "----------Downloads complete----------\n",
      "----------Downloads starting----------\n",
      "Start date: 2024-04-25T15:32:04\n",
      "End date: 2024-04-30T15:32:04\n",
      "Skipping S3B_SL_2_WST____20240430T112844_20240430T113144_20240430T132402_0179_092_251_2520_MAR_O_NR_003.SEN3 (exists)\n",
      "Skipping S3A_SL_2_WST____20240429T234146_20240429T234446_20240430T003119_0179_112_002_0180_MAR_O_NR_003.SEN3 (exists)\n",
      "Skipping S3B_SL_2_WST____20240429T230550_20240429T230850_20240430T012853_0179_092_244_0360_MAR_O_NR_003.SEN3 (exists)\n",
      "Skipping S3B_SL_2_WST____20240429T115455_20240429T115755_20240429T135126_0179_092_237_2520_MAR_O_NR_003.SEN3 (exists)\n",
      "Skipping S3B_SL_2_WST____20240428T232900_20240428T233200_20240429T001806_0179_092_230_0180_MAR_O_NR_003.SEN3 (exists)\n",
      "Skipping S3A_SL_2_WST____20240428T111903_20240428T112203_20240428T131506_0180_111_365_2520_MAR_O_NR_003.SEN3 (exists)\n",
      "Skipping S3B_SL_2_WST____20240427T235511_20240427T235811_20240428T004452_0179_092_216_0180_MAR_O_NR_003.SEN3 (exists)\n",
      "Skipping S3A_SL_2_WST____20240427T114514_20240427T114814_20240427T134126_0179_111_351_2520_MAR_O_NR_003.SEN3 (exists)\n",
      "Skipping S3B_SL_2_WST____20240427T110917_20240427T111217_20240427T130127_0179_092_208_2700_MAR_O_NR_003.SEN3 (exists)\n",
      "Skipping S3B_SL_2_WST____20240427T110617_20240427T110917_20240427T130125_0179_092_208_2520_MAR_O_NR_003.SEN3 (exists)\n",
      "Skipping S3A_SL_2_WST____20240426T231919_20240426T232219_20240427T000846_0179_111_344_0180_MAR_O_NR_003.SEN3 (exists)\n",
      "Skipping S3B_SL_2_WST____20240426T113227_20240426T113527_20240426T132747_0179_092_194_2520_MAR_O_NR_003.SEN3 (exists)\n",
      "Skipping S3A_SL_2_WST____20240425T234529_20240425T234829_20240426T003536_0179_111_330_0180_MAR_O_NR_003.SEN3 (exists)\n",
      "Skipping S3B_SL_2_WST____20240425T230932_20240425T231232_20240426T013226_0179_092_187_0360_MAR_O_NR_003.SEN3 (exists)\n",
      "Skipping S3B_SL_2_WST____20240425T230632_20240425T230932_20240425T235545_0179_092_187_0180_MAR_O_NR_003.SEN3 (exists)\n",
      "----------Downloads complete----------\n"
     ]
    },
    {
     "ename": "KeyboardInterrupt",
     "evalue": "",
     "output_type": "error",
     "traceback": [
      "\u001b[0;31m---------------------------------------------------------------------------\u001b[0m",
      "\u001b[0;31mKeyboardInterrupt\u001b[0m                         Traceback (most recent call last)",
      "Cell \u001b[0;32mIn[12], line 9\u001b[0m\n\u001b[1;32m      7\u001b[0m \u001b[38;5;28;01mwhile\u001b[39;00m \u001b[38;5;241m1\u001b[39m:\n\u001b[1;32m      8\u001b[0m     schedule\u001b[38;5;241m.\u001b[39mrun_pending()\n\u001b[0;32m----> 9\u001b[0m     \u001b[43mtime\u001b[49m\u001b[38;5;241;43m.\u001b[39;49m\u001b[43msleep\u001b[49m\u001b[43m(\u001b[49m\u001b[38;5;241;43m1\u001b[39;49m\u001b[43m)\u001b[49m\n",
      "\u001b[0;31mKeyboardInterrupt\u001b[0m: "
     ]
    }
   ],
   "source": [
    "schedule.every(nseconds).seconds.do(automate_run,\n",
    "                                    token=token,\n",
    "                                    collectionID=collectionID,\n",
    "                                    polygon=polygon,\n",
    "                                    timeliness=timeliness,\n",
    "                                    days_ago=days_ago)\n",
    "while 1:\n",
    "    schedule.run_pending()\n",
    "    time.sleep(1)"
   ]
  },
  {
   "cell_type": "markdown",
   "metadata": {},
   "source": [
    "You automated job is now running! However, you must keep Python open to keep it so. If you wish to clear the jobs, you can do so using the commands below."
   ]
  },
  {
   "cell_type": "code",
   "execution_count": 13,
   "metadata": {},
   "outputs": [],
   "source": [
    "# Clear the job, when completed\n",
    "schedule.clear()\n",
    "schedule.cancel_job(automate_run)"
   ]
  },
  {
   "cell_type": "markdown",
   "metadata": {},
   "source": [
    "This approach is simple, compartmentalised and does not require any additional authentication. However it has some major drawbacks in that;\n",
    "\n",
    "1. it only runs in the context of this notebook, which is not as stable as a system environment\n",
    "2. it requires all of the Python dependencies that we provide with this environment\n",
    "3. there is no logging if something goes wrong!\n",
    "\n",
    "A better strategy would be to take advantage of the `eumdac` command line interface (CLI) to schedule the task using common system tools. This is what we will explore next."
   ]
  },
  {
   "cell_type": "markdown",
   "metadata": {},
   "source": [
    "<div class=\"alert alert-info\" role=\"alert\">\n",
    "\n",
    "## <a id='section5'></a>5.  Automating downloading **outside of Python**\n",
    "[Back to top](#TOCTOP)\n",
    "\n",
    "</div>"
   ]
  },
  {
   "cell_type": "markdown",
   "metadata": {},
   "source": [
    "All of the data access and download commands we have constructed using the `eumdac` Python library, can be replicated using the `eumdac` command line interface (CLI). You can find more information on using the CLI on our <a href=\"https://user.eumetsat.int/resources/user-guides/eumetsat-data-access-client-eumdac-guide\" target=\"_blank\">EUMDAC user guide</a> on our <a href=\"https://user.eumetsat.int/\" target=\"_blank\">User Portal</a>. Lets go ahead an create an example of a CLI search command using the variables in this script.\n",
    "\n",
    "*Note that we are providing the full path for the eumdac CLI exectuable.*"
   ]
  },
  {
   "cell_type": "code",
   "execution_count": 14,
   "metadata": {},
   "outputs": [
    {
     "name": "stdout",
     "output_type": "stream",
     "text": [
      "Our CLI search command is\n",
      "------\n",
      "/opt/anaconda3/envs/cmts_ocean_case_studies/bin/eumdac search -c EO:EUM:DAT:0412 -s 2024-04-25T15:26:16 -e 2024-04-30T15:26:16 --geometry 'POLYGON((-23.25 20.75,-23.25 21.25,-22.75 21.25,-22.75 20.75,-23.25 20.75))' --timeliness NR\n"
     ]
    }
   ],
   "source": [
    "python_path = os.path.dirname(sys.executable)\n",
    "CLI_command_search = f\"{python_path}/eumdac search -c {collectionID} -s {dtstart.strftime(tformat)} -e {dtend.strftime(tformat)} --geometry '{polygon}' --timeliness {timeliness}\"\n",
    "print(f\"Our CLI search command is\\n------\\n{CLI_command_search}\")"
   ]
  },
  {
   "cell_type": "markdown",
   "metadata": {},
   "source": [
    "We can check this works by running this \"system command\" in Python using the `subprocess` library. We should get exactly the same answer as above."
   ]
  },
  {
   "cell_type": "code",
   "execution_count": 15,
   "metadata": {},
   "outputs": [
    {
     "name": "stdout",
     "output_type": "stream",
     "text": [
      "S3B_SL_2_WST____20240430T112844_20240430T113144_20240430T132402_0179_092_251_2520_MAR_O_NR_003.SEN3\n",
      "S3A_SL_2_WST____20240429T234146_20240429T234446_20240430T003119_0179_112_002_0180_MAR_O_NR_003.SEN3\n",
      "S3B_SL_2_WST____20240429T230550_20240429T230850_20240430T012853_0179_092_244_0360_MAR_O_NR_003.SEN3\n",
      "S3B_SL_2_WST____20240429T115455_20240429T115755_20240429T135126_0179_092_237_2520_MAR_O_NR_003.SEN3\n",
      "S3B_SL_2_WST____20240428T232900_20240428T233200_20240429T001806_0179_092_230_0180_MAR_O_NR_003.SEN3\n",
      "S3A_SL_2_WST____20240428T111903_20240428T112203_20240428T131506_0180_111_365_2520_MAR_O_NR_003.SEN3\n",
      "S3B_SL_2_WST____20240427T235511_20240427T235811_20240428T004452_0179_092_216_0180_MAR_O_NR_003.SEN3\n",
      "S3A_SL_2_WST____20240427T114514_20240427T114814_20240427T134126_0179_111_351_2520_MAR_O_NR_003.SEN3\n",
      "S3B_SL_2_WST____20240427T110917_20240427T111217_20240427T130127_0179_092_208_2700_MAR_O_NR_003.SEN3\n",
      "S3B_SL_2_WST____20240427T110617_20240427T110917_20240427T130125_0179_092_208_2520_MAR_O_NR_003.SEN3\n",
      "S3A_SL_2_WST____20240426T231919_20240426T232219_20240427T000846_0179_111_344_0180_MAR_O_NR_003.SEN3\n",
      "S3B_SL_2_WST____20240426T113227_20240426T113527_20240426T132747_0179_092_194_2520_MAR_O_NR_003.SEN3\n",
      "S3A_SL_2_WST____20240425T234529_20240425T234829_20240426T003536_0179_111_330_0180_MAR_O_NR_003.SEN3\n",
      "S3B_SL_2_WST____20240425T230932_20240425T231232_20240426T013226_0179_092_187_0360_MAR_O_NR_003.SEN3\n",
      "S3B_SL_2_WST____20240425T230632_20240425T230932_20240425T235545_0179_092_187_0180_MAR_O_NR_003.SEN3\n",
      "\n"
     ]
    }
   ],
   "source": [
    "process = subprocess.Popen(CLI_command_search, shell=True, stdout=subprocess.PIPE, stderr=subprocess.PIPE)\n",
    "print(process.communicate()[0].decode('utf-8'))"
   ]
  },
  {
   "cell_type": "markdown",
   "metadata": {},
   "source": [
    "We can adapt this CLI search command to exploit the eumdac CLI download capability as follows;"
   ]
  },
  {
   "cell_type": "code",
   "execution_count": 17,
   "metadata": {},
   "outputs": [
    {
     "name": "stdout",
     "output_type": "stream",
     "text": [
      "Our CLI download command is\n",
      "------\n",
      "/opt/anaconda3/envs/cmts_ocean_case_studies/bin/eumdac download -y -c EO:EUM:DAT:0412 -s 2024-04-25T15:26:16 -e 2024-04-30T15:26:16 --geometry 'POLYGON((-23.25 20.75,-23.25 21.25,-22.75 21.25,-22.75 20.75,-23.25 20.75))' --timeliness NR -o /Users/benloveday/Code/Git_Reps/CMTS/internal/applications/ocean-case-studies/Case_studies/Acq_syn/Automated_downloads\n"
     ]
    }
   ],
   "source": [
    "CLI_command_download = f\"{python_path}/eumdac download -y -c {collectionID} -s {dtstart.strftime(tformat)} -e {dtend.strftime(tformat)} --geometry '{polygon}' --timeliness {timeliness} -o {os.getcwd()}\"\n",
    "print(f\"Our CLI download command is\\n------\\n{CLI_command_download}\")"
   ]
  },
  {
   "cell_type": "markdown",
   "metadata": {},
   "source": [
    "*Note that we have added the \"-y\" switch to force downloading without interaction, and the -o <OUTPUT_DIR> switch to specify our download directory*\n",
    "\n",
    "All we need to do now if place the command in the correct place and find a way to adapt the dates as required. How we approach this depends on our operating system..."
   ]
  },
  {
   "cell_type": "markdown",
   "metadata": {
    "jp-MarkdownHeadingCollapsed": true
   },
   "source": [
    "<div class=\"alert alert-success\" role=\"alert\">\n",
    "\n",
    "## On Linux and MacOSx: Using Cron\n",
    "\n",
    "</div>"
   ]
  },
  {
   "cell_type": "markdown",
   "metadata": {},
   "source": [
    "Linux and Mac OSx contain an autoscheduler called \"cron\". You can access this and see what you are automating (which may be nothing!) by typing the following in a terminal;\n",
    "\n",
    "`crontab -l`\n",
    "\n",
    "to edit it, you can use\n",
    "\n",
    "`crontab -e`\n",
    "\n",
    "To use cron you need to add a line to the crontab and set the timing for scheduling the run. The timer is represented by five stars, which set minute, hour, day of the month, month and day of the week. You can find more information on timing in this <a href=\"https://crontab.guru/\" target=\"_blank\">web article</a>. To set our job to run at, for example, 09:00 every day (machine time) we would set the line in our crontab as follows;"
   ]
  },
  {
   "cell_type": "code",
   "execution_count": 18,
   "metadata": {},
   "outputs": [
    {
     "name": "stdout",
     "output_type": "stream",
     "text": [
      "0 9 * * * /opt/anaconda3/envs/cmts_ocean_case_studies/bin/eumdac download -y -c EO:EUM:DAT:0412 -s 2024-04-25T15:26:16 -e 2024-04-30T15:26:16 --geometry 'POLYGON((-23.25 20.75,-23.25 21.25,-22.75 21.25,-22.75 20.75,-23.25 20.75))' --timeliness NR -o /Users/benloveday/Code/Git_Reps/CMTS/internal/applications/ocean-case-studies/Case_studies/Acq_syn/Automated_downloads\n"
     ]
    }
   ],
   "source": [
    "print(f\"0 9 * * * {CLI_command_download}\")"
   ]
  },
  {
   "cell_type": "markdown",
   "metadata": {},
   "source": [
    "If you run `crontab -e` and copy and paste the line above into it before saving then this job is set to run on your system.\n",
    "\n",
    "**But there are two problems!**\n",
    "1. the dates are static and we need them to update\n",
    "2. there is no logging\n",
    "\n",
    "We can deal with the first point, by using the system commands from Linux and Mac OSx to update the data as we go. The date command we use depends on our operating system. We can deal with the second issue by adding a \">> <LOGFILE> 2>&1\" option at the end of our command. This will dump both standard output and errors to our log file."
   ]
  },
  {
   "cell_type": "markdown",
   "metadata": {},
   "source": [
    "### For LINUX dates (GNU date)"
   ]
  },
  {
   "cell_type": "code",
   "execution_count": 19,
   "metadata": {},
   "outputs": [
    {
     "name": "stdout",
     "output_type": "stream",
     "text": [
      "Our 'cron-ready' Linux CLI download command is\n",
      "------\n",
      "0 9 * * * /opt/anaconda3/envs/cmts_ocean_case_studies/bin/eumdac download -y -c EO:EUM:DAT:0412 -s $(date +\\%Y-\\%m-\\%d -d '5 day ago') -e $(date +\\%Y-\\%m-\\%d) --geometry 'POLYGON((-23.25 20.75,-23.25 21.25,-22.75 21.25,-22.75 20.75,-23.25 20.75))' --timeliness=NR -o /Users/benloveday/Code/Git_Reps/CMTS/internal/applications/ocean-case-studies/Case_studies/Acq_syn/Automated_downloads >> /Users/benloveday/Code/Git_Reps/CMTS/internal/applications/ocean-case-studies/Case_studies/Acq_syn/Automated_downloads/cronlog.log 2>&1\n"
     ]
    }
   ],
   "source": [
    "date_cmd_start = f\"$(date +\\%Y-\\%m-\\%d -d '{days_ago} day ago')\"\n",
    "date_cmd_end = \"$(date +\\%Y-\\%m-\\%d)\"\n",
    "CLI_command_download = f\"{python_path}/eumdac download -y -c {collectionID} -s {date_cmd_start} -e {date_cmd_end} --geometry '{polygon}' --timeliness={timeliness} -o {os.getcwd()} >> {os.path.join(os.getcwd(), 'cronlog.log')} 2>&1\"\n",
    "print(f\"Our 'cron-ready' Linux CLI download command is\\n------\\n0 9 * * * {CLI_command_download}\")"
   ]
  },
  {
   "cell_type": "markdown",
   "metadata": {},
   "source": [
    "### For OSX dates (BSD date)"
   ]
  },
  {
   "cell_type": "code",
   "execution_count": 20,
   "metadata": {},
   "outputs": [
    {
     "name": "stdout",
     "output_type": "stream",
     "text": [
      "Our 'cron-ready' OSx CLI download command is\n",
      "------\n",
      "0 9 * * * /opt/anaconda3/envs/cmts_ocean_case_studies/bin/eumdac download -y -c EO:EUM:DAT:0412 -s $(date -v-5d +\\%Y-\\%m-\\%d) -e $(date +\\%Y-\\%m-\\%d) --geometry 'POLYGON((-23.25 20.75,-23.25 21.25,-22.75 21.25,-22.75 20.75,-23.25 20.75))' --timeliness=NR  -o /Users/benloveday/Code/Git_Reps/CMTS/internal/applications/ocean-case-studies/Case_studies/Acq_syn/Automated_downloads >> /Users/benloveday/Code/Git_Reps/CMTS/internal/applications/ocean-case-studies/Case_studies/Acq_syn/Automated_downloads/cronlog.log\n"
     ]
    }
   ],
   "source": [
    "date_cmd_start = f\"$(date -v-{days_ago}d +\\%Y-\\%m-\\%d)\"\n",
    "date_cmd_end = \"$(date +\\%Y-\\%m-\\%d)\"\n",
    "CLI_command_download = f\"{python_path}/eumdac download -y -c {collectionID} -s {date_cmd_start} -e {date_cmd_end} --geometry '{polygon}' --timeliness={timeliness}  -o {os.getcwd()} >> {os.path.join(os.getcwd(), 'cronlog.log')}\"\n",
    "print(f\"Our 'cron-ready' OSx CLI download command is\\n------\\n0 9 * * * {CLI_command_download}\")"
   ]
  },
  {
   "cell_type": "markdown",
   "metadata": {},
   "source": [
    "*Note: we have to add the back-slashes to escape how Linux and OSx interprets the percent signs*\n",
    "\n",
    "**We are almost done!** To use the above, you only need to make some small changes, as follows;\n",
    "1. make sure you have run this on your own system to get the correct path to eumdac\n",
    "1. replace the download directory with your directory of choice\n",
    "1. replace the logfile with your logfile of choice\n",
    "1. update the timing from 0 9 * * *, as required\n",
    "1. copy the updated code line into your crontab\n",
    "  \n",
    "Once you have done this, you should be all set!"
   ]
  },
  {
   "cell_type": "markdown",
   "metadata": {},
   "source": [
    "<div class=\"alert alert-success\" role=\"alert\">\n",
    "\n",
    "## On Windows\n",
    "\n",
    "</div>"
   ]
  },
  {
   "cell_type": "markdown",
   "metadata": {},
   "source": [
    "**Warning: This approach is HIGHLY dependant on your system admin rights and if you are allowed to run scripts on your system**\n",
    "\n",
    "Windows schedules processes using a different method, called ScheduledTasks. We can set up the required task using a Powershell script (as Windows CMD mangles dates beyond belief). Before we go any further we need to set up our Powershell command as follows;"
   ]
  },
  {
   "cell_type": "markdown",
   "metadata": {},
   "source": [
    "### Windows Powershell dates"
   ]
  },
  {
   "cell_type": "code",
   "execution_count": null,
   "metadata": {},
   "outputs": [],
   "source": [
    "date_cmd_start = f\"(Get-Date).AddDays(-{days_ago}).ToString('yyyy-MM-dd')\"\n",
    "date_cmd_end = \"(Get-Date).ToString('yyyy-MM-dd')\"\n",
    "CLI_command_download = f'{python_path}/eumdac download -y -c {collectionID} -s {date_cmd_start}\\n-e {date_cmd_end} --geometry \"{polygon}\" --timeliness {timeliness} -o {os.getcwd()}'\n",
    "print(CLI_command_download)"
   ]
  },
  {
   "cell_type": "markdown",
   "metadata": {},
   "source": [
    "The above will require some adaptation of the paths to your **eumdac** executable and **output directory** on your system. Once we have this set up we need to write it to a powershell file called `eumdac_automate.ps1` on your system desktop. You can use notepad to create the file, but make sure you save it with the ps1 extension. Now you should follow these steps;"
   ]
  },
  {
   "cell_type": "markdown",
   "metadata": {},
   "source": [
    "1. Open the scheduler by searching for \"Task Scheduler\" in your start menu.\n",
    "2. Once it is open, select \"Action > Create Basic task\", which will open the task creation wizard (left panel, below).\n",
    "3. Under the \"Name\" section, write EUMDAC_AUTOMATION (middle panel, below).\n",
    "4. Under the \"Trigger\" section, select Daily.\n",
    "5. Under the \"Daily\" section, select the time you want the script to run every day.\n",
    "6. Under the \"Action\" section, select \"Start a program\".\n",
    "7. Under the \"Start a Program\" section, write \"powershell\" in the Program/script section (right panel, below).\n",
    "8. Under the \"Start a Program\" section, you should add the following in the \"Add arguments section\": -File <YOUR_POWERSHELL_SCRIPT>, replacing the <YOUR_POWERSHELL_SCRIPT> tag with the full path the file we created and placed on your desktop.\n",
    "9. Click Next and Finish and you are done! Your automated downloader is in place."
   ]
  },
  {
   "cell_type": "markdown",
   "metadata": {},
   "source": [
    "<img src='https://gitlab.eumetsat.int/eumetlab/oceans/ocean-training/applications/ocean-case-studies/-/raw/main/img/TS_Panel1.png?ref_type=heads' align='left' width='33%'/>\n",
    "<img src='https://gitlab.eumetsat.int/eumetlab/oceans/ocean-training/applications/ocean-case-studies/-/raw/main/img/TS_Panel2.png?ref_type=heads' align='left' width='33%'/>\n",
    "<img src='https://gitlab.eumetsat.int/eumetlab/oceans/ocean-training/applications/ocean-case-studies/-/raw/main/img/TS_Panel3.png?ref_type=heads' align='left' width='33%'/>"
   ]
  },
  {
   "cell_type": "markdown",
   "metadata": {},
   "source": [
    "If you want a bit more information you can see <a href=\"ttps://blog.netwrix.com/2018/07/03/how-to-automate-powershell-scripts-with-task-scheduler/\" target=\"_blank\">these instructions</a> on how to set up the automated tasks. Again, to reiterate, this approach will ONLY work if your system administrator allows you to run scripts through Powershell. If they do not, you should use the Pythonic approach used in [Section 4](#section4)."
   ]
  },
  {
   "cell_type": "markdown",
   "metadata": {},
   "source": [
    "<div class=\"alert alert-info\" role=\"alert\">\n",
    "\n",
    "## <a id='section6'></a>6. Conclusions\n",
    "[Back to top](#TOCTOP)\n",
    "\n",
    "</div>"
   ]
  },
  {
   "cell_type": "markdown",
   "metadata": {},
   "source": [
    "Automating data acquisition is very often the first step in building an operational data processing chain. Using the tools and examples above you should be able to exploit either the `eumdac` Python library or CLI and either a Python, cron or ScheduledTasks based approach to begin building your own system. In all cases, when you are considering automation, it is important to act as a \"good citizen\". For example, try not to overload systems by sending very frequent download enquiries (e.g. every few seconds!). "
   ]
  },
  {
   "cell_type": "markdown",
   "metadata": {},
   "source": [
    "<div class=\"alert alert-warning\" role=\"alert\">\n",
    "\n",
    "## <a id='section7'></a>7. Challenge (optional)\n",
    "[Back to top](#TOCTOP)\n",
    "\n",
    "</div>"
   ]
  },
  {
   "cell_type": "markdown",
   "metadata": {},
   "source": [
    "Once you have run the \"Within Python\" options in [Step 4](#section4), try to implement the appropriate workflows from [Step 5](#section5) for your system. If you need any help, please feel free to contact us!"
   ]
  },
  {
   "cell_type": "markdown",
   "metadata": {},
   "source": [
    "<hr>\n",
    "<a href=\"../../../Index.ipynb\"><< Index</a>\n",
    "<hr>\n",
    "<a href=\"https://gitlab.eumetsat.int/eumetlab/oceans/ocean-training/applications/ocean-case-studies\">View on GitLab</a> | <a href=\"https://training.eumetsat.int/\">EUMETSAT Training</a> | <a href=mailto:ops@eumetsat.int>Contact helpdesk for support </a> | <a href=mailto:.training@eumetsat.int>Contact our training team to collaborate on and reuse this material</a></span></p>"
   ]
  }
 ],
 "metadata": {
  "author": "Ben Loveday, Hayley Evers-King",
  "content_type": "Software & code",
  "data_access": "Data Store",
  "deployment": {
   "eumetsat": {
    "binder": {
     "link": "https://mybinder.org/v2/git/https%3A%2F%2Fgitlab.eumetsat.int%2Feumetlab%2Foceans%2Focean-training%2Fapplications%2Focean-case-studies/HEAD?labpath=Case_studies%2FAcq_syn%2FAutomated_downloads%2Automated_downloads.ipynb",
     "service_contact": "ops@eumetsat.int",
     "service_provider": "EUMETSAT"
    },
    "git": {
     "link": "https://gitlab.eumetsat.int/eumetlab/oceans/ocean-training/applications/ocean-case-studies/-/blob/main/Case_studies/Acq_syn/Automated_downloads/Automated_downloads.ipynb",
     "service_contact": "ops@eumetsat.int",
     "service_provider": "EUMETSAT"
    }
   },
   "wekeo": {
    "git": {
     "link": "https://github.com/wekeo/ocean-case-studies/blob/main/Case_studies/Acq_syn/Automated_downloads/Automated_downloads.ipynb",
     "service_contact": "ops@eumetsat.int",
     "service_provider": "EUMETSAT"
    },
    "url": {
     "link": "https://jupyterhub-wekeo.apps.eumetsat.dpi.wekeo.eu/hub/user-redirect/lab/tree/public/wekeo4oceans/ocean-case-studies/Case_studies/Acq_syn/Automated_downloads/Automated_downloads.ipynb",
     "service_contact": "ops@eumetsat.int",
     "service_provider": "EUMETSAT"
    }
   }
  },
  "description": "This Jupyter Notebook shows how to automate downloading level 2 SST products from the EUMETSAT Data Store",
  "image": "../../../../img/thumbs/Automated_downloads_thumb.png",
  "kernelspec": {
   "display_name": "Python 3 (ipykernel)",
   "language": "python",
   "name": "python3"
  },
  "language_info": {
   "codemirror_mode": {
    "name": "ipython",
    "version": 3
   },
   "file_extension": ".py",
   "mimetype": "text/x-python",
   "name": "python",
   "nbconvert_exporter": "python",
   "pygments_lexer": "ipython3",
   "version": "3.10.15"
  },
  "license": "MIT",
  "metadata_schema_version": "2.0.0",
  "originator": "EUMETSAT",
  "tags": {
   "data_provider": "EUMETSAT",
   "orbit": " ",
   "satellite": "Sentinel-3",
   "sensor": "SLSTR (Sentinel-3)",
   "service": "Sea surface temperature",
   "subtheme": "Ocean dynamics",
   "theme": "Marine",
   "variable": "Sea surface temperature"
  },
  "title": "Automating downloading of EUMETSAT Data Store level 2 SST products",
  "version": "2.0.0",
  "version_date": "2024-09-02"
 },
 "nbformat": 4,
 "nbformat_minor": 4
}

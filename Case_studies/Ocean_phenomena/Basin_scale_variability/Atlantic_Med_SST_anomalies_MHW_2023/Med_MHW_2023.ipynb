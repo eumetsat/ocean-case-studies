{
 "cells": [
  {
   "cell_type": "markdown",
   "metadata": {},
   "source": [
    "<img src='https://gitlab.eumetsat.int/eumetlab/oceans/ocean-training/tools/frameworks/-/raw/main/img/Standard_banner.png' align='right' width='100%'/>"
   ]
  },
  {
   "cell_type": "markdown",
   "metadata": {},
   "source": [
    "<a href=\"../../../../Index.ipynb\"><< Index</a>\n",
    "<br>\n",
    "<a href=\"./Atlantic_Med_SST_anomalies_2023.ipynb\" target=\"_blank\"><< Sea surface temperature anomalies in the Northern Atlantic and Mediterranean Sea in 2023</a>"
   ]
  },
  {
   "cell_type": "markdown",
   "metadata": {},
   "source": [
    "<font color=\"#138D75\">**Copernicus Marine Training Service**</font> <br>\n",
    "**Copyright:** 2023 EUMETSAT <br>\n",
    "**License:** MIT <br>\n",
    "**Authors:** Ben Loveday (EUMETSAT/Innoflair UG), Hayley Evers-King (EUMETSAT)"
   ]
  },
  {
   "cell_type": "markdown",
   "metadata": {},
   "source": [
    "<html>\n",
    "  <div style=\"width:100%\">\n",
    "    <div style=\"float:left\"><a href=\"https://mybinder.org/v2/git/https%3A%2F%2Fgitlab.eumetsat.int%2Feumetlab%2Foceans%2Focean-training%2Fapplications%2ocean-case-studies/HEAD?urlpath=%2Ftree%2FCase_studies%2FOcean_phenomena%2FBasin_scale_variability%2FAtlantic_Med_SST_anomalies_MHW_2023%2FMed_MHW_2023.ipynb\"><img src=\"https://mybinder.org/badge_logo.svg\" alt=\"Open in Binder\"></a></div>\n",
    "    <div style=\"float:left\"><p>&emsp;</p></div>\n",
    "  </div>\n",
    "  <div style=\"width:100%\">\n",
    "    <div style=\"float:left\"><a href=\"https://jupyterhub-wekeo.apps.eumetsat.dpi.wekeo.eu/hub/user-redirect/lab/tree/public/wekeo4oceans/ocean-case-studies/Case_studies/Ocean_phenomena/Basin_scale_variability/Atlantic_Med_SST_anomalies_MHW_2023/Med_MHW_2023.ipynb\"><img src=\"https://img.shields.io/badge/launch-WEKEO-1a4696.svg?style=flat&logo=data:image/png;base64,iVBORw0KGgoAAAANSUhEUgAAAA8AAAAMCAMAAACKnBfWAAAABGdBTUEAALGPC/xhBQAAACBjSFJNAAB6JgAAgIQAAPoAAACA6AAAdTAAAOpgAAA6mAAAF3CculE8AAABwlBMVEUAYbdepNtBc7VCdLhNhMQkXKpsn9RWltFZl9VlpNI3aK9fpNtMd7ZznM8pg8o4WJc2TZFHY6MmQYptiLxnqt5hptxfpNtfpNtfpNtgpdtip9x2uullqN1fpNtdo9pepdtanNQ9a65Bc7dCeb5nqt5fpNslUpssW6RMgcBTjstWldJhptxdo9phoNdkpdtfpNtoqNxepNplo9hepNthnNNfpdtelM1hptxSgL5dj8hoqt5fpNsjRYgjPog8WqBHa61TfLplqN1fpdtfpdxam9IyTIw2TZFGYaBoqt5hptxfpdtepNpfpNtgpdtjp9x5vu5do9pHgb5co9pepNtHgbwWN4AVP5AhU6JLgL9dl89epNphpttgpdtipttnqd1ho9glSIkWM3snSokeTJdHda9cksphndRmqNyTweaWxOePv+WfyemAs91QYphFUmpuclhKYHRwh5V8pNNdls6iyuq72fCNvuWIueCIlbtTW2hwcFNTY2lmfpSBpNJZj8lsq91xr99nqdx4suBrqds7V5AlNm85S20lRIJVcZxZgr1Uh8NcotpbotpdpNtGfrcTKnAOKXsYOYo4XKRJcbNHfbf////t/CgnAAAAUHRSTlMAAAAAAAAAAAAAAAAAAAAAAAAAAByF2PfyxGAJLcH+9pQvJgsav/7s57hBf/3gQdO69vH18dK4fN0+GLz96uSzPCq99JArIgkagNTz7r9bB4DtcFsAAAABYktHRJUIYHqDAAAAB3RJTUUH5wIKESIRAg6dCwAAALtJREFUCNdjYGAUERUTl5CUkmZiZmFlY2CUkZULAAJ5BUUlZXYOBhXVADAIVFPX0NTiZNDWAXKCgkNCw8IjInX1GPSjomNi4+ITEpOSU1LTDBgM0zMys7JzcvPyCwqLio0YjKNKSstKyisqq6prautMGEwD6hsam5pbWtvaOzq7zBjMdbq7g3p6+/onTJw02cKSwcoaYt8UG1s7ewcuBm5HJ7B7nF1c3dx5eBn4uD08vbx9fP38+QUEhYQB5Z40RP8+e1wAAAAldEVYdGRhdGU6Y3JlYXRlADIwMjMtMDItMTBUMTc6MzM6NDUrMDA6MDCCLR1xAAAAJXRFWHRkYXRlOm1vZGlmeQAyMDIzLTAyLTEwVDE3OjI2OjU5KzAwOjAw393bowAAAABJRU5ErkJggg==\" alt=\"Open in WEkEO\"></a></div>\n",
    "    <div style=\"float:left\"><p>&emsp;</p></div>\n",
    "  </div> \n",
    "</html>"
   ]
  },
  {
   "cell_type": "markdown",
   "metadata": {},
   "source": [
    "<div class=\"alert alert-block alert-success\">\n",
    "<h3>Ocean case studies</h3></div>"
   ]
  },
  {
   "cell_type": "markdown",
   "metadata": {},
   "source": [
    "<div class=\"alert alert-block alert-warning\">\n",
    "    \n",
    "<b>PREREQUISITES </b>\n",
    "\n",
    "This notebook has the following ntoebook prerequisites:\n",
    "- **<a href=\"./Atlantic_Med_SST_anomalies_2023.ipynb\" target=\"_blank\">Sea surface temperature anomalies in the Northern Atlantic and Mediterranean Sea in 2023</a>** will download the data you require to run this notebook.\n",
    "    \n",
    "</div>\n",
    "<hr>"
   ]
  },
  {
   "cell_type": "markdown",
   "metadata": {},
   "source": [
    "# Marine heatwaves in the Mediterranean Sea in 2023\n",
    "\n",
    "### Data used\n",
    "\n",
    "| Product Description | Data Store collection ID| Product Navigator | WEkEO HDA ID | WEkEO metadata |\n",
    "|:--------------------:|:-----------------------:|:-------------:|:-----------------:|:-----------------:|\n",
    "| Global OSTIA SST (Reprocessed) | - | - | EO:MO:DAT:SST_GLO_SST_L4_REP_OBSERVATIONS_010_011 | <a href=\"https://www.wekeo.eu/data?view=dataset&dataset=EO%3AMO%3ADAT%3ASST_GLO_SST_L4_REP_OBSERVATIONS_010_011\" target=\"_blank\">link</a> |\n",
    "| Global OSTIA SST (Near real-time) | - | - | EO:MO:DAT:SST_GLO_SST_L4_NRT_OBSERVATIONS_010_001 | <a href=\"https://www.wekeo.eu/data?view=dataset&dataset=EO%3AMO%3ADAT%3ASST_GLO_SST_L4_NRT_OBSERVATIONS_010_001\" target=\"_blank\">link</a> |\n",
    "\n",
    "### Learning outcomes\n",
    "\n",
    "At the end of this notebook you will know how to;\n",
    "* use time series of satellite SST data to investigate marine heatwaves\n",
    "\n",
    "### Outline\n",
    "\n",
    "Concurrent with the past century's persistent warming of global oceans, marine heatwaves (periods of extreme regional ocean warming) have become more frequent and more extreme (<a href=\"https://www.science.org/doi/10.1126/science.aba0690\" target=\"_blank\">Laufkötter et al., 2020</a>, IPCC AR6, IPCC SR on ocean and cryosphere). They occur in many areas around the world, from the Pacific Ocean to the Atlantic Ocean to the Mediterranean Sea. Marine heatwaves can occur over thousands to millions of square kilometres, can persist for weeks to months, and can occur over significant depth. \n",
    "\n",
    "Marine heatwaves are generally defined as as period of abnormally high ocean temperatures, relative to a regional and seasonal average determined over time. The exact statistical methodology used, can vary, depending on the relation between the extreme heat  and the impact of interest. \n",
    "\n",
    "<figure>\n",
    "  <img src='../../../../img/Hobday_MHW.png' width='50%'/>\n",
    "  <figcaption>Figure 1: Marine heat wave characterisations (Credit: <a href=\"https://www.researchgate.net/publication/325504331_Categorizing_and_Naming_Marine_Heatwaves\" target=\"_blank\">Hobday et al., 2018</a>)</figcaption>\n",
    "</figure>\n",
    "\n",
    "Impacts of marine heatwaves include:\n",
    "* Impact on air-sea flux of CO2\n",
    "* Tropical cyclone formation\n",
    "* Coral bleaching\n",
    "* Mammal and sea bird mortality\n",
    "* Harmful Algal Blooms\n",
    "* Spatiotemporal shifts in habitats (affecting fisheries).\n",
    "\n",
    "A thorough review of biological impacts of marine heatwaves can be found in <a href=\"https://www.annualreviews.org/doi/full/10.1146/annurev-marine-032122-121437\" target=\"_blank\">Smith et al., 2023</a>.\n",
    "\n",
    "In this notebook we will use the marine heatwave toolkit developed by <a href=\"https://www.sciencedirect.com/science/article/abs/pii/S0079661116000057b\" target=\"_blank\">Hobday et al., 2016</a>, to identify marine heatwaves in the Mediterranean Sea.\n",
    "\n",
    "<div class=\"alert alert-info\" role=\"alert\">\n",
    "\n",
    "## <a id='TOC_TOP'></a>Contents\n",
    "\n",
    "</div>\n",
    "\n",
    " 1. [Setting notebook parameters](#section1)\n",
    " 1. [Gathering our SST files](#section2)\n",
    " 1. [Loading the data and calculating climatologies](#section3)\n",
    " 1. [Identifying heatwaves](#section4)\n",
    " 1. [Conclusions](#section5)\n",
    "\n",
    "<hr>"
   ]
  },
  {
   "cell_type": "markdown",
   "metadata": {},
   "source": [
    "We begin by importing all of the libraries that we need to run this notebook. If you have built your python using the environment file provided in this repository, then you should have everything you need. For more information on building environment, please see the repository **<a href=\"../../../../README.md\" target=\"_blank\">README</a>**. The key library, `xmhw`, allows us to calculate marine heatwaves based on **<a href=\"https://www.sciencedirect.com/science/article/abs/pii/S0079661116000057b\" target=\"_blank\">Hobday et al., 2016</a>**. For more information on this package, please see the **<a href=\"https://github.com/coecms/xmhw\" target=\"_blank\">xmhw</a>** GitHub pages."
   ]
  },
  {
   "cell_type": "code",
   "execution_count": null,
   "metadata": {},
   "outputs": [],
   "source": [
    "import xarray as xr                     # a powerful library that helps us work efficiently with multi-dimensional arrays\n",
    "import os                               # a library that allows us access to basic operating system commands\n",
    "import glob                             # a package that helps with file searching\n",
    "import matplotlib.pyplot as plt         # a library the provides plotting capability\n",
    "from matplotlib import gridspec         # a library the provides plotting capability\n",
    "import numpy as np                      # a library that lets us work with arrays; we import this with a new name \"np\"\n",
    "import datetime                         # a library that allows us to work with dates and times\n",
    "import pandas as pd                     # a library for time series analysis\n",
    "import warnings                         # a library the helps us to manage warnings\n",
    "from xmhw.xmhw import detect, threshold # a library that support Xarray calculation of marine heatwaves, based on Hobday et al. 2016 <<<\n",
    "\n",
    "# turn off warnings\n",
    "warnings.filterwarnings(\"ignore\")"
   ]
  },
  {
   "cell_type": "markdown",
   "metadata": {},
   "source": [
    "<div class=\"alert alert-info\" role=\"alert\">\n",
    "\n",
    "## <a id='section1'></a>1. Setting notebook parameters\n",
    "[Back to top](#TOC-TOP)\n",
    "\n",
    "</div>"
   ]
  },
  {
   "cell_type": "markdown",
   "metadata": {},
   "source": [
    "To start, lets define a few parameters that will determine how we run our Jupyter Notebook. We will begin by defining the directory where our time series is stored. If you don't have a time series of data, you should look at the previous notebook, **<a href=\"../../Atlantic_Med_SST_anomalies_2023.ipynb\" target=\"_blank\">Sea surface temperature anomalies in the Northern Atlantic and Mediterranean Sea in 2023</a>**, which will acquire some for you.\n",
    "\n",
    "We are going to look at two times series; one derived from Copernicus Marine Service (CMEMS) multi-year (\"my\") **reprocessed** products, and one from near real-time (\"nrt\") **operational** products. Below we define the tags used to reference the data. We are going to look at three experiments;\n",
    "* defining heatwaves using the **maximum** length of record to define the climatology in each case (1982 - 2023)\n",
    "* defining heatwaves using the **common** period of our data (2007 - 2020)\n",
    "* defining heatwaves using the most **recent** years of our data from 2007 onwards\n",
    "\n",
    "We will set date bounds to match these three experiments, as well as dates for plotting."
   ]
  },
  {
   "cell_type": "code",
   "execution_count": null,
   "metadata": {},
   "outputs": [],
   "source": [
    "download_dir = os.path.join(os.getcwd(), \"products\")\n",
    "tags = [\"NRT\", \"MY\"]\n",
    "\n",
    "# data selections years\n",
    "experiments = [\"max\", \"common\", \"recent\"]\n",
    "start_years = {\"MY\" : [1982, 2007, 2007], \"NRT\": [1982, 2007, 2007]}\n",
    "end_years = {\"MY\" : [2023, 2020, 2020], \"NRT\": [2023, 2020, 2023]}\n",
    "\n",
    "# plot history\n",
    "plot_start_year = [2015, 2015, 2018]\n",
    "plot_end_year = [2023, 2019, 2023]"
   ]
  },
  {
   "cell_type": "markdown",
   "metadata": {},
   "source": [
    "<div class=\"alert alert-info\" role=\"alert\">\n",
    "\n",
    "## <a id='section2'></a>2. Gathering our SST data files\n",
    "[Back to top](#TOC-TOP)\n",
    "\n",
    "</div>"
   ]
  },
  {
   "cell_type": "markdown",
   "metadata": {},
   "source": [
    "Now we have set out parameters, we will load our data into a two `xarray` DataArrays, which we will store in a single dictionary called `heatwaves`."
   ]
  },
  {
   "cell_type": "code",
   "execution_count": null,
   "metadata": {},
   "outputs": [],
   "source": [
    "heatwaves = {}\n",
    "for tag in tags:\n",
    "    print(f'Loading {tag} data')\n",
    "    heatwaves[tag] = {}\n",
    "    TS_files = glob.glob(os.path.join(download_dir,f\"TS_*_{tag}.nc\"))\n",
    "    DS = xr.open_mfdataset(TS_files)\n",
    "    DS[\"DoY\"]=([\"time\"], np.array(DS.time.dt.dayofyear)-1)\n",
    "    heatwaves[tag][f\"dataset\"] = DS"
   ]
  },
  {
   "cell_type": "markdown",
   "metadata": {},
   "source": [
    "<div class=\"alert alert-info\" role=\"alert\">\n",
    "\n",
    "## <a id='section3'></a>3. Loading the data and calculating climatologies\n",
    "[Back to top](#TOC-TOP)\n",
    "\n",
    "</div>"
   ]
  },
  {
   "cell_type": "markdown",
   "metadata": {},
   "source": [
    "Our data is not loaded into a Python \"dictionary\" called heatwaves. We can explore the dictionary like so;"
   ]
  },
  {
   "cell_type": "code",
   "execution_count": null,
   "metadata": {},
   "outputs": [],
   "source": [
    "heatwaves"
   ]
  },
  {
   "cell_type": "markdown",
   "metadata": {},
   "source": [
    "Now we have our data loaded, lets extract SST time series for both the operational and reprocessed products and calculate climatologies and \"thresholds\" for both. The thresholds, defined the level above the climatology the SST signal must reach to to be considered a heatwave."
   ]
  },
  {
   "cell_type": "code",
   "execution_count": null,
   "metadata": {},
   "outputs": [],
   "source": [
    "for tag in tags:\n",
    "    for start_year, end_year, experiment in zip(start_years[tag], end_years[tag], experiments):\n",
    "        heatwaves[tag][experiment] = {}\n",
    "        heatwaves[tag][experiment][\"SST_time_series\"] = heatwaves[tag][f\"dataset\"][\"analysed_sst\"].sel(time=slice(f'{start_year}-01-01', f'{end_year}-12-31')) - 273.15\n",
    "        heatwaves[tag][experiment][\"DoY\"] = heatwaves[tag][f\"dataset\"][\"DoY\"].sel(time=slice(f'{start_year}-01-01', f'{end_year}-12-31'))\n",
    "        heatwaves[tag][experiment][\"clim\"] = threshold(heatwaves[tag][experiment][\"SST_time_series\"])\n",
    "        heatwaves[tag][experiment][\"max_year\"] = np.array(heatwaves[tag][experiment][\"SST_time_series\"][-1].time.dt.year)\n",
    "        heatwaves[tag][experiment][\"min_year\"] = np.array(heatwaves[tag][experiment][\"SST_time_series\"][0].time.dt.year)"
   ]
  },
  {
   "cell_type": "markdown",
   "metadata": {},
   "source": [
    "Lets now plot our climatologies and thresholds..."
   ]
  },
  {
   "cell_type": "code",
   "execution_count": null,
   "metadata": {},
   "outputs": [],
   "source": [
    "plt.figure(figsize=(20, 6))\n",
    "plt.rc('font', size=14)\n",
    "gs = gridspec.GridSpec(1, 3)\n",
    "\n",
    "for experiment, plot_number in zip(experiments, range(3)):\n",
    "    axes = plt.subplot(gs[0, plot_number])\n",
    "    plots = [] ; labels = []; annot = experiment.upper()\n",
    "    for tag, plot_col in zip(tags, [\"k\", \"r\"]):\n",
    "        DS = heatwaves[tag][experiment]\n",
    "        p1, = axes.plot(DS[\"clim\"].doy, DS[\"clim\"].seas, c=plot_col)\n",
    "        p2, = axes.plot(DS[\"clim\"].doy, DS[\"clim\"].thresh, c=plot_col, linestyle='--')\n",
    "        plots.append([p1, p2])\n",
    "        labels.append([f\"Seasonal climatology {tag})\", f\"Threshold [{tag}]\"])\n",
    "        annot = annot + \"\\n\" + f\"{tag}:{DS['min_year']}-{DS['max_year']}\"\n",
    "    plt.grid(color='0.25', linestyle='--', linewidth=0.5, alpha=0.5)\n",
    "    plt.legend([item for sublist in plots for item in sublist], [item for sublist in labels for item in sublist],\n",
    "               frameon=False, bbox_to_anchor=(0.5, 1.10), loc='upper center', ncol=2, fontsize=8)\n",
    "    plt.annotate(annot, (0.05, 0.8), xycoords=\"axes fraction\", color='b')\n",
    "    plt.xlabel(r'Day of year')\n",
    "    plt.ylabel(r'SST [$^\\circ$C]')\n",
    "plt.show()"
   ]
  },
  {
   "cell_type": "markdown",
   "metadata": {},
   "source": [
    "Unsurpisingly, we can see that our climatology and thresholds differ significantly the **max** case. However, there are also small, but noticeable differences in the common case, which can be attributed to the differences in processing in between the operational and reprocessed data. Extending the operational climatology in the **recent** case exacerbates these differences, pushing the climatology and threshold upwards, clearly showing the effects of warming in the recent 3 years."
   ]
  },
  {
   "cell_type": "markdown",
   "metadata": {},
   "source": [
    "<div class=\"alert alert-info\" role=\"alert\">\n",
    "\n",
    "## <a id='section4'></a>4. Identifying heatwaves\n",
    "[Back to top](#TOC-TOP)\n",
    "\n",
    "</div>"
   ]
  },
  {
   "cell_type": "markdown",
   "metadata": {},
   "source": [
    "Now lets calculate our heatwaves based on our three experiments..."
   ]
  },
  {
   "cell_type": "code",
   "execution_count": null,
   "metadata": {},
   "outputs": [],
   "source": [
    "for tag in tags:\n",
    "    for experiment in experiments:\n",
    "        heatwaves[tag][experiment][\"mhws\"] = detect(heatwaves[tag][experiment][\"SST_time_series\"],\n",
    "                                                    heatwaves[tag][experiment][\"clim\"][\"thresh\"],\n",
    "                                                    heatwaves[tag][experiment][\"clim\"][\"seas\"])"
   ]
  },
  {
   "cell_type": "markdown",
   "metadata": {},
   "source": [
    "How many heatwaves do we have in each case?"
   ]
  },
  {
   "cell_type": "code",
   "execution_count": null,
   "metadata": {},
   "outputs": [],
   "source": [
    "for tag in tags:\n",
    "    for experiment in experiments:\n",
    "        heatwaves[tag][experiment][\"n_events\"] = len(heatwaves[tag][experiment][\"mhws\"][\"event\"])\n",
    "        print(f'Number of heatwaves ({tag} / {experiment}): {heatwaves[tag][experiment][\"n_events\"]}')"
   ]
  },
  {
   "cell_type": "markdown",
   "metadata": {},
   "source": [
    "Already here, we can start to see differences.\n",
    "* In the **max** case, this is expected due to the differences in the time period used.\n",
    "* However, in the common period, we identify 3 more heatwaves in the **reprocessed** data than we do in the **operational** data!\n",
    "* Comparing the **NRT / common** and **NRT / recent** experiments shows that we have identified two new heatwaves in the period to date than in the 2007 to 2020 common period.\n",
    "\n",
    "Lets look at these heatwaves in more detail, plotting them in time."
   ]
  },
  {
   "cell_type": "code",
   "execution_count": null,
   "metadata": {},
   "outputs": [],
   "source": [
    "# highlight most recent!\n",
    "ev = -1\n",
    "\n",
    "for experiment, ii in zip(experiments, range(3)):\n",
    "    plt.figure(figsize=(20, 12))\n",
    "    plt.rc('font', size=14)\n",
    "    gs = gridspec.GridSpec(2, 1)\n",
    "        \n",
    "    for tag, jj in zip(tags, range(2)):\n",
    "        axes = plt.subplot(gs[jj, 0])    \n",
    "\n",
    "        DS = heatwaves[tag][experiment]\n",
    "\n",
    "        p1, = axes.plot(DS[\"SST_time_series\"][\"time\"], DS[\"clim\"][\"seas\"].values[DS[\"DoY\"]], 'b--', linewidth=1, zorder=1)\n",
    "        p2, = axes.plot(DS[\"SST_time_series\"][\"time\"], DS[\"clim\"][\"thresh\"].values[DS[\"DoY\"]], 'r', linewidth=1, zorder=2)\n",
    "        p3, = axes.plot(DS[\"SST_time_series\"][\"time\"], DS[\"SST_time_series\"], 'k', linewidth=1, zorder=3)\n",
    "        \n",
    "        # Find indices for previous MHW and shade\n",
    "        for ev0 in np.arange(ev-10, min(ev+10, DS[\"n_events\"]), 1):\n",
    "            t1 = np.where(DS[\"SST_time_series\"][\"time\"]==DS[\"mhws\"][\"time_start\"][ev0].values)[0][0]\n",
    "            t2 = np.where(DS[\"SST_time_series\"][\"time\"]==DS[\"mhws\"][\"time_end\"][ev0].values)[0][0]\n",
    "            if ev0 == ev:\n",
    "                plot_col = 'r'\n",
    "            else:\n",
    "                plot_col = (1,0.6,0.5)\n",
    "            plt.fill_between(np.array(DS[\"SST_time_series\"][\"time\"][t1:t2+1]),\n",
    "                             DS[\"clim\"][\"thresh\"].values[DS[\"DoY\"]][t1:t2+1],\n",
    "                             np.array(DS[\"SST_time_series\"][t1:t2+1]), color=plot_col)\n",
    "        \n",
    "        plt.xlim(datetime.datetime(plot_start_year[ii], 1, 1), datetime.datetime(plot_end_year[ii], 12, 31))\n",
    "        plt.ylim(DS[\"clim\"][\"seas\"].min() - 1, DS[\"clim\"][\"seas\"].max() + 2)\n",
    "        plt.grid(color='0.25', linestyle='--', linewidth=0.5, alpha=0.5)\n",
    "        plt.legend([p1, p2, p3],[f\"Seasonal climatology ({tag})\", f\"Threshold ({tag})\", f\"SST ({tag})\"],\n",
    "                   frameon=False, bbox_to_anchor=(0.5, 1.1), loc='upper center', ncol=3)\n",
    "        plt.xlabel(r'Date')\n",
    "        plt.ylabel(r'SST [$^\\circ$C]')\n",
    "        plt.annotate(experiment.upper(), (0.01, 1.05), xycoords=\"axes fraction\", color='b')\n",
    "\n",
    "    plt.show();\n",
    "    plt.savefig(f'Marine_heat_waves_{experiment}.png', bbox_inches='tight');"
   ]
  },
  {
   "cell_type": "markdown",
   "metadata": {},
   "source": [
    "<div class=\"alert alert-warning\" role=\"alert\">\n",
    "\n",
    "## <a id='section5'></a>5. Conclusions\n",
    "[Back to top](#TOC-TOP)\n",
    "\n",
    "</div>"
   ]
  },
  {
   "cell_type": "markdown",
   "metadata": {},
   "source": [
    "In this notebook we have employed the <a href=\"https://www.sciencedirect.com/science/article/abs/pii/S0079661116000057b\" target=\"_blank\">Hobday et al., 2016</a> method to identify heatwaves in the Mediterranean Sea. We have seen from our experiments, that identifying heatwaves depends quite critically on how we construct our climatology. It's source, length and \"recentness\" are all key considerations.\n",
    "\n",
    "We show that 2022 showed a very strong heatwave in our region of interest, and that 2023 has already showed the presence of some heatwaves, with one continuing to develop now."
   ]
  },
  {
   "cell_type": "markdown",
   "metadata": {},
   "source": [
    "<hr>\n",
    "<a href=\"../../../../Index.ipynb\"><< Index</a>\n",
    "<br>\n",
    "<a href=\"./Atlantic_Med_SST_anomalies_2023.ipynb\" target=\"_blank\"><< Sea surface temperature anomalies in the Northern Atlantic and Mediterranean Sea in 2023</a>\n",
    "<hr>\n",
    "<a href=\"https://gitlab.eumetsat.int/eumetlab/oceans/ocean-training/applications/ocean-case-studies\">View on GitLab</a> | <a href=\"https://training.eumetsat.int/\">EUMETSAT Training</a> | <a href=mailto:ops@eumetsat.int>Contact helpdesk for support </a> | <a href=mailto:Copernicus.training@eumetsat.int>Contact our training team to collaborate on and reuse this material</a></span></p>"
   ]
  }
 ],
 "metadata": {
  "author": "Ben Loveday, Hayley Evers-King",
  "description": "This Jupyter Notebook shows investigates marine heat waves in the Mediterranean Sea in 2023 using sea surface temperature data from Sentinel-3 SLSTR and the CMEMS OSTIA product.",
  "image": "../../../../img/thumbs/Med_MHW_2023.png",
  "kernelspec": {
   "display_name": "Python 3 (ipykernel)",
   "language": "python",
   "name": "python3"
  },
  "language_info": {
   "codemirror_mode": {
    "name": "ipython",
    "version": 3
   },
   "file_extension": ".py",
   "mimetype": "text/x-python",
   "name": "python",
   "nbconvert_exporter": "python",
   "pygments_lexer": "ipython3",
   "version": "3.9.16"
  },
  "services": {
   "eumetsat": {
    "binder": {
     "link": "https://mybinder.org/v2/git/https%3A%2F%2Fgitlab.eumetsat.int%2Feumetlab%2Foceans%2Focean-training%2Fapplications%2ocean-case-studies/HEAD?urlpath=%2Ftree%2FCase_studies%2FOcean_phenomena%2FBasin_scale_variability%2FAtlantic_Med_SST_anomalies_MHW_2023%2FAtlantic_Med_MHW_2023.ipynb",
     "service_contact": "ops@eumetsat.int",
     "service_provider": "EUMETSAT"
    },
    "git": {
     "link": "https://gitlab.eumetsat.int/eumetlab/oceans/ocean-training/applications/ocean-case-studies/-/blob/main/Case_studies/Ocean_phenomena/Basin_scale_variability/Atlantic_Med_SST_anomalies_MHW_2023/Atlantic_Med_MHW_2023.ipynb",
     "service_contact": "ops@eumetsat.int",
     "service_provider": "EUMETSAT"
    }
   },
   "wekeo": {
    "git": {
     "link": "https://github.com/wekeo/ocean-case-studies/blob/main/Case_studies/Ocean_phenomena/Basin_scale_variability/Atlantic_Med_SST_anomalies_MHW_2023/Atlantic_Med_MHW_2023.ipynb",
     "service_contact": "ops@eumetsat.int",
     "service_provider": "EUMETSAT"
    },
    "url": {
     "link": "https://jupyterhub-wekeo.apps.eumetsat.dpi.wekeo.eu/hub/user-redirect/lab/tree/public/wekeo4oceans/ocean-case-studies/Case_studies/Ocean_phenomena/Basin_scale_variability/Atlantic_Med_SST_anomalies_MHW_2023/Atlantic_Med_MHW_2023.ipynb",
     "service_contact": "ops@eumetsat.int",
     "service_provider": "EUMETSAT"
    }
   }
  },
  "tags": {
   "domain": "Marine",
   "platform": [
    "Sentinel-3",
    "CMEMS"
   ],
   "sensor": [
    "SLSTR",
    "OSTIA"
   ],
   "service": [
    "EUMETSAT",
    "CMEMS"
   ],
   "subtheme": "Oceans and climate",
   "tags": "Sea surface temperature"
  },
  "title": "Exploring North Atlantic and Mediterranean marine heatwaves using SST"
 },
 "nbformat": 4,
 "nbformat_minor": 4
}

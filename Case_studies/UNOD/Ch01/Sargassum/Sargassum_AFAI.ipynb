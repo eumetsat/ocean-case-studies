{
 "cells": [
  {
   "cell_type": "markdown",
   "metadata": {},
   "source": [
    "<img src='https://gitlab.eumetsat.int/eumetlab/oceans/ocean-training/tools/frameworks/-/raw/main/img/UN_decade_banner.png' align='right' width='100%'/>"
   ]
  },
  {
   "cell_type": "markdown",
   "metadata": {},
   "source": [
    "<a href=\"../../../../Index.ipynb\" target=\"_blank\"><< Index</a>"
   ]
  },
  {
   "cell_type": "markdown",
   "metadata": {},
   "source": [
    "<font color=\"#138D75\">**Copernicus Marine Training Service**</font> <br>\n",
    "**Copyright:** 2025 European Union <br>\n",
    "**License:** MIT <br>\n",
    "**Authors:** Ben Loveday (EUMETSAT/Innoflair UG), Hayley Evers-King (EUMETSAT)"
   ]
  },
  {
   "cell_type": "markdown",
   "metadata": {},
   "source": [
    "<html>\n",
    "   <div style=\"float:left\"><p>&emsp;</p></div>\n",
    "   <div style=\"float:left\"><a href=\"https://gitlab.eumetsat.int/eumetlab/oceans/ocean-training/applications/ocean-case-studies\"><img src=\"https://img.shields.io/badge/open-EUMETLAB-E67E22.svg\"></a></div>\n",
    "   <div style=\"float:left\"><p>&emsp;</p></div>\n",
    "   <div style=\"float:left\"><a href=\"https://user.eumetsat.int/data/themes/marine\"><img src=\"https://img.shields.io/badge/open-USER PORTAL-154360.svg\"></a></div>\n",
    "   <div style=\"float:left\"><p>&emsp;</p></div>\n",
    "   <div style=\"float:left\"><a href=\"https://mybinder.org/v2/git/https%3A%2F%2Fgitlab.eumetsat.int%2Feumetlab%2Foceans%2Focean-training%2Fapplications%2Focean-case-studies/HEAD?labpath=Case_studies%2FUNOD%2FCh01%2FSargassum%2FSargassum_AFAI.ipynb\"><img src=\"https://mybinder.org/badge_logo.svg\"></a></div>\n",
    "   <div style=\"float:left\"><p>&emsp;</p></div>\n",
    "   <div style=\"float:left\"><a href=\"https://jupyterhub.prod.wekeo2.eu/hub/user-redirect/lab/tree/public/wekeo4oceans/ocean-case-studies/Case_studies/UNOD/Ch01/Sargassum/Sargassum_AFAI.ipynb\"><img src=\"https://img.shields.io/badge/launch-WEKEO-1a4696.svg\"></a></div>\n",
    "   <div style=\"float:left\"><p>&emsp;</p></div>\n",
    "   <div style=\"float:left\"><a href=\"https://code.insula.destine.eu/hub/\"><img src=\"https://img.shields.io/badge/launch-DestinE-f43fd3.svg\"></a></div></div>\n",
    "</html>"
   ]
  },
  {
   "cell_type": "markdown",
   "metadata": {},
   "source": [
    "<div class=\"alert alert-block alert-success\">\n",
    "<h3>Ocean colour applications</h3></div>"
   ]
  },
  {
   "cell_type": "markdown",
   "metadata": {},
   "source": [
    "<div class=\"alert alert-block alert-warning\">\n",
    "    \n",
    "<b>PREREQUISITES </b>\n",
    "\n",
    "This notebook has the following prerequisites:\n",
    "- **<a href=\"https://my.wekeo.eu/user-registration\" target=\"_blank\">A WEkEO account</a>** to work with Copernicus Sentinel-3 OLCI marine data from EUMETSAT Data Store\n",
    "    \n",
    "There are no prerequisite notebooks for this module, but you may wish to look at the following notebooks on using Sentinel-3 OLCI data; <br>\n",
    "- **<a href=\"https://gitlab.eumetsat.int/eumetlab/oceans/ocean-training/sensors/learn-olci\" target=\"_blank\">Learn OLCI (EUMETSAT Gitlab)</a>**\n",
    "\n",
    "</div>\n",
    "<hr>"
   ]
  },
  {
   "cell_type": "markdown",
   "metadata": {},
   "source": [
    "# Monitoring Sargassum in the Caribbean\n",
    "<font color=\"#138D75\">**UN Ocean Decade Challenge 1: Understand and beat marine pollution**</font>\n",
    "\n",
    "\n",
    "### Data used\n",
    "\n",
    "| Dataset | EUMETSAT collection ID | EUMETSAT collection<br>description | WEkEO dataset ID | WEkEO description | Copernicus Marine<br>Data Store product ID | Copernicus Marine<br>product description |\n",
    "|:--------------------:|:-----------------------:|:-------------:|:-----------------:|:-----------------:|:-----------------:|:-----------------:|\n",
    "| Sentinel-3 OLCI level-1b full resolution | EO:EUM:DAT:0409 | <a href=\"https://user.eumetsat.int/catalogue/EO:EUM:DAT:SENTINEL-3:OL_1_EFR___NTC\" target=\"_blank\">Description</a> | EO:EUM:DAT:SENTINEL-3:OL_1_EFR___ | <a href=\"https://www.wekeo.eu/data?view=dataset&dataset=EO%3AEUM%3ADAT%3ASENTINEL-3%3AOL_1_EFR___\" target=\"_blank\">Description</a> | - | - |\n",
    "| Sentinel-3 OLCI level-2 full resolution | EO:EUM:DAT:0407 | <a href=\"https://user.eumetsat.int/catalogue/EO:EUM:DAT:SENTINEL-3:OL_2_WFR___NTC\" target=\"_blank\">Description</a> | EO:EUM:DAT:SENTINEL-3:OL_2_WFR___ | <a href=\"https://www.wekeo.eu/data?view=dataset&dataset=EO%3AEUM%3ADAT%3ASENTINEL-3%3AOL_2_WFR___\" target=\"_blank\">Description</a> | - | - |\n",
    "\n",
    "### Learning outcomes\n",
    "\n",
    "At the end of this notebook you will know how to ;\n",
    "\n",
    "* access Sentinel-3 OLCI ocean colour data via WEkEO\n",
    "* process Sentinel-3 OLCI data sets with the ESA SNAP package using the WEkEO `eocanvas` serverless function architecture\n",
    "\n",
    "### Outline\n",
    "\n",
    "<figure>\n",
    "  <img src=\"https://as2.ftcdn.net/v2/jpg/02/11/56/61/1000_F_211566117_odCrBnIVAp2F3IWZcb2PDyokPEn0SD67.jpg\" width='43%'/>\n",
    "  <img src=\"https://gitlab.eumetsat.int/eumetlab/oceans/ocean-training/applications/ocean-case-studies/-/raw/main/img/Cyanobacteria_bloom.png\" width='50%'/>\n",
    "  <figcaption><a id='figure1'>Figure 1: Cyanobacteria can form bright green blooms that float on the surface (left), making them readily visible in optical measurements taken by satellites such as Sentinel-3A and B and their Ocean and Land Colour Instruments (OLCI) (right) (Credit: (left) Christian Fischer CC BY-SA 3.0, (right) EUMETSAT). </figcaption>\n",
    "</figure>\n",
    "\n",
    "#### References\n",
    "\n",
    "* <a href=\"https://www.sciencedirect.com/science/article/abs/pii/S0034425716301833\" target=\"_blank\">Wang, M., & Hu, C. (2016). Mapping and quantifying Sargassum distribution and coverage in the Central West Atlantic using MODIS observations. Remote sensing of environment, 183, 350-367.</a>\n",
    "* <a href=\"https://www.sciencedirect.com/science/article/abs/pii/S0034425716301833\" target=\"_blank\">Sun, Y., Wang, M., Liu, M., Li, Z. B., Chen, Z., & Huang, B. (2024). Continuous Sargassum monitoring across the Caribbean Sea and Central Atlantic using multi-sensor satellite observations. Remote Sensing of Environment, 309, 114223.</a>\n",
    "\n",
    "<div class=\"alert alert-info\" role=\"alert\">\n",
    "\n",
    "## <a id='TOCTOP'></a>Contents\n",
    "\n",
    "</div>\n",
    "\n",
    " 1. [Step 1: Setting up our analysis](#section1)\n",
    " 1. [Step 2: Selecting our data using the WEkEO harmonised data access (HDA) adaptor](#section2)\n",
    " 1. [Step 3: Processing Copernicus Sentinel-3 OLCI data using WEkEO `eocanvas` serverless functions](#section3)\n",
    " 1. [Step 4: Calculating and plotting the alternative floating algal index (AFAI)](#section4)\n",
    " 1. [Step 5: Conclusions](#section5)\n",
    "\n",
    "<hr>"
   ]
  },
  {
   "cell_type": "markdown",
   "metadata": {},
   "source": [
    "<div class=\"alert alert-info\" role=\"alert\">\n",
    "\n",
    "## <a id='section1'></a>1. Setting up our analysis\n",
    "[Back to top](#TOCTOP)\n",
    "\n",
    "</div>"
   ]
  },
  {
   "cell_type": "markdown",
   "metadata": {},
   "source": [
    "In this section we will set up all the parameters we need to run our notebook. We will begin by importing all of the libraries that we need to run this notebook. If you have built your python using the environment file provided in this repository, then you should have everything you need. For more information on building environment, please see the repository **<a href=\"https://gitlab.eumetsat.int/eumetlab/oceans/ocean-training/applications/ocean-case-studies/-/blob/main/README.md?ref_type=heads\" target=\"_blank\">README</a>**.\n",
    "\n",
    "**Important: If you are running on WEkEO, you should ensure that you have selected the \"*wekeolab*\" environment/ipykernel using the dropdown menu on the top right of the screen.**"
   ]
  },
  {
   "cell_type": "code",
   "execution_count": 1,
   "metadata": {},
   "outputs": [],
   "source": [
    "import eumartools                      # a EUMETSAT library that support working with Sentinel-3 products\n",
    "import os                              # a library that allows us access to basic operating system commands\n",
    "import glob                            # a library that helps us search for files\n",
    "import datetime                        # a library that allows us to work with dates and times\n",
    "import xarray as xr                    # a library that helps us work efficiently with multi-dimensional arrays\n",
    "import matplotlib.pyplot as plt        # a library the provides plotting capability\n",
    "from shapely import geometry           # a library that supports the creation of shape objects, like polygons\n",
    "import numpy as np                     # a library that lets us work with arrays; we import this with a new name \"np\"\n",
    "from pathlib import Path               # a library that helps construct system path objects\n",
    "import getpass                         # a library to help us enter passwords\n",
    "import hda                             # a library that supports WEkEO harmonised data access \n",
    "import cartopy                         # a library that supports mapping and projection\n",
    "import cartopy.crs as ccrs             # a library that supports mapping and projection\n",
    "import warnings                        # a library that supports managing warning messages\n",
    "warnings.filterwarnings(\"ignore\")"
   ]
  },
  {
   "cell_type": "markdown",
   "metadata": {},
   "source": [
    "Lets also now add the eocanvas package to our environent. The cell below will install eocanvas if it is not already in the Python environment."
   ]
  },
  {
   "cell_type": "code",
   "execution_count": 2,
   "metadata": {},
   "outputs": [],
   "source": [
    "try:\n",
    "    from eocanvas.api import Input, Config, ConfigOption # the eocanvas api\n",
    "except:\n",
    "    %pip install eocanvas\n",
    "    from eocanvas.api import Input, Config, ConfigOption # the eocanvas api\n",
    "\n",
    "from eocanvas.snap.graph import Graph                # the part of the eocanvas library for working with SNAP graphs\n",
    "from eocanvas.snap import Operator                   # the part of the eocanvas library for defining SNAP graphs nodes\n",
    "from eocanvas.processes import SnapProcess           # the part of the eocanvas library for defining SNAP processes"
   ]
  },
  {
   "cell_type": "markdown",
   "metadata": {},
   "source": [
    "All of our dependencies are now installed.\n",
    "\n",
    "In the next section of the notebook we will define all the parameters that we need to select, process and download level-1b and level-2 OLCI products, which we use to calculate and flag our sargassum biomass.. To find our data of interest, we need to define:\n",
    "\n",
    "* our region of interest (ROI), which we will also need as a well known text (WKT) format polygon\n",
    "* the time period over which we want to find data\n",
    "\n",
    "Lets set these parameters, starting with a square box that we can turn into a WKT polygon for searching.\n",
    "\n",
    "*Note: our default example is for the Southern Caribbean sea in mid-2025, but you can adapt this for other regions and times as you like.*"
   ]
  },
  {
   "cell_type": "code",
   "execution_count": 3,
   "metadata": {},
   "outputs": [],
   "source": [
    "# defining our bounding box (W, S, E, N) and WKT polygon\n",
    "bbox = [-63.25, 11.80, -61.1, 14.67]\n",
    "polygon = [[bbox[0], bbox[1]], [bbox[2], bbox[1]], [bbox[2], bbox[3]], [bbox[0], bbox[3]], [bbox[0], bbox[1]]]\n",
    "WKT = geometry.Polygon([[p[0], p[1]] for p in polygon])\n",
    "\n",
    "# defining our search times\n",
    "start_L2 = datetime.datetime(2025, 4, 14, 14, 5, 11)\n",
    "end_L2 = datetime.datetime(2025, 4, 14, 14, 8, 11)"
   ]
  },
  {
   "cell_type": "markdown",
   "metadata": {},
   "source": [
    "Now let us set our `collectionID`s, the references for each collection in the WEkEO catalog (for example; `EO:EUM:DAT:SENTINEL-3:OL_1_EFR___`). These can be found in the <a href=\"https://wekeo.copernicus.eu/data?view=catalogue\">WEkEO Data Catalog</a>. We will store these in a Python dictionary, as follows..."
   ]
  },
  {
   "cell_type": "code",
   "execution_count": 4,
   "metadata": {},
   "outputs": [],
   "source": [
    "data_sources = {\n",
    "               \"L1B\" : {\"collectionID\" : \"EO:EUM:DAT:SENTINEL-3:OL_1_EFR___\"}, # this is the OLCI level-1b collection ID, which contains top of atmosphere radiances\n",
    "               \"L2\"  : {\"collectionID\" : \"EO:EUM:DAT:SENTINEL-3:OL_2_WFR___\"}, # this is the OLCI level-2 collection ID, which contains atmospherically corrected reflectances\n",
    "               }"
   ]
  },
  {
   "cell_type": "markdown",
   "metadata": {},
   "source": [
    "Now, lets set a timeliness parameter so that we can select on non-time critical (NT) scenes, which are of a higher quality than near real time data. We will also define our satellites, to include only Sentinel-3B at this stage."
   ]
  },
  {
   "cell_type": "code",
   "execution_count": 5,
   "metadata": {},
   "outputs": [],
   "source": [
    "timeliness = \"NT\"\n",
    "satellite = \"Sentinel-3B\""
   ]
  },
  {
   "cell_type": "markdown",
   "metadata": {},
   "source": [
    "Finally, lets define a download directory, where we can download our products to and a switch that controls if we will download and process new data, or use existing data."
   ]
  },
  {
   "cell_type": "code",
   "execution_count": 6,
   "metadata": {},
   "outputs": [],
   "source": [
    "download_dir = os.path.join(os.getcwd(), \"products\")\n",
    "os.makedirs(download_dir, exist_ok=True)\n",
    "\n",
    "# set a switch to process and download new data if True, or use existing data if False\n",
    "process_data = True"
   ]
  },
  {
   "cell_type": "markdown",
   "metadata": {},
   "source": [
    "Now we have set our parameters, we can proceed with our workflow. If you wish to adapt the notebook to focus on a different region or time, you can do so by updating the settings above."
   ]
  },
  {
   "cell_type": "markdown",
   "metadata": {},
   "source": [
    "<div class=\"alert alert-warning\" role=\"alert\">\n",
    "\n",
    "## <a id='section99'></a>Defining functions\n",
    "[Back to top](#TOCTOP)\n",
    "\n",
    "</div>"
   ]
  },
  {
   "cell_type": "markdown",
   "metadata": {},
   "source": [
    "#### Defining a quick function to supporting plotting\n",
    "\n",
    "Before we move on to our analysis, we are going to define a quick function for use later on. We define functions when we have some code that we want to use repeatedly later on. In this section we define a quick functions that we will use to aid plotting. You don't need to worry about how this function works, and so it is hidden by default. You can click on the \"+1 cell hidden\" box below if you want to see it."
   ]
  },
  {
   "cell_type": "code",
   "execution_count": 7,
   "metadata": {},
   "outputs": [],
   "source": [
    "def embellish_plot(m):\n",
    "    \"\"\"Quick function to embellish plots with gridlines and labels\n",
    "\n",
    "    Args:\n",
    "        m (axis): the axis to plot into\n",
    "    Returns:\n",
    "        None\n",
    "    \"\"\"\n",
    "    # Embellish with gridlines\n",
    "    m.add_feature(cartopy.feature.NaturalEarthFeature('physical', 'land', '10m', edgecolor='k', facecolor='#546d51', linewidth=0.5), zorder=500)\n",
    "    g1 = m.gridlines(draw_labels = True, linestyle='--', linewidth=0.5, zorder=1000)\n",
    "    g1.top_labels = g1.right_labels = False\n",
    "    g1.xlabel_style = g1.ylabel_style = {'color': '0.5'}"
   ]
  },
  {
   "cell_type": "markdown",
   "metadata": {},
   "source": [
    "<div class=\"alert alert-info\" role=\"alert\">\n",
    "\n",
    "## <a id='section2'></a>2. Selecting our data using the WEkEO harmonised data access (HDA) adaptor\n",
    "[Back to top](#TOCTOP)\n",
    "\n",
    "</div>"
   ]
  },
  {
   "cell_type": "markdown",
   "metadata": {},
   "source": [
    "<div class=\"alert alert-block alert-success\">\n",
    "\n",
    "### Accessing data using the WEkEO HDA adaptor\n",
    "\n",
    "Downloading from WEkEO harmonised data access (HDA) API is facilitated by a data access client. If you are currently working on the WEkEO JupyterHub, this client will already be installed. Otherwise, if you have followed the installation guidelines in the yml file provided with this repository, you will also have the client installed. If not, you are welcome to view the <a href=\"https://github.com/ecmwf/hda\" target=\"_blank\">source code</a> for more information and further instructions.\n",
    "\n",
    "In order to allow us to download data using the WEkEO HDA API, we need to provide our credentials. To do this, we need to create a file called `.hdarc` in our home directory. For most computer systems the home directory can be found at the path \\user\\username, /users/username, or /home/username depending on your operating system. In this file we need to add the following information exactly as follows;\n",
    "\n",
    "`user:<your_user_name>`<br>\n",
    "`password:<your_password>`\n",
    "\n",
    "You must replace `<your_user_name>` and `<your_password>` with the information from your WEkEO account (if you don't have one yet, please register at <a href=\"https://www.wekeo.eu/\" target=\"_blank\">https://www.wekeo.eu/</a>. Once you have entered these credentials in the file, the `hda` client will automatically read in the credentials from the file when you use it. \n",
    "\n",
    "The cell below will set up the required authentication file for you once you have your details ready.\n",
    "\n",
    "*Note: take care not to share your user name and password*\n",
    "\n",
    "</div>"
   ]
  },
  {
   "cell_type": "code",
   "execution_count": 8,
   "metadata": {},
   "outputs": [],
   "source": [
    "# set credentials file\n",
    "wekeo_credentials_file = Path(Path.home() / '.hdarc')\n",
    "\n",
    "if not os.path.exists(wekeo_credentials_file):\n",
    "    # creating authentication file\n",
    "    user_name = input('Enter your user name: ')\n",
    "    user_pword = getpass.getpass('Enter your password: ')\n",
    "    try:\n",
    "        os.makedirs(os.path.dirname(wekeo_credentials_file), exist_ok=True)\n",
    "        with open(wekeo_credentials_file, \"w\") as f:\n",
    "            f.write(f'password: {user_pword}\\nuser: {user_name}')\n",
    "    except:\n",
    "        pass"
   ]
  },
  {
   "cell_type": "markdown",
   "metadata": {},
   "source": [
    "Now that we have our credentials set up we can set-up and instance of the HDA client, as below;"
   ]
  },
  {
   "cell_type": "code",
   "execution_count": 9,
   "metadata": {},
   "outputs": [],
   "source": [
    "c = hda.Client()"
   ]
  },
  {
   "cell_type": "markdown",
   "metadata": {},
   "source": [
    "Now, we can loop through our data sources dictionary, using the search parameters we defined above to find the matching products"
   ]
  },
  {
   "cell_type": "code",
   "execution_count": 10,
   "metadata": {},
   "outputs": [
    {
     "name": "stdout",
     "output_type": "stream",
     "text": [
      "Found: 1 products for EO:EUM:DAT:SENTINEL-3:OL_1_EFR___\n",
      "Found: 1 products for EO:EUM:DAT:SENTINEL-3:OL_2_WFR___\n"
     ]
    }
   ],
   "source": [
    "for data_source in data_sources:\n",
    "\n",
    "    # need to check on auth here\n",
    "    query = {\n",
    "            \"dataset_id\": data_sources[data_source][\"collectionID\"],\n",
    "            \"dtstart\"   : start_L2.strftime(\"%Y-%m-%dT%H:%M:%S.000Z\"),\n",
    "            \"dtend\"     : end_L2.strftime(\"%Y-%m-%dT%H:%M:%S.000Z\"),\n",
    "            \"timeliness\": timeliness,\n",
    "            \"bbox\"      : bbox,\n",
    "            \"sat\"       : satellite\n",
    "            }\n",
    "    \n",
    "    results = c.search(query)\n",
    "    data_sources[data_source][\"results\"] = results\n",
    "    data_sources[data_source][\"urls\"] = results.get_download_urls()\n",
    "    data_sources[data_source][\"product_names\"] = [results.results[i][\"id\"] for i in range(len(results))]\n",
    "\n",
    "    print(f\"Found: {len(results)} products for {data_sources[data_source]['collectionID']}\")"
   ]
  },
  {
   "cell_type": "markdown",
   "metadata": {},
   "source": [
    "<div class=\"alert alert-info\" role=\"alert\">\n",
    "\n",
    "## <a id='section3'></a>3. Processing Copernicus Sentinel-3 OLCI data using WEkEO `eocanvas` serverless functions\n",
    "[Back to top](#TOCTOP)\n",
    "\n",
    "</div>"
   ]
  },
  {
   "cell_type": "markdown",
   "metadata": {},
   "source": [
    "Should we wish, we could now directly download the entirety of the level-1b and level-2 products that come from our search, using the following command:\n",
    "\n",
    "`data_sources[\"L1B\"][\"results\"].download(download_dir=download_dir)`\n",
    "\n",
    "or\n",
    "\n",
    "`data_sources[\"L2\"][\"results\"].download(download_dir=download_dir)`\n",
    "\n",
    "However, OLCI level-1b and level-2 scenes are typically quite large, ~900 Mb and ~500 Mb in size, respectively. Furthermore, these are not yet fully processed for our needs and so it would be more efficient to process these results remotely, subsequently downloading only the final, much smaller products. This is what we will do.\n",
    "\n",
    "We are going to process our products using a <a href=\"https://step.esa.int/main/toolboxes/snap/\">ESA SNAP</a> software package. Access to this package is managed through the WEkEO `eocanvas` python library, which allows us to run SNAP as a serverless function. However, we need to provide instructions to SNAP in order to define the processes we want to perform. We achieve this by providing `eocanvas` an XML format \"Graph\" that SNAP can ingest using its command-line based Graph Processing Tool (GPT). Lets look at these graphs and then set-up our `eocanvas` process.\n",
    "\n",
    "We have included two example graphs in the `SNAP_graphs` folder, one for L1B processing, which we will focus on, and one for L2 processing. Lets load these into our `data_sources` dictionary using the `Graph` method from `eocanvas`."
   ]
  },
  {
   "cell_type": "code",
   "execution_count": 11,
   "metadata": {},
   "outputs": [],
   "source": [
    "data_sources[\"L1B\"][\"graph\"] = Graph.from_uri(os.path.join(os.getcwd(), \"SNAP_graphs\", \"SNAP_GPT_graph_OLCI_L1B_subset_Rrc.xml\"))\n",
    "data_sources[\"L2\"][\"graph\"] = Graph.from_uri(os.path.join(os.getcwd(), \"SNAP_graphs\", \"SNAP_GPT_graph_OLCI_L2_subset_flags.xml\"))"
   ]
  },
  {
   "cell_type": "markdown",
   "metadata": {},
   "source": [
    "Lets take a look at one of the graphs..."
   ]
  },
  {
   "cell_type": "code",
   "execution_count": 12,
   "metadata": {
    "scrolled": true
   },
   "outputs": [
    {
     "data": {
      "text/html": [
       "<style type=\"text/css\">pre { line-height: 125%; }\n",
       "td.linenos .normal { color: inherit; background-color: transparent; padding-left: 5px; padding-right: 5px; }\n",
       "span.linenos { color: inherit; background-color: transparent; padding-left: 5px; padding-right: 5px; }\n",
       "td.linenos .special { color: #000000; background-color: #ffffc0; padding-left: 5px; padding-right: 5px; }\n",
       "span.linenos.special { color: #000000; background-color: #ffffc0; padding-left: 5px; padding-right: 5px; }\n",
       ".highlight .hll { background-color: #ffffcc }\n",
       ".highlight { background: #f8f8f8; }\n",
       ".highlight .c { color: #3D7B7B; font-style: italic } /* Comment */\n",
       ".highlight .err { border: 1px solid #FF0000 } /* Error */\n",
       ".highlight .k { color: #008000; font-weight: bold } /* Keyword */\n",
       ".highlight .o { color: #666666 } /* Operator */\n",
       ".highlight .ch { color: #3D7B7B; font-style: italic } /* Comment.Hashbang */\n",
       ".highlight .cm { color: #3D7B7B; font-style: italic } /* Comment.Multiline */\n",
       ".highlight .cp { color: #9C6500 } /* Comment.Preproc */\n",
       ".highlight .cpf { color: #3D7B7B; font-style: italic } /* Comment.PreprocFile */\n",
       ".highlight .c1 { color: #3D7B7B; font-style: italic } /* Comment.Single */\n",
       ".highlight .cs { color: #3D7B7B; font-style: italic } /* Comment.Special */\n",
       ".highlight .gd { color: #A00000 } /* Generic.Deleted */\n",
       ".highlight .ge { font-style: italic } /* Generic.Emph */\n",
       ".highlight .ges { font-weight: bold; font-style: italic } /* Generic.EmphStrong */\n",
       ".highlight .gr { color: #E40000 } /* Generic.Error */\n",
       ".highlight .gh { color: #000080; font-weight: bold } /* Generic.Heading */\n",
       ".highlight .gi { color: #008400 } /* Generic.Inserted */\n",
       ".highlight .go { color: #717171 } /* Generic.Output */\n",
       ".highlight .gp { color: #000080; font-weight: bold } /* Generic.Prompt */\n",
       ".highlight .gs { font-weight: bold } /* Generic.Strong */\n",
       ".highlight .gu { color: #800080; font-weight: bold } /* Generic.Subheading */\n",
       ".highlight .gt { color: #0044DD } /* Generic.Traceback */\n",
       ".highlight .kc { color: #008000; font-weight: bold } /* Keyword.Constant */\n",
       ".highlight .kd { color: #008000; font-weight: bold } /* Keyword.Declaration */\n",
       ".highlight .kn { color: #008000; font-weight: bold } /* Keyword.Namespace */\n",
       ".highlight .kp { color: #008000 } /* Keyword.Pseudo */\n",
       ".highlight .kr { color: #008000; font-weight: bold } /* Keyword.Reserved */\n",
       ".highlight .kt { color: #B00040 } /* Keyword.Type */\n",
       ".highlight .m { color: #666666 } /* Literal.Number */\n",
       ".highlight .s { color: #BA2121 } /* Literal.String */\n",
       ".highlight .na { color: #687822 } /* Name.Attribute */\n",
       ".highlight .nb { color: #008000 } /* Name.Builtin */\n",
       ".highlight .nc { color: #0000FF; font-weight: bold } /* Name.Class */\n",
       ".highlight .no { color: #880000 } /* Name.Constant */\n",
       ".highlight .nd { color: #AA22FF } /* Name.Decorator */\n",
       ".highlight .ni { color: #717171; font-weight: bold } /* Name.Entity */\n",
       ".highlight .ne { color: #CB3F38; font-weight: bold } /* Name.Exception */\n",
       ".highlight .nf { color: #0000FF } /* Name.Function */\n",
       ".highlight .nl { color: #767600 } /* Name.Label */\n",
       ".highlight .nn { color: #0000FF; font-weight: bold } /* Name.Namespace */\n",
       ".highlight .nt { color: #008000; font-weight: bold } /* Name.Tag */\n",
       ".highlight .nv { color: #19177C } /* Name.Variable */\n",
       ".highlight .ow { color: #AA22FF; font-weight: bold } /* Operator.Word */\n",
       ".highlight .w { color: #bbbbbb } /* Text.Whitespace */\n",
       ".highlight .mb { color: #666666 } /* Literal.Number.Bin */\n",
       ".highlight .mf { color: #666666 } /* Literal.Number.Float */\n",
       ".highlight .mh { color: #666666 } /* Literal.Number.Hex */\n",
       ".highlight .mi { color: #666666 } /* Literal.Number.Integer */\n",
       ".highlight .mo { color: #666666 } /* Literal.Number.Oct */\n",
       ".highlight .sa { color: #BA2121 } /* Literal.String.Affix */\n",
       ".highlight .sb { color: #BA2121 } /* Literal.String.Backtick */\n",
       ".highlight .sc { color: #BA2121 } /* Literal.String.Char */\n",
       ".highlight .dl { color: #BA2121 } /* Literal.String.Delimiter */\n",
       ".highlight .sd { color: #BA2121; font-style: italic } /* Literal.String.Doc */\n",
       ".highlight .s2 { color: #BA2121 } /* Literal.String.Double */\n",
       ".highlight .se { color: #AA5D1F; font-weight: bold } /* Literal.String.Escape */\n",
       ".highlight .sh { color: #BA2121 } /* Literal.String.Heredoc */\n",
       ".highlight .si { color: #A45A77; font-weight: bold } /* Literal.String.Interpol */\n",
       ".highlight .sx { color: #008000 } /* Literal.String.Other */\n",
       ".highlight .sr { color: #A45A77 } /* Literal.String.Regex */\n",
       ".highlight .s1 { color: #BA2121 } /* Literal.String.Single */\n",
       ".highlight .ss { color: #19177C } /* Literal.String.Symbol */\n",
       ".highlight .bp { color: #008000 } /* Name.Builtin.Pseudo */\n",
       ".highlight .fm { color: #0000FF } /* Name.Function.Magic */\n",
       ".highlight .vc { color: #19177C } /* Name.Variable.Class */\n",
       ".highlight .vg { color: #19177C } /* Name.Variable.Global */\n",
       ".highlight .vi { color: #19177C } /* Name.Variable.Instance */\n",
       ".highlight .vm { color: #19177C } /* Name.Variable.Magic */\n",
       ".highlight .il { color: #666666 } /* Literal.Number.Integer.Long */</style>    <div class=\"highlight\"><pre><span></span><span class=\"nt\">&lt;graph</span><span class=\"w\"> </span><span class=\"na\">id=</span><span class=\"s\">&quot;Graph&quot;</span><span class=\"nt\">&gt;</span>\n",
       "<span class=\"w\">  </span><span class=\"nt\">&lt;version&gt;</span>1.0<span class=\"nt\">&lt;/version&gt;</span>\n",
       "\n",
       "<span class=\"w\">    </span><span class=\"nt\">&lt;node</span><span class=\"w\"> </span><span class=\"na\">id=</span><span class=\"s\">&quot;Read&quot;</span><span class=\"nt\">&gt;</span>\n",
       "<span class=\"w\">        </span><span class=\"nt\">&lt;operator&gt;</span>Read<span class=\"nt\">&lt;/operator&gt;</span>\n",
       "<span class=\"w\">        </span><span class=\"nt\">&lt;sources/&gt;</span>\n",
       "<span class=\"w\">        </span><span class=\"nt\">&lt;parameters&gt;</span>\n",
       "<span class=\"w\">          </span><span class=\"nt\">&lt;useAdvancedOptions&gt;</span>false<span class=\"nt\">&lt;/useAdvancedOptions&gt;</span>\n",
       "<span class=\"w\">          </span><span class=\"nt\">&lt;file&gt;</span>$img1<span class=\"nt\">&lt;/file&gt;</span>\n",
       "<span class=\"w\">          </span><span class=\"nt\">&lt;copyMetadata&gt;</span>true<span class=\"nt\">&lt;/copyMetadata&gt;</span>\n",
       "<span class=\"w\">        </span><span class=\"nt\">&lt;/parameters&gt;</span>\n",
       "<span class=\"w\">    </span><span class=\"nt\">&lt;/node&gt;</span>\n",
       "<span class=\"w\">    </span>\n",
       "<span class=\"w\">    </span><span class=\"nt\">&lt;node</span><span class=\"w\"> </span><span class=\"na\">id=</span><span class=\"s\">&quot;Subset&quot;</span><span class=\"nt\">&gt;</span>\n",
       "<span class=\"w\">        </span><span class=\"nt\">&lt;operator&gt;</span>Subset<span class=\"nt\">&lt;/operator&gt;</span>\n",
       "<span class=\"w\">        </span><span class=\"nt\">&lt;sources&gt;</span>\n",
       "<span class=\"w\">          </span><span class=\"nt\">&lt;sourceProduct</span><span class=\"w\"> </span><span class=\"na\">refid=</span><span class=\"s\">&quot;Read&quot;</span><span class=\"nt\">/&gt;</span>\n",
       "<span class=\"w\">        </span><span class=\"nt\">&lt;/sources&gt;</span>\n",
       "<span class=\"w\">        </span><span class=\"nt\">&lt;parameters&gt;</span>\n",
       "<span class=\"w\">            </span><span class=\"nt\">&lt;region&gt;</span>0,0,0,0<span class=\"nt\">&lt;/region&gt;</span>\n",
       "<span class=\"w\">            </span><span class=\"nt\">&lt;geoRegion&gt;</span>POLYGON<span class=\"w\"> </span>((-63.25<span class=\"w\"> </span>11.8,<span class=\"w\"> </span>-61.1<span class=\"w\"> </span>11.8,<span class=\"w\"> </span>-61.1<span class=\"w\"> </span>14.67,<span class=\"w\"> </span>-63.25<span class=\"w\"> </span>14.67,<span class=\"w\"> </span>-63.25<span class=\"w\"> </span>11.8))<span class=\"nt\">&lt;/geoRegion&gt;</span>\n",
       "<span class=\"w\">            </span><span class=\"nt\">&lt;fullSwath&gt;</span>false<span class=\"nt\">&lt;/fullSwath&gt;</span>\n",
       "<span class=\"w\">            </span><span class=\"nt\">&lt;copyMetadata&gt;</span>false<span class=\"nt\">&lt;/copyMetadata&gt;</span>\n",
       "<span class=\"w\">        </span><span class=\"nt\">&lt;/parameters&gt;</span>\n",
       "<span class=\"w\">    </span><span class=\"nt\">&lt;/node&gt;</span>\n",
       "<span class=\"w\">    </span>\n",
       "<span class=\"w\">    </span><span class=\"nt\">&lt;node</span><span class=\"w\"> </span><span class=\"na\">id=</span><span class=\"s\">&quot;RayleighCorrection&quot;</span><span class=\"nt\">&gt;</span>\n",
       "<span class=\"w\">        </span><span class=\"nt\">&lt;operator&gt;</span>RayleighCorrection<span class=\"nt\">&lt;/operator&gt;</span>\n",
       "<span class=\"w\">        </span><span class=\"nt\">&lt;sources&gt;</span>\n",
       "<span class=\"w\">            </span><span class=\"nt\">&lt;sourceProduct</span><span class=\"w\"> </span><span class=\"na\">refid=</span><span class=\"s\">&quot;Subset&quot;</span><span class=\"nt\">/&gt;</span>\n",
       "<span class=\"w\">        </span><span class=\"nt\">&lt;/sources&gt;</span>\n",
       "<span class=\"w\">        </span><span class=\"nt\">&lt;parameters&gt;</span>\n",
       "<span class=\"w\">            </span><span class=\"nt\">&lt;sourceBandNames&gt;</span>Oa08_radiance,Oa12_radiance,Oa17_radiance<span class=\"nt\">&lt;/sourceBandNames&gt;</span>\n",
       "<span class=\"w\">            </span><span class=\"nt\">&lt;computeRBrr&gt;</span>true<span class=\"nt\">&lt;/computeRBrr&gt;</span>\n",
       "<span class=\"w\">        </span><span class=\"nt\">&lt;/parameters&gt;</span>\n",
       "<span class=\"w\">    </span><span class=\"nt\">&lt;/node&gt;</span>\n",
       "<span class=\"w\">    </span>\n",
       "<span class=\"w\">    </span><span class=\"nt\">&lt;node</span><span class=\"w\"> </span><span class=\"na\">id=</span><span class=\"s\">&quot;Write&quot;</span><span class=\"nt\">&gt;</span>\n",
       "<span class=\"w\">        </span><span class=\"nt\">&lt;operator&gt;</span>Write<span class=\"nt\">&lt;/operator&gt;</span>\n",
       "<span class=\"w\">        </span><span class=\"nt\">&lt;sources&gt;</span>\n",
       "<span class=\"w\">          </span><span class=\"nt\">&lt;sourceProduct</span><span class=\"w\"> </span><span class=\"na\">refid=</span><span class=\"s\">&quot;RayleighCorrection&quot;</span><span class=\"nt\">/&gt;</span>\n",
       "<span class=\"w\">        </span><span class=\"nt\">&lt;/sources&gt;</span>\n",
       "<span class=\"w\">        </span><span class=\"nt\">&lt;parameters&gt;</span>\n",
       "<span class=\"w\">          </span><span class=\"nt\">&lt;file&gt;</span>$output<span class=\"nt\">&lt;/file&gt;</span>\n",
       "<span class=\"w\">          </span><span class=\"nt\">&lt;formatName&gt;</span>netCDF4-BEAM<span class=\"nt\">&lt;/formatName&gt;</span>\n",
       "<span class=\"w\">        </span><span class=\"nt\">&lt;/parameters&gt;</span>\n",
       "<span class=\"w\">    </span><span class=\"nt\">&lt;/node&gt;</span>\n",
       "\n",
       "<span class=\"nt\">&lt;/graph&gt;</span>\n",
       "</pre></div>\n"
      ],
      "text/plain": [
       "<IPython.core.display.HTML object>"
      ]
     },
     "metadata": {},
     "output_type": "display_data"
    }
   ],
   "source": [
    "# show it\n",
    "data_sources[\"L1B\"][\"graph\"].nice_view()"
   ]
  },
  {
   "cell_type": "markdown",
   "metadata": {},
   "source": [
    "We can see that a number of steps are defined, each contained within a single \"Node\". We have following nodes:\n",
    "\n",
    "* Read - where we read our input product\n",
    "* Subset - where we subset out input product\n",
    "* Rayleigh Correction - where we Rayleigh correct our product\n",
    "* Write - where we output for final product\n",
    "\n",
    "*Note: you can see that in the L2 product we subset not only by our region of interest, but also by bands, to make the resulting product smaller*"
   ]
  },
  {
   "cell_type": "code",
   "execution_count": null,
   "metadata": {},
   "outputs": [
    {
     "name": "stdout",
     "output_type": "stream",
     "text": [
      "Job: 3e036cac-79ef-5de6-8fb9-1b7547c0380d - Status: accepted at 2025-06-16T15:13:18.980356\n",
      "Job: 3e036cac-79ef-5de6-8fb9-1b7547c0380d - Status: running at 2025-06-16T15:13:29.200662\n",
      "Job: 3e036cac-79ef-5de6-8fb9-1b7547c0380d - Status: running at 2025-06-16T15:13:40.364003\n",
      "Job: 3e036cac-79ef-5de6-8fb9-1b7547c0380d - Status: running at 2025-06-16T15:13:52.622903\n",
      "Job: 3e036cac-79ef-5de6-8fb9-1b7547c0380d - Status: running at 2025-06-16T15:14:06.736207\n",
      "Job: 3e036cac-79ef-5de6-8fb9-1b7547c0380d - Status: running at 2025-06-16T15:14:22.178121\n",
      "Job: 3e036cac-79ef-5de6-8fb9-1b7547c0380d - Status: running at 2025-06-16T15:14:38.618052\n",
      "Job: 3e036cac-79ef-5de6-8fb9-1b7547c0380d - Status: running at 2025-06-16T15:14:56.538971\n",
      "Job: 3e036cac-79ef-5de6-8fb9-1b7547c0380d - Status: running at 2025-06-16T15:15:16.195880\n",
      "Job: 3e036cac-79ef-5de6-8fb9-1b7547c0380d - Status: running at 2025-06-16T15:15:37.796695\n",
      "Downloading /Users/benloveday/Code/git_repositories/CMTS/internal/ocean/applications/ocean-case-studies/Case_studies/UNOD/Ch01/Sargassum/products/d9597670-4ab3-11f0-be20-af682a35b7ca.nc\n"
     ]
    }
   ],
   "source": [
    "if process_data:\n",
    "    output_files = []\n",
    "    for data_source in data_sources:\n",
    "        for url, product_name in zip(data_sources[data_source][\"urls\"], data_sources[data_source][\"product_names\"]):\n",
    "    \n",
    "            inputs = Input(key=\"img1\", url=url)\n",
    "            config = Config(key=\"img1\", options=ConfigOption(uncompress=True, sub_path=\"xfdumanifest.xml\"))\n",
    "            process = SnapProcess(snap_graph=data_sources[data_source][\"graph\"], eo_config=config, eo_input=inputs)\n",
    "            process.prepare_inputs()\n",
    "    \n",
    "            job = process.submit()\n",
    "            process.run(job, download_dir=download_dir)\n",
    "        \n",
    "            # rename output  \n",
    "            downloaded_file = os.path.join(download_dir, os.path.basename(job.results[0].title))\n",
    "            output_file = os.path.join(download_dir, product_name.replace(\".SEN3\", \"_eocanvas_processed.nc\"))\n",
    "            output_files.append(output_file)\n",
    "            os.rename(downloaded_file, output_file)\n",
    "else:\n",
    "    output_files = sorted(glob.glob(os.path.join(download_dir,'*')))"
   ]
  },
  {
   "cell_type": "markdown",
   "metadata": {},
   "source": [
    "You should now be able to look in the \"products\" folder in the same directory as this notebook and find two processed scenes. Our `eocanvas` processing is complete."
   ]
  },
  {
   "cell_type": "markdown",
   "metadata": {},
   "source": [
    "<div class=\"alert alert-info\" role=\"alert\">\n",
    "\n",
    "## <a id='section4'></a>4. Calculating and plotting the alternatve floating algal index (AFAI)\n",
    "[Back to top](#TOCTOP)\n",
    "\n",
    "</div>"
   ]
  },
  {
   "cell_type": "markdown",
   "metadata": {},
   "source": [
    "Floating macroalgae, such as Sargassum, display distinct spectral characteristics. These characteristics allow us to quantify its abundance, but require specific algorithms to do so. The alternative floating algal index (AFAI), originally developed for MODIS (<a href=\"https://www.sciencedirect.com/science/article/abs/pii/S0034425716301833\" target=\"_blank\">Wang and Hu, 2016</a>) but later adapted for a multi-sensor approach that includes OLCI (<a href=\"https://www.sciencedirect.com/science/article/abs/pii/S0034425716301833\" target=\"_blank\">Sun et al., 2024</a>) is one such approach. AFAI, examines the red-edge, Rayleigh corrected, reflectance of floating vegetation, and exploits the high NIR values associated with floating vegetation. It can be applied to our OLCI data as follows;\n",
    "\n",
    "<div class=\"alert alert-block alert-warning\">\n",
    "$AFAI = R_{rc, NIR1} - R_{rc, NIR1}'$\n",
    "    \n",
    "$R_{rc, NIR1}' = R_{rc, RED} + (R_{rc, NIR2} - R_{rc, RED}) \\times (\\lambda_{NIR1} - \\lambda_{RED}) / (\\lambda_{NIR2} - \\lambda_{RED})$\n",
    "</div>\n",
    "\n",
    "For OLCI, this translates to the following bands;\n",
    "\n",
    "<div class=\"alert alert-block alert-warning\">\n",
    "$AFAI = R_{rc, BAND12} - (R_{rc, BAND08} + (R_{rc, BAND17} - R_{rc, BAND08}) \\times (754 - 665) / (865 - 665))$\n",
    "    \n",
    "...where $R_{rc}$ represents the Rayleigh corrected reflectance for the corresponding band\n",
    "</div>\n"
   ]
  },
  {
   "cell_type": "markdown",
   "metadata": {},
   "source": [
    "Lets open our Rayleight corrected level-1B product."
   ]
  },
  {
   "cell_type": "code",
   "execution_count": null,
   "metadata": {},
   "outputs": [],
   "source": [
    "ds = xr.open_dataset(output_files[0])"
   ]
  },
  {
   "cell_type": "markdown",
   "metadata": {},
   "source": [
    "We have everything we need inside this product to calculate AFAI."
   ]
  },
  {
   "cell_type": "code",
   "execution_count": null,
   "metadata": {},
   "outputs": [],
   "source": [
    "AFAI = ds[\"rBRR_12\"] - (ds[\"rBRR_08\"] + (ds[\"rBRR_17\"] - ds[\"rBRR_08\"]) * (754 - 665)/(865 - 665))    "
   ]
  },
  {
   "cell_type": "markdown",
   "metadata": {},
   "source": [
    "AFAI has been calculated for every pixel in the scene, inclusing those that do not contain valid ocean pixels. The reason we processed the level-2 products is so that we can calculate a suitable quiality mask from the fully atmospherically corrected product. In the next cell, we will calculate a mask form using the flagged land and cloud pixels."
   ]
  },
  {
   "cell_type": "code",
   "execution_count": null,
   "metadata": {},
   "outputs": [],
   "source": [
    "mask = eumartools.flag_mask(output_files[1],\n",
    "                     'WQSF_lsb', ['LAND', 'CLOUD', 'CLOUD_AMBIGUOUS', 'CLOUD_MARGIN']).astype(float)\n",
    "mask[mask == 1.0] = np.nan\n",
    "mask[np.isfinite(mask)] = 1.0"
   ]
  },
  {
   "cell_type": "markdown",
   "metadata": {},
   "source": [
    "Let's apply the mask to our AFAI product, and plot it."
   ]
  },
  {
   "cell_type": "code",
   "execution_count": null,
   "metadata": {},
   "outputs": [],
   "source": [
    "fig, m = plt.subplots(1, 1, figsize=(10, 10), dpi=300, subplot_kw={\"projection\": ccrs.PlateCarree()})\n",
    "p1 = m.pcolormesh(ds[\"lon\"], ds[\"lat\"], AFAI*mask, vmin=0.0, vmax=0.0025, transform=ccrs.PlateCarree())\n",
    "embellish_plot(m)\n",
    "plt.colorbar(p1, label='Biomass density [kg/m$^{2}$]')\n",
    "plt.savefig(\"Figure3.png\")"
   ]
  },
  {
   "cell_type": "code",
   "execution_count": null,
   "metadata": {},
   "outputs": [],
   "source": []
  },
  {
   "cell_type": "markdown",
   "metadata": {},
   "source": [
    "<div class=\"alert alert-info\" role=\"alert\">\n",
    "\n",
    "## <a id='section5'></a>5. Conclusions\n",
    "[Back to top](#TOCTOP)\n",
    "\n",
    "</div>"
   ]
  },
  {
   "cell_type": "markdown",
   "metadata": {},
   "source": [
    "In this notebook we have seen that satellite data is capable of providing a detailed view of sargassum bloom events. Modern sensors such as the OLCI sensors aboard the Sentinel-3 satellites can be exploited, thanks to their unique spectral bands, to develop specific algorithms for detection of these blooms."
   ]
  },
  {
   "cell_type": "markdown",
   "metadata": {},
   "source": [
    "### Suggested next steps\n",
    "\n",
    "To further develop your skills and knowledge, and expand the application of this notebook you could try:\n",
    "* Adapting the time and or region of interest to eexplore other areas. Puerto Rico, Mexico, and most of the Southern Caribbean was widely affected throughout 2023 and 2025.\n",
    "\n"
   ]
  },
  {
   "cell_type": "markdown",
   "metadata": {},
   "source": [
    "<hr>\n",
    "<a href=\"../../../Index.ipynb\" target=\"_blank\"><< Index</a>\n",
    "<hr>\n",
    "\n",
    "<a href=\"https://gitlab.eumetsat.int/eumetlab/ocean\" target=\"_blank\">View on GitLab</a> | <a href=\"https://training.eumetsat.int/\" target=\"_blank\">EUMETSAT Training</a> | <a href=mailto:ops@eumetsat.int target=\"_blank\">Contact helpdesk for support </a> | <a href=mailto:training@eumetsat.int target=\"_blank\">Contact our training team to collaborate on and reuse this material</a></span></p>"
   ]
  }
 ],
 "metadata": {
  "author": "Ben Loveday, Hayley Evers-King, Anna-Lena Erdmann",
  "content_type": "Software & code",
  "data_access": [
   "WEkEO",
   "CMEMS"
  ],
  "deployment": {
   "eumetsat": {
    "binder": {
     "link": "https://mybinder.org/v2/git/https%3A%2F%2Fgitlab.eumetsat.int%2Feumetlab%2Foceans%2Focean-training%2Fapplications%2Focean-colour-applications/HEAD?labpath=2_methodological_approaches%2Feocanvas%2FMulti_sensor_CHL_comparison_WEkEO.ipynb",
     "service_contact": "ops@eumetsat.int",
     "service_provider": "EUMETSAT"
    },
    "git": {
     "link": "https://gitlab.eumetsat.int/eumetlab/oceans/ocean-training/applications/ocean-colour-applications/-/blob/main/2_methodological_approaches/eocanvas/Multi_sensor_CHL_comparison_WEkEO.ipynb",
     "service_contact": "ops@eumetsat.int",
     "service_provider": "EUMETSAT"
    }
   },
   "wekeo": {
    "git": {
     "link": "https://github.com/wekeo/ocean-colour-applications/blob/main/2_methodological_approaches/eocanvas/Multi_sensor_CHL_comparison_WEkEO.ipynb",
     "service_contact": "ops@eumetsat.int",
     "service_provider": "EUMETSAT"
    },
    "url": {
     "link": "https://jupyterhub.prod.wekeo2.eu/hub/user-redirect/lab/tree/public/wekeo4oceans/ocean-colour-applications/2_methodological_approaches/eocanvas/Multi_sensor_CHL_comparison_WEkEO.ipynb",
     "service_contact": "ops@eumetsat.int",
     "service_provider": "EUMETSAT"
    }
   }
  },
  "description": "This Jupyter Notebook shows how to use WEkEO eocanvas to process Sentinel-3 OLCI chlorophyll products with SNAP, comparing to CMEMS products in the Baltic.",
  "image": "../../img/thumbs/Multi_sensor_CHL_comparison_WEkEO_thumb.png",
  "kernelspec": {
   "display_name": "Python 3 (ipykernel)",
   "language": "python",
   "name": "python3"
  },
  "language_info": {
   "codemirror_mode": {
    "name": "ipython",
    "version": 3
   },
   "file_extension": ".py",
   "mimetype": "text/x-python",
   "name": "python",
   "nbconvert_exporter": "python",
   "pygments_lexer": "ipython3",
   "version": "3.10.16"
  },
  "license": "MIT",
  "metadata_schema_version": "2.0.0",
  "originator": "EUMETSAT",
  "tags": {
   "data_provider": [
    "EUMETSAT",
    "CMEMS"
   ],
   "orbit": "LEO",
   "satellite": [
    "Sentinel-3",
    "Baltic Sea multiyear ocean colour"
   ],
   "sensor": [
    "OLCI (Sentinel-3)",
    "Multisensor"
   ],
   "service": "Ocean colour",
   "subtheme": [
    "Ocean biogeochemistry",
    "Water quality"
   ],
   "theme": "Marine",
   "variable": [
    "Top-of-atmosphere radiance",
    "Water leaving reflectance",
    "Chlorophyll concentration",
    "Ocean colour"
   ]
  },
  "title": "Using WEkEO eocanvas/SNAP to investigate Baltic algal blooms with OLCI",
  "version": "2.0.0",
  "version_date": "2024-09-02"
 },
 "nbformat": 4,
 "nbformat_minor": 4
}

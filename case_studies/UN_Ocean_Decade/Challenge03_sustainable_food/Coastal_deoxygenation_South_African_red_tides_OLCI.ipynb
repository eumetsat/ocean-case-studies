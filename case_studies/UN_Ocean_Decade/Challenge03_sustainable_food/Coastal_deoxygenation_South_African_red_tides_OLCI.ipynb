{
 "cells": [
  {
   "cell_type": "markdown",
   "metadata": {},
   "source": [
    "<img src='https://gitlab.eumetsat.int/eumetlab/oceans/ocean-training/tools/frameworks/-/raw/main/img/UN_decade_banner.png' align='right' width='100%'/>"
   ]
  },
  {
   "cell_type": "markdown",
   "metadata": {},
   "source": [
    "<a href=\"../../../Index.ipynb\"><< Index</a>"
   ]
  },
  {
   "cell_type": "markdown",
   "metadata": {},
   "source": [
    "<font color=\"#138D75\">**Copernicus Marine Training Service**</font> <br>\n",
    "**Copyright:** 2022 EUMETSAT <br>\n",
    "**License:** MIT <br>\n",
    "**Authors:** B. Loveday (Innoflair UG / EUMETSAT), Hayley Evers-King (EUMETSAT)"
   ]
  },
  {
   "cell_type": "markdown",
   "metadata": {},
   "source": [
    "<div class=\"alert alert-block alert-success\">\n",
    "<h3>Ocean case studies</h3></div>"
   ]
  },
  {
   "cell_type": "markdown",
   "metadata": {},
   "source": [
    "<div class=\"alert alert-block alert-warning\">\n",
    "    \n",
    "<b>PREREQUISITES </b>\n",
    "\n",
    "There are no prerequisite notebooks for this module, but you may wish to look at the following notebooks on using OLCI data; <br>\n",
    "- **<a href=\"https://gitlab.eumetsat.int/eumetlab/oceans/ocean-training/sensors/learn-olci\" target=\"_blank\">Learn OLCI (EUMETSAT Gitlab)</a>**\n",
    "\n",
    "For more contextual information, users should refer to the following case study where the image we generate here is published:\n",
    "- **<a href=\"https://www.eumetsat.int/deoxygenation-impacts-marine-life-benguela\" target=\"_blank\">Coastal deoxygenation: South African red tides</a>**\n",
    "\n",
    "</div>\n",
    "<hr>"
   ]
  },
  {
   "cell_type": "markdown",
   "metadata": {},
   "source": [
    "# Red tides in South African Waters\n",
    "<font color=\"#138D75\">**UN Ocean Decade Challenge 3: Sustainably feed the global population**</font>\n",
    "\n",
    "### Data used\n",
    "\n",
    "| Product Description | Data Store collection ID| Product Navigator | WEkEO HDA ID | WEkEO metadata |\n",
    "|:--------------------:|:-----------------------:|:-------------:|:-----------------:|:-----------------:|\n",
    "| Sentinel-3 OLCI level-2 full resolution | EO:EUM:DAT:0407 | <a href=\"https://navigator.eumetsat.int/product/EO:EUM:DAT:SENTINEL-3:OL_2_WFR___NTC?query=OLCI&filter=satellite__Sentinel-3&filter=instrument__OLCI&filter=processingLevel__Level%202%20Data&s=advanced\" target=\"_blank\">link</a> | EO:EUM:DAT:SENTINEL-3:OL_2_WFR___ | <a href=\"https://www.wekeo.eu/data?view=dataset&dataset=EO%3AEUM%3ADAT%3ASENTINEL-3%3AOL_1_EFR___\" target=\"_blank\">link</a> |\n",
    "\n",
    "### Learning outcomes\n",
    "\n",
    "At the end of this notebook you will know how to ;\n",
    "* download OLCI Level-2 data for South Africa's west coast on February 26th, 2022\n",
    "* plot an OLCI band ratio chlorophyll product over the region\n",
    "\n",
    "\n",
    "### Outline\n",
    "\n",
    "This code will replicate figure ??? from this case study; **<a href=\"https://gitlab.eumetsat.int/eumetlab/oceans/ocean-training/sensors/learn-olci\" target=\"_blank\">Coastal deoxygenation: South African red tides</a>**<<FIX.\n",
    "\n",
    "<div class=\"alert alert-info\" role=\"alert\">\n",
    "\n",
    "## <a id='TOC_TOP'></a>Contents\n",
    "\n",
    "</div>\n",
    "    \n",
    " 1. [Acquiring OLCI data](#section1)\n",
    " 2. [Reading OLCI reflectance data](#section2)\n",
    " 3. [Plotting OLCI data](#section3)\n",
    "\n",
    "<hr>"
   ]
  },
  {
   "cell_type": "code",
   "execution_count": 1,
   "metadata": {},
   "outputs": [],
   "source": [
    "import shutil\n",
    "import os\n",
    "import json\n",
    "import zipfile\n",
    "import eumdac\n",
    "import warnings\n",
    "import xarray as xr\n",
    "import xml.etree.ElementTree as ET\n",
    "import pandas as pd\n",
    "import numpy as np\n",
    "import glob\n",
    "import eumartools\n",
    "import matplotlib.pyplot as plt\n",
    "import matplotlib.ticker as mticker\n",
    "import matplotlib.patheffects as PathEffects\n",
    "import cartopy.crs as ccrs\n",
    "\n",
    "warnings.filterwarnings('ignore')\n",
    "plt.rcParams.update({'font.size': 12})"
   ]
  },
  {
   "cell_type": "markdown",
   "metadata": {},
   "source": [
    "<div class=\"alert alert-info\" role=\"alert\">\n",
    "\n",
    "## <a id='section1'></a>1. Acquiring OLCI data\n",
    "[Back to top](#TOC_TOP)\n",
    "\n",
    "</div>"
   ]
  },
  {
   "cell_type": "markdown",
   "metadata": {},
   "source": [
    "We will begin by creating a directory for our downloaded data"
   ]
  },
  {
   "cell_type": "code",
   "execution_count": 2,
   "metadata": {},
   "outputs": [],
   "source": [
    "# Create a download directory for our OLCI products\n",
    "download_dir = os.path.join(os.getcwd(), \"products\")\n",
    "os.makedirs(download_dir, exist_ok=True)"
   ]
  },
  {
   "cell_type": "markdown",
   "metadata": {},
   "source": [
    "We are going to retrieve the OLCI data from the EUMETSAT Data Store. Collections are stored according to their `collection id`, which for OLCI Level-2 full resolution products is `EO:EUM:DAT:0407` (as specified in the \"Data Used\" section above). We will also provide the relevant products we want from this collection, which in this case is two granules. For more information on how to search for the data you want, please see the Learn OLCI Gitlab link above."
   ]
  },
  {
   "cell_type": "code",
   "execution_count": 3,
   "metadata": {},
   "outputs": [],
   "source": [
    "collection_id = 'EO:EUM:DAT:0407'\n",
    "product_list = ['S3A_OL_2_WFR____20220220T080053_20220220T080353_20220221T184925_0179_082_149_3420_MAR_O_NT_003.SEN3',\n",
    "                'S3A_OL_2_WFR____20220220T080353_20220220T080653_20220221T184943_0180_082_149_3600_MAR_O_NT_003.SEN3']"
   ]
  },
  {
   "cell_type": "markdown",
   "metadata": {},
   "source": [
    "To access Sentinel-3 data from the <a href=\"https://data.eumetsat.int\">EUMETSAT Data Store</a>, we will use the EUMETSAT Data Access Client (`eumdac`). If you are working with the recommended Anaconda Python distribution and used the supplied environment file (environment.yml) to build this python environment (as detailed in the README), you will already have installed this. If not, you can install eumdac using;\n",
    "\n",
    "`conda install -c eumetsat eumdac`\n",
    "\n",
    "However, you can also find the source code on the <a href=\"https://gitlab.eumetsat.int/eumetlab/data-services/eumdac\">EUMETSAT gitlab</a>. Please visit the EUMETSAT user support confluence spaces for the the <a href=\"https://eumetsatspace.atlassian.net/wiki/spaces/DSDS/overview\">Data Store</a> and <a href=\"https://eumetsatspace.atlassian.net/wiki/spaces/EUMDAC/overview\">eumdac</a> for more information.\n",
    "\n",
    "In order to allow us to download data from the Data Store via API, we need to provide our credentials. We can do this in two ways; either by creating a file called `.eumdac_credentials` in our home directory (*option 1 - recommended*) or by supplying our credentials directly in this script (*option 2*). \n",
    "\n",
    "#### Option 1: creating  `.eumdac_credentials` in our home directory\n",
    "\n",
    "For most computer systems the home directory can be found at the path \\user\\username, /users/username, or /home/username depending on your operating system.\n",
    "\n",
    "In this file we need to add the following information exactly as follows;\n",
    "\n",
    "```\n",
    "{\n",
    "\"consumer_key\": \"<your_consumer_key>\",\n",
    "\"consumer_secret\": \"<your_consumer_secret>\"\n",
    "}\n",
    "```\n",
    "\n",
    "You must replace `<your_consumer_key>` and `<your_consumer_secret>` with the information you extract from https://api.eumetsat.int/api-key/. You will need a <a href=\"https://eoportal.eumetsat.int/\">EUMETSAT Earth Observation Portal account</a> to access this link, and in order to see the information you must click the \"Show hidden fields\" button at the bottom of the page.\n",
    "\n",
    "*Note: your key and secret are permanent, so you only need to do this once, but you should take care to never share them*\n",
    "\n",
    "Make sure to save the file without any kind of extension. Once you have done this, you can read in your credentials using the commands in the following cell. These will be used to generate a time-limited token, which will refresh itself when it expires.\n",
    "\n",
    "<div class=\"alert alert-warning\" role=\"alert\">\n",
    "Optionally, you can provide your credentials directly as follows;\n",
    "<br>\n",
    "\n",
    "    \n",
    "`token = eumdac.AccessToken((consumer_key, consumer_secret))`\n",
    "\n",
    "<br> \n",
    "Note: this method is convenient in the short term, but is not really recommended as you have to put your key and secret in this notebook, and run the risk of accidentally sharing them. This method also requires you to authenticate on a notebook-by-notebook basis."
   ]
  },
  {
   "cell_type": "code",
   "execution_count": 4,
   "metadata": {},
   "outputs": [
    {
     "name": "stdout",
     "output_type": "stream",
     "text": [
      "This token 'c2acf6cc-1acb-3931-8445-6900d9cc7943' expires 2022-05-16 15:58:05.303872\n"
     ]
    }
   ],
   "source": [
    "with open(os.path.join(os.path.expanduser(\"~\"),'.eumdac_credentials')) as json_file:\n",
    "    credentials = json.load(json_file)\n",
    "    token = eumdac.AccessToken((credentials['consumer_key'], credentials['consumer_secret']))\n",
    "    print(f\"This token '{token}' expires {token.expiration}\")"
   ]
  },
  {
   "cell_type": "markdown",
   "metadata": {},
   "source": [
    "Now we have a token, we can ask the Data Store for our specified products. The box below will download them in sequence, unzip them and tidy up."
   ]
  },
  {
   "cell_type": "code",
   "execution_count": null,
   "metadata": {},
   "outputs": [
    {
     "name": "stdout",
     "output_type": "stream",
     "text": [
      "Retrieving: S3A_OL_2_WFR____20220220T080053_20220220T080353_20220221T184925_0179_082_149_3420_MAR_O_NT_003.SEN3 from EO:EUM:DAT:0407\n",
      "Downloading S3A_OL_2_WFR____20220220T080053_20220220T080353_20220221T184925_0179_082_149_3420_MAR_O_NT_003.SEN3.zip.\n"
     ]
    }
   ],
   "source": [
    "datastore = eumdac.DataStore(token)\n",
    "\n",
    "for product_id in product_list:\n",
    "    print(f\"Retrieving: {product_id} from {collection_id}\")    \n",
    "\n",
    "    selected_collection = datastore.get_collection(collection_id)\n",
    "    selected_product = datastore.get_product(product_id=product_id, collection_id=collection_id)\n",
    "    \n",
    "    with selected_product.open() as fsrc, open(os.path.join(download_dir, fsrc.name), mode='wb') as fdst:\n",
    "        print(f'Downloading {fsrc.name}.')\n",
    "        shutil.copyfileobj(fsrc, fdst)\n",
    "        print(f'Download of product {fsrc.name} finished.')\n",
    "\n",
    "    with zipfile.ZipFile(fdst.name, 'r') as zip_ref:\n",
    "        for file in zip_ref.namelist():\n",
    "            if file.startswith(str(selected_product)):\n",
    "                zip_ref.extract(file, download_dir)\n",
    "        print(f'Unzipping of product {fdst.name} finished.')\n",
    "\n",
    "    os.remove(fdst.name)"
   ]
  },
  {
   "cell_type": "markdown",
   "metadata": {},
   "source": [
    "<div class=\"alert alert-info\" role=\"alert\">\n",
    "\n",
    "## <a id='section2'></a>2. Reading OLCI reflectance data\n",
    "[Back to top](#TOC_TOP)\n",
    "\n",
    "</div>"
   ]
  },
  {
   "cell_type": "markdown",
   "metadata": {},
   "source": [
    "Blooms in the Benguela tend to be very high in biomass and have high Chlorophyll concentrations. Consequently, standard retrieval algorithms often do not perform well here. To get a better approximation we are going to use a red-band ratio algorithm based on the 665 n and 709 nm bands, that has been show to work well in the region (<a href=\"https://link.springer.com/chapter/10.1007/978-94-017-8008-7_10\" target=\"_blank\">Bernard et al., 2014</a>). For this, we need to read in the two reflectance bands, the geolocation points and the flag field. The latter will allow us to make out erroneous points (e.g. due to cloud). The band ratio can be calculated using;\n",
    "\n",
    "$[Chl-a] = 227.25 * e^{-2.815 *(Ref_{665}/Ref_{709})}$\n",
    "\n",
    "We will switch between the use of the standard OC4ME algorithm to the band ration algorithm where the chlorophyll concentration is higher than 10 in the former."
   ]
  },
  {
   "cell_type": "code",
   "execution_count": null,
   "metadata": {},
   "outputs": [],
   "source": [
    "# makes area average\n",
    "subset_box_lons = [17, 17, 19, 19, 17]\n",
    "subset_box_lats = [-33, -31, -31, -33, -33]"
   ]
  },
  {
   "cell_type": "code",
   "execution_count": null,
   "metadata": {},
   "outputs": [],
   "source": [
    "SAFE_directories = glob.glob(os.path.join(download_dir,'*.SEN3'))"
   ]
  },
  {
   "cell_type": "code",
   "execution_count": null,
   "metadata": {},
   "outputs": [],
   "source": [
    "chls = []\n",
    "lons = []\n",
    "lats = []\n",
    "land_masks = []\n",
    "\n",
    "for SAFE_directory in SAFE_directories:\n",
    "\n",
    "    # read and subset coords\n",
    "    geo_file = os.path.join(SAFE_directory,'geo_coordinates.nc')\n",
    "    geo_fid = xr.open_dataset(geo_file)\n",
    "    lon = geo_fid.longitude.data\n",
    "    lat = geo_fid.latitude.data\n",
    "    ii, jj, region_mask = eumartools.subset_image(lon, lat, subset_box_lons, subset_box_lats) \n",
    "    geo_fid.close()\n",
    "    lons.append(lon[min(jj):max(jj), min(ii):max(ii)])\n",
    "    lats.append(lat[min(jj):max(jj), min(ii):max(ii)])\n",
    "\n",
    "    # read and subset band vars\n",
    "    band_vars = xr.open_mfdataset(glob.glob(os.path.join(SAFE_directory,'Oa*.nc')))\n",
    "    ref_665 = np.array(band_vars['Oa08_reflectance'].data[min(jj):max(jj), min(ii):max(ii)])\n",
    "    ref_709 = np.array(band_vars['Oa11_reflectance'].data[min(jj):max(jj), min(ii):max(ii)])\n",
    "    band_vars.close()\n",
    "    \n",
    "    # read and subset OC4ME CHL\n",
    "    chl_vars = xr.open_mfdataset(glob.glob(os.path.join(SAFE_directory,'chl_oc4me*.nc')))\n",
    "    chl = np.array(chl_vars['CHL_OC4ME'].data[min(jj):max(jj), min(ii):max(ii)])\n",
    "    chl_vars.close()    \n",
    "    \n",
    "    # reading masks: example cloud\n",
    "    flag_file = os.path.join(SAFE_directory,'wqsf.nc')\n",
    "    flag_mask = eumartools.flag_mask(flag_file, 'WQSF',\n",
    "                                     ['CLOUD', 'CLOUD_AMBIGUOUS', 'CLOUD_MARGIN', \n",
    "                                      'LAND', 'INVALID', 'HISOLZEN','HIGHGLINT',\n",
    "                                      'COSMETIC','SUSPECT','SATURATED'])\n",
    "\n",
    "    flag_mask = flag_mask.astype(float)[min(jj):max(jj), min(ii):max(ii)]\n",
    "    flag_mask[flag_mask == 0.0] = np.nan\n",
    "\n",
    "    # calculate band ratio\n",
    "    ref_665[flag_mask == 1] = np.nan\n",
    "    ref_709[flag_mask == 1] = np.nan\n",
    "    band_ratio = np.log10(227.25 * np.exp(-2.815*ref_665/ref_709))\n",
    "    chl[flag_mask == 1] = np.nan\n",
    "    chl[chl > 10] = band_ratio[chl > 10]\n",
    "    chls.append(chl)\n",
    "\n",
    "    # reading masks: example land\n",
    "    land_mask = eumartools.flag_mask(flag_file, 'WQSF', ['LAND'])\n",
    "    land_mask = land_mask.astype(float)[min(jj):max(jj), min(ii):max(ii)]\n",
    "    land_mask[land_mask == 0.0] = np.nan\n",
    "    land_masks.append(land_mask)"
   ]
  },
  {
   "cell_type": "markdown",
   "metadata": {},
   "source": [
    "<div class=\"alert alert-info\" role=\"alert\">\n",
    "\n",
    "## <a id='section3'></a>3. Plotting OLCI data\n",
    "[Back to top](#TOC_TOP)\n",
    "\n",
    "</div>"
   ]
  },
  {
   "cell_type": "markdown",
   "metadata": {},
   "source": [
    "Now that we have calculated our band ratio for each product we will plot them using the box below. Thsi plot routine will render each image in succession and then embellish with a few annotations at the end. It will save the output image as a png."
   ]
  },
  {
   "cell_type": "code",
   "execution_count": null,
   "metadata": {},
   "outputs": [],
   "source": [
    "fig, m = plt.subplots(1, 1, figsize=(10, 14), dpi=300, subplot_kw={\"projection\": ccrs.Mercator()})\n",
    "\n",
    "for chl, lon, lat, land_mask in zip(chls, lons, lats, land_masks):\n",
    "\n",
    "    p1 = m.pcolormesh(lon, lat, chl, transform=ccrs.PlateCarree(), \n",
    "                       cmap=plt.cm.viridis, vmin=-1, vmax=2, zorder=1)\n",
    "\n",
    "    m.contourf(lon, lat, land_mask, levels=[0,1], transform=ccrs.PlateCarree(), colors='0.5', zorder=4)\n",
    "\n",
    "at_x, at_y = m.projection.transform_point(18.3369, -32.3003, src_crs=ccrs.PlateCarree())\n",
    "\n",
    "txt = m.annotate('Elandsbaai', xy=(at_x, at_y),  xycoords='data',\n",
    "        xytext=(0.75, 0.45), textcoords='axes fraction', color='r',\n",
    "        arrowprops=dict(arrowstyle=\"fancy\", facecolor='black'),\n",
    "        zorder=100, fontsize=18)\n",
    "\n",
    "txt.set_path_effects([PathEffects.withStroke(linewidth=5, foreground='w')])\n",
    "\n",
    "# Embellish with gridlines\n",
    "g1 = m.gridlines(draw_labels = True, zorder=20, color='0.0', linestyle='--', linewidth=0.5)\n",
    "g1.xlocator = mticker.FixedLocator(np.arange(-180, 180, 0.25))\n",
    "g1.ylocator = mticker.FixedLocator(np.arange(-90, 90, 0.25))\n",
    "g1.top_labels = False\n",
    "g1.right_labels = False\n",
    "g1.xlabel_style = {'color': 'black'}\n",
    "g1.ylabel_style = {'color': 'black'}\n",
    "m.set_extent([min(subset_box_lons), max(subset_box_lons), min(subset_box_lats), max(subset_box_lats)])\n",
    "m.axis('off')\n",
    "\n",
    "plt.tight_layout()\n",
    "\n",
    "cbar = fig.colorbar(p1, ax=m, location='bottom', pad=0.05)\n",
    "ticks = [-1,0,1,2]\n",
    "cbar.set_ticks(ticks)\n",
    "cbar.set_ticklabels([10**tick for tick in ticks])\n",
    "cbar.set_label('Band switching (OC4ME <-> 665:709) derived Chlorophyll concentration [mg.m$^{-3}$]')\n",
    "plt.savefig('Coastal_deoxygenation_South_African_red_tides_OLCI.png', bbox_inches='tight')"
   ]
  },
  {
   "cell_type": "markdown",
   "metadata": {},
   "source": [
    "*Note that the band ratio algorithm is prone to stretching the colour scale due to outliers. The plot above is limited to only show values in the range specified by the colour bar.*"
   ]
  },
  {
   "cell_type": "markdown",
   "metadata": {},
   "source": [
    "<hr>\n",
    "<a href=\"../../../Index.ipynb\"><< Index</a>\n",
    "<hr>\n",
    "<a href=\"https://gitlab.eumetsat.int/eumetlab/ocean\">View on GitLab</a> | <a href=\"https://training.eumetsat.int/\">EUMETSAT Training</a> | <a href=mailto:ops@eumetsat.int>Contact helpdesk for support </a> | <a href=mailto:Copernicus.training@eumetsat.int>Contact our training team to collaborate on and reuse this material</a></span></p>"
   ]
  }
 ],
 "metadata": {
  "kernelspec": {
   "display_name": "Python 3 (ipykernel)",
   "language": "python",
   "name": "python3"
  },
  "language_info": {
   "codemirror_mode": {
    "name": "ipython",
    "version": 3
   },
   "file_extension": ".py",
   "mimetype": "text/x-python",
   "name": "python",
   "nbconvert_exporter": "python",
   "pygments_lexer": "ipython3",
   "version": "3.8.13"
  }
 },
 "nbformat": 4,
 "nbformat_minor": 2
}

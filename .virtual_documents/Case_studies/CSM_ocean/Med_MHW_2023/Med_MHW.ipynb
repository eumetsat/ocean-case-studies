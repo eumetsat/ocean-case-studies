


























import bokeh.plotting as bk             # a library that supports interactive plotting
import bokeh.models as bm               # a library that supports interactive plotting models
import bokeh.io as bi                   # a library that supports interactive plotting display options
import copernicusmarine                 # a library to help us access CMEMS data
import getpass                          # a library to help us enter passwords
import numpy as np                      # a library that lets us work with arrays; we import this with a new name "np"
import os                               # a library that allows us access to basic operating system commands
from pathlib import Path                # a library that helps construct system path objects
from scipy import stats                 # a library that supports statistical analysis
import warnings                         # a library the helps us to manage warnings
import xarray as xr                     # a powerful library that helps us work efficiently with multi-dimensional arrays
from xcube.webapi.viewer import Viewer  # a library that provides the Xcube viewer
from xmhw.xmhw import detect, threshold # a library that support Xarray calculation of marine heatwaves, based on Hobday et al. 2016 <<<

# turn off warnings and initialise bokeh
warnings.filterwarnings("ignore")
bk.output_notebook()

# set Xcube server if running on WEkEO
if "WEKEO_DATABROKER_URL" in os.environ:
    os.environ["XCUBE_JUPYTER_LAB_URL"] = f"https://jupyterhub.prod.wekeo2.eu/user/{os.environ['JUPYTERHUB_USER']}/"





# defining our bounding box (W, E, S, N)
ROI = [3.0, 8.5, 41.0, 44.5]

# defining our temporal bounds
final_year = 2021
n_years = 20





# Set tags to identify datasets
tags = ["OSTIA", "CCI_C3S"]

# create dictionary
datasets = {}
for tag in tags:
    datasets[tag] = {}

# store information on our data requirements in the dictionary
datasets["OSTIA"]["sources"] = "METOFFICE-GLO-SST-L4-REP-OBS-SST"
datasets["OSTIA"]["savefile"] = "SST_OSTIA.nc"

datasets["CCI_C3S"]["sources"] = ["ESACCI-GLO-SST-L4-REP-OBS-SST", "C3S-GLO-SST-L4-REP-OBS-SST"]
datasets["CCI_C3S"]["savefile"] = "SST_CCI_C3S.nc"

# set the variable we wish to retrieve
variables = ["analysed_sst"]





download_data = True








def plot_MWH_zone(axis, t1, t2, times, scaling, norm_scaling):
    """Function to highlight marine heatwave periods.
    
    Args:
        axis: the axis to plot into
        t1,t2: the start and end time of the marine heat wave period
        times: the time variable
        normalised_intensity: the intensity of the heatwave (0-1; used to scale the colour)
    Returns:
        None
    """
    start_date = times.time[int(t1)].dt.date.values
    end_date = times.time[int(t2 + 1)].dt.date.values
    length = int(t2) - int(t1) + 1
    index = int(t_values.tolist().index(t1) / 2 + 1)
    
    # Prepare the data to plot
    data_MHW = bm.ColumnDataSource(data=dict(
            x=np.array(times.time[int(t1) : int(t2 + 1)]),
            y1=np.array(times[int(t1) : int(t2 + 1)]),
            y2=np.full(length, 10)))

    fill_color = '#%02x%02x%02x' % (int(norm_scaling* 255), 1, 1)
    
    # Fill the required area
    v_area = p_MHW.varea("x", "y1", "y2", source=data_MHW, fill_color=fill_color,
                         hover_alpha=0.9, alpha=0.6)

    # Add a hovertool to the zone
    p_MHW.add_tools(bm.HoverTool(renderers=[v_area], tooltips=[
                ("Index", f"{index}"), ("Dates", f"{start_date} - {end_date}"),
                ("Duration", f"{length} days"),
                ("Category/Intensity", f"{float(scaling)}")],
            formatters={"@start": "datetime", "@end": "datetime"}, toggleable=False))











# Default location expected by the copernicusmarine package
copernicus_marine_credentials_file = Path(Path.home() / '.copernicusmarine' / '.copernicusmarine-credentials')

# Create it only if it does not already exists
if not copernicus_marine_credentials_file.is_file():
    copernicusmarine.login()





ds = copernicusmarine.open_dataset(
    dataset_id=datasets["OSTIA"]["sources"],
    variables=variables,
    minimum_longitude=ROI[0],
    maximum_longitude=ROI[1],
    minimum_latitude=ROI[2],
    maximum_latitude=ROI[3],
    start_datetime= f"{final_year - n_years}-01-01",
    end_datetime= f"{final_year}-12-31")





ds





viewer = Viewer(
    server_config={
        "Styles": [
            {
                "Identifier": "SST",
                "ColorMappings": {
                    "analysed_sst": {"ValueRange": [285, 290], "ColorBar": "Spectral_r"}
                },
            }        
        ]
    }
)





viewer.add_dataset(ds, title="OSTIA", style="SST");
viewer.show()











if download_data:
    ds = copernicusmarine.open_dataset(
        dataset_id=datasets["OSTIA"]["sources"],
        variables=variables,
        minimum_longitude=ROI[0],
        maximum_longitude=ROI[1],
        minimum_latitude=ROI[2],
        maximum_latitude=ROI[3],
        start_datetime= f"{final_year - n_years}-01-01",
        end_datetime= f"{final_year}-12-31")

    # create times series
    ts = ds.analysed_sst.mean(dim=["latitude", "longitude"])
    
    # Store the time series ts locally.
    ts.to_netcdf(datasets["OSTIA"]["savefile"])





if download_data:

    sources = []
    for source in datasets["CCI_C3S"]["sources"]:
        sources.append(copernicusmarine.open_dataset(
            dataset_id=source,
            variables=variables,
            minimum_longitude=ROI[0],
            maximum_longitude=ROI[1],
            minimum_latitude=ROI[2],
            maximum_latitude=ROI[3],
            start_datetime= f"{final_year - n_years}-01-01",
            end_datetime= f"{final_year}-12-31").analysed_sst.mean(dim=["latitude", "longitude"]))

    # create times series
    ts = xr.concat(sources, dim="time")

    # Store the time series ts locally.
    ts.to_netcdf(datasets["CCI_C3S"]["savefile"])











heatwaves = {}

K_to_C = - 273.15
for tag in tags:
    heatwaves[tag] = {}
    ts = xr.open_dataarray(f"SST_{tag}.nc")
    ts = ts + K_to_C
    heatwaves[tag]["time_series"] = ts
    ts.close()





for tag in tags:
    heatwaves[tag]["max_year"] = np.array(heatwaves[tag]["time_series"][-1].time.dt.year)
    heatwaves[tag]["min_year"] = np.array(heatwaves[tag]["time_series"][0].time.dt.year)
    heatwaves[tag]["time"] = np.array(heatwaves[tag]["time_series"].time) 
    heatwaves[tag]["SST"] = np.array(heatwaves[tag]["time_series"]) 

    # heatwave threshold calculations
    heatwaves[tag]["xmhw_thresholds"] = threshold(heatwaves[tag]["time_series"])
    heatwaves[tag]["doy"] = np.array(heatwaves[tag]["xmhw_thresholds"].doy)
    heatwaves[tag]["xmhw_seas_clim"] = np.array(heatwaves[tag]["xmhw_thresholds"].seas)
    heatwaves[tag]["xmhw_thresh_clim"] = np.array(heatwaves[tag]["xmhw_thresholds"].thresh)
    heatwaves[tag]["xmhw_seas"] = heatwaves[tag]["xmhw_seas_clim"][heatwaves[tag]["time_series"].time.dt.dayofyear - 1]
    heatwaves[tag]["xmhw_thresh"] = heatwaves[tag]["xmhw_thresh_clim"][heatwaves[tag]["time_series"].time.dt.dayofyear - 1]

    # heatwave detection calculations
    heatwaves[tag]["mhws"] = detect(heatwaves[tag]["time_series"], heatwaves[tag]["xmhw_thresholds"].thresh, heatwaves[tag]["xmhw_thresholds"].seas)





data_clim = bm.ColumnDataSource(
    data=dict(
        doy_OSTIA=heatwaves[tags[0]]["doy"],
        seas_clim_OSTIA=heatwaves[tags[0]]["xmhw_seas_clim"],
        thresh_clim_OSTIA=heatwaves[tags[0]]["xmhw_thresh_clim"],
        doy_CCI_C3S=heatwaves[tags[1]]["doy"],
        seas_clim_CCI_C3S=heatwaves[tags[1]]["xmhw_seas_clim"],
        thresh_clim_CCI_C3S=heatwaves[tags[1]]["xmhw_thresh_clim"]))





data = bm.ColumnDataSource(
    data=dict(
        t_OSTIA=heatwaves[tags[0]]["time"],
        sst_OSTIA=heatwaves[tags[0]]["SST"],
        seas_OSTIA=heatwaves[tags[0]]["xmhw_seas"],
        thresh_OSTIA=heatwaves[tags[0]]["xmhw_thresh"],
        t_CCI_C3S=heatwaves[tags[1]]["time"],
        sst_CCI_C3S=heatwaves[tags[1]]["SST"],
        seas_CCI_C3S=heatwaves[tags[1]]["xmhw_seas"],
        thresh_CCI_C3S=heatwaves[tags[1]]["xmhw_thresh"]))











# set up our figure
p = bk.figure(height=600, width=1000,
    title=f"SST Climatology [climatology: {tag}, {heatwaves[tags[0]]['min_year']} - {heatwaves[tags[0]]['max_year']}]",
    x_axis_label="Day of year", y_axis_label=r"\[ SST \, [^\circ C] \]")

# Plot the climatology and collect the plot, hover and legend entries
plots = [] ; hovers = [] ; entries = []
count = -1
for tag, cols, loc in zip(tags, ["blue", "black"], ["left", "right"]):
    count = count + 1
    plots.append(p.line(x=f"doy_{tag}", y=f"seas_clim_{tag}", source=data_clim, line_width=1.5, color=cols))
    hovers.append(bm.HoverTool(renderers=[plots[count]], tooltips=[("Day of year", f"@doy_{tag}"), (f"SST [{tag}]", f"@seas_clim_{tag}")],
        mode="vline", attachment=loc))
    entries.append((f"Seasonal climatology [{tag}]", [plots[count]]))

# Add the hover tools
p.add_tools(hovers[0], hovers[1])

# Add the legend & show the plot
legend = bm.Legend(items=[entries[0], entries[1]], location="top_left")
p.add_layout(legend, "center")
bi.show(p)











tag = "CCI_C3S"





p = bk.figure(height=600, width=1000,
    title=f"SST Climatology and MHW detection threshold [climatology: {tag}, {heatwaves[tag]['min_year']} - {heatwaves[tag]['max_year']}]",
    x_axis_label="Day of year", y_axis_label=r"\[ SST \, [^\circ C] \]")

# Plot the climatology and detection threshold
plots = []; hovers = []; entries = []

count = -1
for var, cols, loc, label, style in zip(["seas_clim", "thresh_clim"], ["black", "blue"], ["left", "right"],
                                        [f"Seasonal climatology [{tag}]", "MHW Threshold (90%)"], ["solid", "dashed"]):
    count = count + 1
    plots.append(p.line(x=f"doy_{tag}", y=f"{var}_{tag}", source=data_clim, line_width=1.5, color=cols, line_dash=style))
    hovers.append(bm.HoverTool(renderers=[plots[count]], tooltips=[("Day of year", f"@doy_{tag}"), (label, f"@{var}_{tag}")],
        mode="vline", attachment=loc))
    entries.append((label, [plots[count]]))

line_dash="dashed"

# Add the hover tools
p.add_tools(hovers[0], hovers[1])

# Add the legend & plot
legend = bm.Legend(items=[entries[0], entries[1]], location="top_left")
p.add_layout(legend, "center")
bi.show(p)





p = bk.figure(height=600, width=1000,
    title=f"SST Climatology and MHW detection threshold [climatology: {tag}, {heatwaves[tag]['min_year']} - {heatwaves[tag]['max_year']}]",
    x_axis_type="datetime", x_axis_label="Date",
    y_axis_label=r"\[ SST \, [^\circ C] \]", y_range = (13.5,32))

# Plot the climatology and detection threshold
p_sst = p.line(f"t_{tag}", f"sst_{tag}", source=data, line_width=1.5, color="red")
p_thresh = p.line(f"t_{tag}", f"thresh_{tag}", source=data, line_width=1.5, color="blue", line_dash="dashed")
p_seas = p.line(f"t_{tag}", f"seas_{tag}", source=data, line_width=1.5, color="black")

# Add a hovertool to the plot
p.add_tools(bm.HoverTool(renderers=[p_thresh], tooltips=[
            ("Date", f"@t_{tag}"+"{%F}"),
            ("Threshold", f"@thresh_{tag}"),
            ("SST", f"@sst_{tag}"),
            ("Climatology", f"@seas_{tag}"),
        ], mode="vline", formatters={f"@t_{tag}": "datetime"}))

# Add the legend & plot
legend = bm.Legend(items=[(f"SST [{tag}]", [p_sst]), (f"Seasonal climatology [{tag}]", [p_seas]),
        (f"90% MHW detection threshold", [p_thresh])], location="top_left", ncols = 1)

# we will use the same axis in the next plot, so keep it for later
p_MHW = p
p.add_layout(legend, "center")
bi.show(p)











print("Index\tStart\t\tCategory\tDuration (days)\tMax. intensity [C]\n")
index = 0
for start_date, category, duration,intensity in zip(heatwaves[tag]["mhws"].time_start.dt.date.values,
                                                    heatwaves[tag]["mhws"].category.values,
                                                    heatwaves[tag]["mhws"].duration.values,
                                                    heatwaves[tag]["mhws"].intensity_max.values):
    index = index + 1
    print(f'{index}\t{start_date}\t{category}\t\t{duration}\t\t{"%.2f" % intensity}')





intensities = np.array(heatwaves[tag]["mhws"].intensity_max)
categories = np.array(heatwaves[tag]["mhws"].category)

# change "categories" to "
scalings = categories.copy()





# Plot all the heatwaves zones
t_values = np.union1d(heatwaves[tag]["mhws"].index_start.values, heatwaves[tag]["mhws"].index_end.values)
norm_scalings = (scalings - min(0, np.nanmin(scalings)))/(np.nanmax(scalings) - min(0, np.nanmin(scalings)))

for t1, t2, scaling, norm_scaling in zip(*[iter(t_values)] * 2, scalings, norm_scalings):
    plot_MWH_zone(p_MHW, t1, t2, heatwaves[tag]["time_series"], scaling, norm_scaling)

# Add the legend & plot
legend = bm.Legend(items=[(f"SST [{tag}]", [p_sst]), (f"Seasonal climatology [{tag}]", [p_seas]),
        (f"90% MHW detection threshold", [p_thresh])], location="top_left", ncols=1)

p_MHW.add_layout(legend, "center")
bi.show(p_MHW)





































import cartopy                                        # a library that supports mapping and projection
import datetime                                       # a library that allows us to work with dates and times
import glob                                           # a package that helps with file searching
import matplotlib.pyplot as plt                       # a library the provides plotting capability
from matplotlib import gridspec                       # a library the provides plotting capability
import numpy as np                                    # a library that lets us work with arrays; we import this with a new name "np"
import os                                             # a library that allows us access to basic operating system commands
import xarray as xr                                   # a powerful library that helps us work efficiently with multi-dimensional arrays
import eumdac                                         # a tool that helps us download via the eumetsat/data-store
import shutil                                         # a library that allows us access to basic operating system commands
import copernicusmarine                               # a library to help us access CMEMS data
from scipy.interpolate import griddata                # a library that provides interpolation options
from scipy import stats                               # a library that support statistical analysis
import bokeh.plotting as bk                           # a library that supports plotting
from bokeh.palettes import RdBu11, interp_palette     # as above
from bokeh.models import ColorBar, LinearColorMapper  # as above
import pandas as pd                                   # a library for time series analysis
from pathlib import Path                              # a library that helps construct system path objects
import getpass                                        # a library to help us enter passwords
import warnings                                       # a library the helps us to manage warnings

# turn off warnings
warnings.filterwarnings("ignore")

# initiate "bokeh" plot
bk.output_notebook()

# set plot font size
plt.rc('font', size=12)





# Create a download directory for our OLCI products
download_dir = os.path.join(os.getcwd(), "products")
os.makedirs(download_dir, exist_ok=True)

# Data downloading options
download_SLSTR_granules = True





# Set some mapping vars
color_mapper = LinearColorMapper(interp_palette(RdBu11, 256), low=-4, high=4)
coast = cartopy.feature.NaturalEarthFeature(category='physical', scale='10m', facecolor='none', name='coastline')





# Multi-year reprocessing
dataset_my = 'METOFFICE-GLO-SST-L4-REP-OBS-SST'

# Near real-time
dataset_nrt = 'METOFFICE-GLO-SST-L4-NRT-OBS-SST-V2'

CMEMS_dataset_variables = ["analysed_sst"]





# L4 ROI
L4_region = [-90.0, 30.0, 45.0, 75.0] # W, S, E, N

# L4 Time series ROI
TS_region = [10, 36, 15, 42] # W, S, E, N

# climatology
start_year = 1982
end_year = 2024
recent = datetime.datetime.today() - datetime.timedelta(days=2)
month = recent.month
day = recent.day

# operational
nrt_year = recent.year
formatted_month = datetime.datetime(nrt_year, month, day).strftime('%B')





# select collectionID
collectionID = 'EO:EUM:DAT:0412'





# L2 ROI
L2_region = [-10, 30, 30, 45] # W, S, E, N
subsample = 2











def set_plot():
    '''
    This function does a quick plot initialisation
    '''
    gs = gridspec.GridSpec(3, 1, height_ratios=[10, 1, 1])
    gs.update(wspace=0.01, hspace=0.01)

    return gs


def embellish_plot(m):
    """Quick function to embellish plots with gridlines and labels

    Args:
        m (axis): the axis to plot into
    Returns:
        None
    """
    # Embellish with gridlines
    m.add_feature(cartopy.feature.NaturalEarthFeature('physical', 'land', '10m', edgecolor='k', facecolor='#546d51', linewidth=0.5), zorder=500)
    g1 = m.gridlines(draw_labels = True, linestyle='--', linewidth=0.5, zorder=1000)
    g1.top_labels = g1.right_labels = False
    g1.xlabel_style = g1.ylabel_style = {'color': '0.5'}











# Default location expected by the copernicusmarine package
copernicus_marine_credentials_file = Path(Path.home() / '.copernicusmarine' / '.copernicusmarine-credentials')

# Create it only if it does not already exists
if not copernicus_marine_credentials_file.is_file():
    copernicusmarine.login()


SST_clim_data = []
for clim_year in range(start_year, 1986):
    SST_clim_data.append(copernicusmarine.open_dataset(
               dataset_id = dataset_my,
               variables=['analysed_sst'],
               minimum_longitude=L4_region[0],
               maximum_longitude=L4_region[2],
               minimum_latitude=L4_region[1],
               maximum_latitude=L4_region[3],
               start_datetime="{clim_year}-{month}-{day}T00:00:00.000Z".format(clim_year = clim_year, month = str(month).zfill(2), day = str(day).zfill(2)),
               end_datetime="{clim_year}-{month}-{day}T00:00:00.000Z".format(clim_year = clim_year, month = str(month).zfill(2), day = str(day).zfill(2)),
               ))


SST_clim_data = xr.concat(SST_clim_data, dim='time')








SST_clim = SST_clim_data["analysed_sst"].mean(dim='time')
LON, LAT = np.meshgrid(SST_clim_data["longitude"], SST_clim_data["latitude"]) # for later use....





# setup figure
fig = plt.figure(figsize=(16, 6), dpi=300)

gs = set_plot()

# plot
axes_m = plt.subplot(gs[0,0], projection=cartopy.crs.PlateCarree())
axes_m.set_extent([L4_region[0], L4_region[2], L4_region[1], L4_region[3]], crs=cartopy.crs.PlateCarree())
p1 = axes_m.pcolormesh(SST_clim_data["longitude"], SST_clim_data["latitude"],
                       SST_clim - 273.15, cmap="RdYlBu_r", transform=cartopy.crs.PlateCarree())
# embellish plot
embellish_plot(axes_m)
axes_m.plot([L2_region[ii] for ii in [0,0,2,2,0]], [L2_region[ii] for ii in [1,3,3,1,1]], c="k", linestyle='--', linewidth=1.0, zorder=10000)
axes_m.annotate("L2 region", (L2_region[0], L2_region[-1]+1), xycoords='data', zorder=10000)
axes_m.plot([TS_region[ii] for ii in [0,0,2,2,0]], [TS_region[ii] for ii in [1,3,3,1,1]], c="0.5", linestyle='--', linewidth=1.0, zorder=10000)
axes_m.annotate("TS region", (TS_region[0], TS_region[1]-2), xycoords='data', c="0.5", zorder=10000)

# colorbar
axes_c = plt.subplot(gs[2,0])
cbar = plt.colorbar(p1, cax=axes_c, orientation='horizontal')
clabel = f"OSTIA level-4 foundation temperature climatology ({start_year}:{end_year}) for {day} {formatted_month}"
cbar.set_label(clabel + ' [$^{o}C$]')
plt.savefig("OSTIA_climatology.png", bbox_inches='tight')











SST_nrt_data = copernicusmarine.open_dataset(
           dataset_id = dataset_nrt,
           variables=['analysed_sst'],
           minimum_longitude=L4_region[0],
           maximum_longitude=L4_region[2],
           minimum_latitude=L4_region[1],
           maximum_latitude=L4_region[3],
           start_datetime="{nrt_year}-{month}-{day}T00:00:00.000Z".format(nrt_year = nrt_year, month = str(month).zfill(2), day = str(day).zfill(2)),
           end_datetime="{nrt_year}-{month}-{day}T00:00:00.000Z".format(nrt_year = nrt_year, month = str(month).zfill(2), day = str(day).zfill(2)),
           )


SST_anomaly = np.squeeze(np.array(SST_nrt_data["analysed_sst"] - SST_clim))





lonmin, lonmax = np.nanmin(SST_clim_data["longitude"]), np.nanmax(SST_clim_data["longitude"])
latmin, latmax = np.nanmin(SST_clim_data["latitude"]), np.nanmax(SST_clim_data["latitude"])

f1 = bk.figure(width=1280, height=720, x_range=[lonmin, lonmax], y_range=[latmin, latmax])
f1.image(image=[SST_anomaly], x=[lonmin], y=[latmin], dw=[lonmax-lonmin], dh=[latmax-latmin], color_mapper=color_mapper)

for val in coast.geometries():
    coast_lons, coast_lats = val.xy
    f1.line(coast_lons, coast_lats, color='black', line_width=0.5)
    
color_bar = ColorBar(color_mapper=color_mapper, label_standoff=12, border_line_color=None, location=(0,0))
f1.add_layout(color_bar, 'right')

bk.show(f1)














# load credentials
eumdac_credentials_file = Path(Path.home() / '.eumdac' / 'credentials')

if os.path.exists(eumdac_credentials_file):
    consumer_key, consumer_secret = Path(eumdac_credentials_file).read_text().split(',')
else:
    # creating authentication file
    consumer_key = input('Enter your consumer key: ')
    consumer_secret = getpass.getpass('Enter your consumer secret: ')
    try:
        os.makedirs(os.path.dirname(eumdac_credentials_file), exist_ok=True)
        with open(eumdac_credentials_file, "w") as f:
            f.write(f'{consumer_key},{consumer_secret}')
    except:
        pass
        
token = eumdac.AccessToken((consumer_key, consumer_secret))
print(f"This token '{token}' expires {token.expiration}")





# create data store object
datastore = eumdac.DataStore(token)

# space/time filter the collection for products
selected_collection = datastore.get_collection(collectionID)

# expand sub-region into a polygon
L2_region_poly = [[L2_region[0], L2_region[1]], [L2_region[0], L2_region[3]], [L2_region[2], L2_region[3]], [L2_region[2], L2_region[1]], [L2_region[0], L2_region[1]]]

count = 0
if download_SLSTR_granules:
    products = selected_collection.search(
        geo='POLYGON(({}))'.format(','.join(["{} {}".format(*coord) for coord in L2_region_poly])),
        dtstart=datetime.datetime(nrt_year, month, day-1, datetime.datetime.now().hour, 0, 0), 
        dtend=datetime.datetime(nrt_year, month, day, datetime.datetime.now().hour, 0, 0),
        timeliness = 'NR', 
        orbitdir= 'ASCENDING')

    print(f"Found {len(products)} matching products")
    
    for product in products:
        count = count + 1
        for entry in product.entries:
            if ".nc" in entry:
                fname = os.path.join(os.getcwd(), 'products', os.path.basename(entry))
                if not os.path.exists(fname):
                    with product.open(entry=entry) as fsrc, open(fname, mode='wb') as fdst:
                        print(f'Downloading ({count}) {fsrc.name}.')
                        shutil.copyfileobj(fsrc, fdst)
                    print(f'Download of file {fsrc.name} finished.')
                else:
                    print(f'{fsrc.name} exists, skipping.')








# read SLSTR granules:
files = glob.glob(os.path.join(download_dir,"*L2P_*.nc"))





# setup figure
fig = plt.figure(figsize=(16, 9), dpi=300)
plt.rc('font', size=12)

gs = set_plot()

axes_m = plt.subplot(gs[0,0], projection=cartopy.crs.PlateCarree())
axes_m.set_extent([L2_region[0], L2_region[2], L2_region[1], L2_region[3]], crs=cartopy.crs.PlateCarree())

# blank out the background
p1 = axes_m.pcolormesh(SST_clim_data["longitude"], SST_clim_data["latitude"], SST_anomaly*0, cmap="RdBu_r",
                       transform=cartopy.crs.PlateCarree(), vmin=-5, vmax=5)
count = 0
for file in files:
    count = count + 1
    print(f"Processing granule {count} of {len(files)}")
    SST_granule = xr.open_mfdataset(file)

    L2_LON = np.array(SST_granule["lon"][::subsample,::subsample])
    L2_LAT = np.array(SST_granule["lat"][::subsample,::subsample])
    L2_SST = np.squeeze(np.array(SST_granule["sea_surface_temperature"][0, ::subsample,::subsample] + SST_granule["sses_bias"][0, ::subsample,::subsample]))
    L2_QC = np.squeeze(np.array(SST_granule["quality_level"][0, ::subsample,::subsample]))
    L2_SST[L2_QC < 5] = np.nan

    # interp clim to granule
    SST_clim_interp = griddata((LON.ravel(), LAT.ravel()), np.array(SST_clim).ravel(),
                               (L2_LON.ravel(), L2_LAT.ravel()),
                               method="nearest").reshape(np.shape(L2_LON))
   
    p1 = plt.pcolormesh(L2_LON, L2_LAT, L2_SST - SST_clim_interp, cmap="RdBu_r", vmin = -4, vmax = 4)
    SST_granule.close()

embellish_plot(axes_m)

axes_m.plot([TS_region[ii] for ii in [0,0,2,2,0]], [TS_region[ii] for ii in [1,3,3,1,1]], c="0.5", linestyle='--', linewidth=1.0)
axes_m.annotate("TS region", (TS_region[0], TS_region[1]-1), xycoords='data', c="0.5", fontsize=8)

# colorbar
axes_c = plt.subplot(gs[2,0])
cbar = plt.colorbar(p1, cax=axes_c, orientation='horizontal')
clabel = f"SLSTR night-time SST anomaly for {day} {formatted_month} {nrt_year}"
cbar.set_label(clabel + ' [$^{o}C$]')
plt.savefig("SLSTR_anomaly_Med.png", bbox_inches='tight')











# Time series
TS_MY_data = copernicusmarine.open_dataset(
           dataset_id = dataset_my,
           variables=['analysed_sst'],
           minimum_longitude=TS_region[0],
           maximum_longitude=TS_region[2],
           minimum_latitude=TS_region[1],
           maximum_latitude=TS_region[3],
           start_datetime="{start_year}-01-01T00:00:00.000Z".format(start_year = start_year),
           end_datetime="{end_year}-12-31T00:00:00.000Z".format(end_year = end_year),
           ).mean(dim=["longitude", "latitude"])

TS_NRT_data = copernicusmarine.open_dataset(
           dataset_id = dataset_nrt,
           variables=['analysed_sst'],
           minimum_longitude=TS_region[0],
           maximum_longitude=TS_region[2],
           minimum_latitude=TS_region[1],
           maximum_latitude=TS_region[3],
           start_datetime="{start_year}-01-01T00:00:00.000Z".format(start_year = start_year),
           end_datetime="{end_year}-12-31T00:00:00.000Z".format(end_year = end_year),
           ).mean(dim=["longitude", "latitude"])





# setup figure
fig = plt.figure(figsize=(16, 9), dpi=300)
plt.rc('font', size=12)

plots = [] ; labels = []; xticks = []; xtick_labels= []

for DS, tag, plot_colour in zip([TS_MY_data, TS_NRT_data], ["MY", "NRT"], ["k", "r"]):
    
    DS["timeordinal"]=(['time'],  [pd.to_datetime(x).toordinal() for x in DS.time.values])

    p1, = plt.plot(DS.timeordinal, DS.analysed_sst - 273.15, linewidth=1, c=plot_colour)
    plots.append(p1)
    labels.append(f"OSTIA foundation temperature ({tag})")

    # calculate trend
    annual = DS.groupby('time.year').mean('time')
    res = stats.linregress(annual.timeordinal[1:-1], annual.analysed_sst[1:-1] - 273.15)
    plt.scatter(annual.timeordinal[1:-1], annual.analysed_sst[1:-1] - 273.15, c=plot_colour)
    p2, = plt.plot(annual.timeordinal[1:-1], res.intercept + res.slope*annual.timeordinal[1:-1],
                   color=plot_colour, linestyle="--", label='fitted line')
    plots.append(p2)
    labels.append(f"Annual trend ({tag})")
    xticks.append([datetime.datetime(ii, 1, 1).toordinal() for ii in annual.year.values])
    xtick_labels.append(annual.year)
    print(f"Trend - R-squared (pvalue): {res.slope*365:.2f} K/year - {res.rvalue**2:.6f} ({res.pvalue**2:.6f})")

plt.xticks(np.array([item for sublist in xticks for item in sublist]),
           labels=np.array([item for sublist in xtick_labels for item in sublist]),
           rotation=90, fontsize=8)

plt.grid(color='0.25', linestyle='--', linewidth=0.5, alpha=0.5)
legend = plt.legend(plots, labels, frameon=False, bbox_to_anchor=(0.5, 1.05), loc='upper center', ncol=4)
plt.xlabel("Date")
plt.ylabel("Foundation temperature [$^{o}$C]")

plt.savefig("OSTIA_timeseries.png", bbox_inches='tight')










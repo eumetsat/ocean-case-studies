


























import os                              # a library that allows us access to basic operating system commands
import json                            # a library that helps us make JSON format files
import eumdac                          # a tool that helps us download via the eumetsat/data-store
import datetime                        # a library that allows us to work with dates and times
import shutil                          # a library that allows us access to basic operating system commands like copy
import zipfile                         # a library that support zipping/unzipping files
import xarray                          # a library that helps us work efficiently with multi-dimensional arrays
import matplotlib                      # a library the provides plotting capability
import matplotlib.pyplot as plt        # a library the provides plotting capability
import cartopy.crs as ccrs             # a library that supports mapping and projection
import cartopy.io.img_tiles as cimgt   # a subcomponent of cartopy that plots land tiles
import numpy as np                     # a library that lets us work with arrays; we import this with a new name "np"
from pathlib import Path               # a library that helps construct system path objects
import getpass                         # a library to help us enter passwords
import warnings                        # a library that supports managing warning messages

warnings.filterwarnings("ignore")
plt.rcParams.update({'font.size': 16})





# defining our bounding box
lon_min = 0
lon_max = 5
lat_min = 35
lat_max = 45

# make a WKT polygon string for this box
roi = [[lon_min, lat_max], [lon_max, lat_max], [lon_max, lat_min], [lon_min, lat_min], [lon_min, lat_max]]
polygon = 'POLYGON(({}))'.format(','.join(["{} {}".format(*coord) for coord in roi]))

# defining out search times; we will look only in the morning (00:01 to 13:00 UTC)
start = datetime.datetime(2023, 1, 18, 1, 0)
end = datetime.datetime(2023, 1, 18, 12, 0)





# Create a download directory for our products
download_dir = os.path.join(os.getcwd(), "products")
os.makedirs(download_dir, exist_ok=True)








# load credentials
eumdac_credentials_file = Path(Path.home() / '.eumdac' / 'credentials')

if os.path.exists(eumdac_credentials_file):
    consumer_key, consumer_secret = Path(eumdac_credentials_file).read_text().split(',')
else:
    # creating authentication file
    consumer_key = input('Enter your consumer key: ')
    consumer_secret = getpass.getpass('Enter your consumer secret: ')
    try:
        os.makedirs(os.path.dirname(eumdac_credentials_file), exist_ok=True)
        with open(eumdac_credentials_file, "w") as f:
            f.write(f'{consumer_key},{consumer_secret}')
    except:
        pass
        
token = eumdac.AccessToken((consumer_key, consumer_secret))
print(f"This token '{token}' expires {token.expiration}")





datastore = eumdac.DataStore(token)





#list all SRAL and Poseidon-4 collection IDs - if we don't know a priori which satellite we are interested in. 
for collection_id in datastore.collections:
    if ("SRAL" in collection_id.title) or ("Poseidon-4" in collection_id.title):
        if "non-public" in collection_id.abstract: continue
        print(f"Collection ID({collection_id}): {collection_id.title}")





collectionID = 'EO:EUM:DAT:0834'
selected_collection = datastore.get_collection(collectionID)





products = selected_collection.search(geo=polygon, dtstart=start, dtend=end)
for product in products:
    print(product)





for product in products:
    selected_product = datastore.get_product(product_id=product, collection_id=collectionID)
    with selected_product.open() as fsrc, open(os.path.join(download_dir, fsrc.name), mode='wb') as fdst:
        print(f'Downloading {fsrc.name}')
        shutil.copyfileobj(fsrc, fdst)
        print(f'Download of product {fsrc.name} finished.')

    # Unzip the product
    with zipfile.ZipFile(fdst.name, 'r') as zip_ref:
        for file in zip_ref.namelist():
            if file.startswith(str(selected_product)):
                zip_ref.extract(file, download_dir)
        print(f'Unzipping of product {selected_product} finished.')
     # Clean up
    os.remove(fdst.name)
    print('------')





selected_collection.search_options





for product in products:
    for entry in product.entries:
        if 'reduced_measurement.nc' in entry:
            with product.open(entry=entry) as fsrc, open(os.path.join(os.getcwd(), 'products',fsrc.name), mode='wb') as fdst:
                print(f'Downloading {fsrc.name}.')
                shutil.copyfileobj(fsrc, fdst)
                print(f'Download of file {fsrc.name} finished.')











# select input file
input_file = os.path.join(download_dir, 'reduced_measurement.nc')

# open input file
ncalti = xarray.open_dataset(input_file)





# load coordinates
lat = ncalti['lat_01']
lon = ncalti['lon_01']
lat_no_good = lat.copy()

# load flags
flags = ncalti['surf_class_01']

# load the data ; we take the Significant Wave Height field at 1 Hz in Ku band, SAR-mode (plrm would do, too), 
# over ocean surfaces.
swh = ncalti.variables['swh_ocean_01_ku']

# load the data ; we take the wind speed field at 1 Hz in Ku band, SAR-mode (plrm would do, too)
#wind_speed_alt_01_plrm_ku
winds = ncalti.variables['wind_speed_alt_01_ku']





lat_no_good[flags==0] = np.nan
lat[flags!=0] = np.nan
lon[flags!=0] = np.nan
swh[flags!=0] = np.nan
winds[flags!=0] = np.nan





ncalti.close()





# make a figure
fig = plt.figure(figsize=(24,16), dpi=150)
ax = plt.axes(projection=ccrs.PlateCarree())

# decorate the figure
ax.gridlines(crs=ccrs.PlateCarree(), draw_labels=True, linewidth=1, color='gray', alpha=0.5, linestyle='--')
ax.set_extent([lon_min, lon_max, lat_min, lat_max], crs=ccrs.PlateCarree())

# add the background
tiler = cimgt.GoogleTiles(desired_tile_form='RGB', style='satellite')
ax.add_image(tiler, 8)

# plot and show the data
tracks = ax.scatter(lon, lat, c=swh,  vmin=0, vmax=5, cmap='viridis',
                    marker='o', edgecolors='black', linewidth=0.01)
cbar = plt.colorbar(tracks)
cbar.set_label('Significant wave height [m]')
plt.show()





# make a figure
fig = plt.figure(figsize=(24,16), dpi=150)
ax = plt.axes(projection=ccrs.PlateCarree())

# decorate the figure
ax.gridlines(crs=ccrs.PlateCarree(), draw_labels=True, linewidth=1, color='gray', alpha=0.5, linestyle='--')
ax.set_extent([lon_min, lon_max, lat_min, lat_max], crs=ccrs.PlateCarree())

# add the background
tiler = cimgt.GoogleTiles(desired_tile_form='RGB', style='satellite')
ax.add_image(tiler, 8)

# plot and show the data
tracks = ax.scatter(lon, lat, c=winds,  vmin=0, vmax=20, cmap='inferno',
                    marker='o', edgecolors='black', linewidth=0.01)
cbar = plt.colorbar(tracks)
cbar.set_label('Wind speed [m/s]')
plt.show()





fig = plt.figure(figsize=(12, 6))
ax1 = plt.axes()
ax1.set_ylabel('Significant wave height [m]')
ax1.set_xlabel('Latitude')
ax1.axis([lat_min, lat_max, 0, 6])
ax1.plot(lat, swh)
ax2 = ax1.twinx()
ax2.set_ylabel('Wind speed [m/s]')
ax2.axis([lat_min, lat_max, 0, 20])
ax2.plot(lat, winds, 'r')
ax2.fill_between(lat_no_good, 0, 20, color='0.5', alpha=0.25);








# select SAR file
sar_file = 'precomputed/s1a-iw-owi-cm-20230118t055303-20230118t055508-000003-046834_gs.nc'

# read in variables
ncsar = xarray.load_dataset(sar_file)
latsar = ncsar.variables['latitude'][0]
lonsar = ncsar.variables['longitude'][0]
windsar = ncsar.variables['wind_speed'][0]
ncsar.close()





# make a figure
fig = plt.figure(figsize=(24,16))
ax = plt.axes(projection=ccrs.PlateCarree())

# decorate the figure
ax.gridlines(crs=ccrs.PlateCarree(), draw_labels=True, linewidth=1, color='gray', alpha=0.5, linestyle='--')
ax.set_extent([lon_min, lon_max, lat_min, lat_max], crs=ccrs.PlateCarree())

# add the background
tiler = cimgt.GoogleTiles(desired_tile_form='RGB', style='satellite')
ax.add_image(tiler, 8)

# plot and show the data
mymap = ax.pcolor(lonsar, latsar, windsar, vmin=0, vmax=20, cmap='RdYlBu_r')
tracks = ax.scatter(lon, lat, c=winds,  vmin=0, vmax=20, cmap='RdYlBu_r',
                    marker='o', edgecolors='black', linewidth=0.1)
cbar = plt.colorbar(mymap)
cbar.set_label('Wind speed [m/s]')
plt.show()







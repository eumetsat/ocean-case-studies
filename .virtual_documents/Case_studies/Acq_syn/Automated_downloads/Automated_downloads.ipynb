


























import datetime                           # a library that allows us to work with dates and times
import eumdac                             # a tool that helps us download via the eumetsat/data-store
import getpass                            # a library to help us enter passwords
import os                                 # a library that allows us access to basic operating system commands
from pathlib import Path                  # a library to help us to construct system paths
import schedule                           # a library to help us to schedule tasks
import shutil                             # a library that allows us access to basic operating system commands like copy
import subprocess                         # a library to help us to run system commands
import sys                                # a library that gives us access to system tools
import time                               # a library that helps us manage script timing
import warnings                           # a library that helps us handle warnings

# turn off any script warnings
warnings.filterwarnings('ignore')





# PIRATA mooring location
lat = 21
lon = -23

# size of the box we want to acquire around the location of interest
spatial_tolerance = 0.25





collectionID = "EO:EUM:DAT:0412"





timeliness = "NR"





days_ago = 5
tformat = '%Y-%m-%dT%H:%M:%S'
nseconds = 10











# load credentials
eumdac_credentials_file = Path(Path.home() / '.eumdac' / 'credentials')

if os.path.exists(eumdac_credentials_file):
    consumer_key, consumer_secret = Path(eumdac_credentials_file).read_text().split(',')
else:
    # creating authentication file
    consumer_key = input('Enter your consumer key: ')
    consumer_secret = getpass.getpass('Enter your consumer secret: ')
    try:
        os.makedirs(os.path.dirname(eumdac_credentials_file), exist_ok=True)
        with open(eumdac_credentials_file, "w") as f:
            f.write(f'{consumer_key},{consumer_secret}')
    except:
        pass
        
token = eumdac.AccessToken((consumer_key, consumer_secret))
print(f"This token '{token}' expires {token.expiration}")





datastore = eumdac.DataStore(token)








# Use collection ID
collection = datastore.get_collection(collectionID)





# make a very small box around our proposed mooring
ROI = [[lon - spatial_tolerance, lat - spatial_tolerance],
       [lon - spatial_tolerance, lat + spatial_tolerance],
       [lon + spatial_tolerance, lat + spatial_tolerance],
       [lon + spatial_tolerance, lat - spatial_tolerance],
       [lon - spatial_tolerance, lat - spatial_tolerance]]

# convert this to a WKT polygon
polygon = 'POLYGON(({}))'.format(','.join(["{} {}".format(*coord) for coord in ROI]))

# make a very small time window around our cruise point time
dtend = datetime.datetime.now()
dtstart = dtend - datetime.timedelta(days=days_ago)
products = collection.search(dtstart=dtstart, dtend=dtend, geo=polygon, timeliness=timeliness)





for product in products:
    print(str(product))
print(f"\n----\nFound {len(products)} products")








def automate_run(token, collectionID, polygon, timeliness, days_ago):
    '''
     A function to download specified products from the EUMETSAT Data Store
    '''
    # instantiate the datastore
    datastore = eumdac.DataStore(token)
    
    # select collection
    collection = datastore.get_collection(collectionID)
    
    # set parameters
    dtend = datetime.datetime.now()
    dtstart = dtend - datetime.timedelta(days=days_ago)
    
    print("----------Downloads starting----------")
    print(f"Start date: {dtstart.strftime(tformat)}\nEnd date: {dtend.strftime(tformat)}")
    
    # search for the specified products
    products = collection.search(dtstart=dtstart, dtend=dtend, geo=polygon, timeliness=timeliness)

    # download the specified products
    for product in products:
        product_zip = os.path.join(os.getcwd(), str(product) + '.zip')
        if os.path.exists(product_zip):
            print(f'Skipping {str(product)} (exists)')
        else:
            with product.open() as fsrc, open(fsrc.name, mode='wb') as fdst:
                print(f'Downloading {fsrc.name}.')
                shutil.copyfileobj(fsrc, fdst)
    
    print("----------Downloads complete----------")





schedule.every(nseconds).seconds.do(automate_run,
                                    token=token,
                                    collectionID=collectionID,
                                    polygon=polygon,
                                    timeliness=timeliness,
                                    days_ago=days_ago)
while 1:
    schedule.run_pending()
    time.sleep(1)





# Clear the job, when completed
schedule.clear()
schedule.cancel_job(automate_run)











python_path = os.path.dirname(sys.executable)
CLI_command_search = f"{python_path}/eumdac search -c {collectionID} -s {dtstart.strftime(tformat)} -e {dtend.strftime(tformat)} --geometry '{polygon}' --timeliness {timeliness}"
print(f"Our CLI search command is\n------\n{CLI_command_search}")





process = subprocess.Popen(CLI_command_search, shell=True, stdout=subprocess.PIPE, stderr=subprocess.PIPE)
print(process.communicate()[0].decode('utf-8'))





CLI_command_download = f"{python_path}/eumdac download -y -c {collectionID} -s {dtstart.strftime(tformat)} -e {dtend.strftime(tformat)} --geometry '{polygon}' --timeliness {timeliness} -o {os.getcwd()}"
print(f"Our CLI download command is\n------\n{CLI_command_download}")











print(f"0 9 * * * {CLI_command_download}")








date_cmd_start = f"$(date +\%Y-\%m-\%d -d '{days_ago} day ago')"
date_cmd_end = "$(date +\%Y-\%m-\%d)"
CLI_command_download = f"{python_path}/eumdac download -y -c {collectionID} -s {date_cmd_start} -e {date_cmd_end} --geometry '{polygon}' --timeliness={timeliness} -o {os.getcwd()} >> {os.path.join(os.getcwd(), 'cronlog.log')} 2>&1"
print(f"Our 'cron-ready' Linux CLI download command is\n------\n0 9 * * * {CLI_command_download}")





date_cmd_start = f"$(date -v-{days_ago}d +\%Y-\%m-\%d)"
date_cmd_end = "$(date +\%Y-\%m-\%d)"
CLI_command_download = f"{python_path}/eumdac download -y -c {collectionID} -s {date_cmd_start} -e {date_cmd_end} --geometry '{polygon}' --timeliness={timeliness}  -o {os.getcwd()} >> {os.path.join(os.getcwd(), 'cronlog.log')}"
print(f"Our 'cron-ready' OSx CLI download command is\n------\n0 9 * * * {CLI_command_download}")














date_cmd_start = f"(Get-Date).AddDays(-{days_ago}).ToString('yyyy-MM-dd')"
date_cmd_end = "(Get-Date).ToString('yyyy-MM-dd')"
CLI_command_download = f'{python_path}/eumdac download -y -c {collectionID} -s {date_cmd_start}\n-e {date_cmd_end} --geometry "{polygon}" --timeliness {timeliness} -o {os.getcwd()}'
print(CLI_command_download)




























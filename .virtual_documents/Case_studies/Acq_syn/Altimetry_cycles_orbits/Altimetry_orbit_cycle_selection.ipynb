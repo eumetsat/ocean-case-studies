


























import cartopy                            # a package that helps with mapping and projection management
import datetime                           # a library that allows us to work with dates and times
import eumdac                             # a tool that helps us download via the eumetsat/data-store
import getpass                            # a library to help us enter passwords
import glob                               # a library that aids in searching for files
import matplotlib.pyplot as plt           # a library that support plotting
import numpy as np                        # a library that lets us work with arrays; we import this with a new name "np"
import os                                 # a library that allows us access to basic operating system commands
from pathlib import Path                  # a library to help us to construct system paths
import shutil                             # a library that allows us access to basic operating system commands like copy
import warnings                           # a library that helps us handle warnings
import xml.etree.ElementTree as ET        # a library that helps us parse XML files

# turn off any script warnings
warnings.filterwarnings('ignore')





# set the default plot font size
plt.rcParams.update({'font.size': 18})





# Create a download directory for our altimetry products
download_dir_cycle = os.path.join(os.getcwd(), "products_cycle")
download_dir_relorbit = os.path.join(os.getcwd(), "products_relorbit")
os.makedirs(download_dir_cycle, exist_ok=True)
os.makedirs(download_dir_relorbit, exist_ok=True)





download_data = True





S3_collectionID = "EO:EUM:DAT:0415"
S6_collectionID = "EO:EUM:DAT:0855"





timeliness = "NT"





# S3 parameters
S3_satellite = "Sentinel-3B"
S3_cycle = 80
S3_relorbit = 308
S3_orbitdir = "DESCENDING"

# S6 parameters
S6_cycle = 118
S6_relorbit = 11
S6_orbitdir = "DESCENDING"





components = ["xfdumanifest.xml"]











# load credentials
eumdac_credentials_file = Path(Path.home() / '.eumdac' / 'credentials')

if os.path.exists(eumdac_credentials_file):
    consumer_key, consumer_secret = Path(eumdac_credentials_file).read_text().split(',')
else:
    # creating authentication file
    consumer_key = input('Enter your consumer key: ')
    consumer_secret = getpass.getpass('Enter your consumer secret: ')
    try:
        os.makedirs(os.path.dirname(eumdac_credentials_file), exist_ok=True)
        with open(eumdac_credentials_file, "w") as f:
            f.write(f'{consumer_key},{consumer_secret}')
    except:
        pass
        
token = eumdac.AccessToken((consumer_key, consumer_secret))
print(f"This token '{token}' expires {token.expiration}")





datastore = eumdac.DataStore(token)








# Use collection ID
S3_collection = datastore.get_collection(S3_collectionID)
S6_collection = datastore.get_collection(S6_collectionID)





S3_collection.search_options # if you run S6.collections, you will find that it is the same











S3_products = S3_collection.search(cycle=S3_cycle, sat=S3_satellite, timeliness=timeliness)





for product, index in zip(S3_products, range(len(S3_products))):
    if index == 0:
        # this calculates and prints the initial date
        init_datetime = datetime.datetime.strptime(str(product).split("_")[8], "%Y%m%dT%H%M%S")
        print(f'---{init_datetime}---')
    if index == len(S3_products) - 1:
        # this calculates and prints the final date
        final_datetime = datetime.datetime.strptime(str(product).split("_")[7], "%Y%m%dT%H%M%S")
        print(f'---{final_datetime} ({init_datetime - final_datetime}) ago ---')
    if np.mod(index, 25) == 0:
        print(f"{str(index + 1).zfill(3)}/{str(len(S3_products)).zfill(3)}: {product}")





S6_products = S6_collection.search(cycle=S6_cycle, timeliness=timeliness)
for product, index in zip(S6_products, range(len(S6_products))):
    if index == 0:
        init_datetime = datetime.datetime.strptime(str(product).split("_")[11], "%Y%m%dT%H%M%S")
        print(f'---{init_datetime}---')
    if index == len(S6_products) - 1:
        final_datetime = datetime.datetime.strptime(str(product).split("_")[10], "%Y%m%dT%H%M%S")
        print(f'---{final_datetime} ({init_datetime - final_datetime}) ago ---')
    if np.mod(index, 25) == 0:
        print(f"{str(index + 1).zfill(3)}/{str(len(S6_products)).zfill(3)}: {product}")





if download_data:
    downloaded_components = []
    
    for product, count in zip(S6_products, range(len(S6_products))):
    
        product_download_directory = os.path.join(download_dir_cycle, str(product))
        os.makedirs(product_download_directory, exist_ok=True)
    
        # download the required product components
        for entry in product.entries:
            res = [ele for ele in components if(ele == os.path.basename(entry))]
            if res:
                with product.open(entry=entry) as fsrc, open(os.path.join(product_download_directory, fsrc.name),
                                                            mode='wb') as fdst:
                    downloaded_components.append(os.path.join(product_download_directory, fsrc.name))
                    print(f'Downloading ({count+1}/{len(S6_products)}) {product}: {fsrc.name}.')
                    shutil.copyfileobj(fsrc, fdst)
else:
    downloaded_components = sorted(glob.glob(os.path.join(download_dir_cycle, "*", components[0])))








polygons = []
for downloaded_component in downloaded_components:
    tree = ET.parse(downloaded_component)
    root = tree.getroot()
    polygon =  root.findall('.//gml:posList', {'gml':'http://www.opengis.net/gml'})
    polygons.append((polygon[0].text))





fig, m = plt.subplots(1, 1, figsize=(20, 20), dpi=300, subplot_kw={"projection": cartopy.crs.PlateCarree()})

for polygon in polygons:
    coords = np.asarray(polygon.split(' ')).astype('float')
    halfway = round(len(coords) / 4) * 2
    p, = m.plot(coords[1:halfway:2], coords[0:halfway:2], color='b', 
                linewidth=1, transform=cartopy.crs.Geodetic(), zorder=1)

# add some map embellishments
m.add_feature(cartopy.feature.NaturalEarthFeature('physical', 'land', '50m', edgecolor='k', facecolor='#546d51', linewidth=0.5), zorder=8)
m.set_global()

g1 = m.gridlines(draw_labels = True, linestyle='--', zorder=10)
g1.top_labels = g1.right_labels = False
g1.xlabel_style = g1.ylabel_style = {'color': 'gray'}
plt.title(f'Sentinel-6; cycle {S6_cycle}')
plt.show()














S3_products = S3_collection.search(relorbit=S3_relorbit, orbitdir=S3_orbitdir, timeliness=timeliness)
print(len(S3_products))





S6_products = S6_collection.search(relorbit=S6_relorbit, timeliness=timeliness)

# get the descending passes (even numbered relative passes)
S6_products_prune = []
for product in S6_products:
    rel_pass = int(str(product).split('_')[15])
    if S6_orbitdir == "ASCENDING" and (rel_pass % 2) == 1:
        S6_products_prune.append(product)
    elif S6_orbitdir == "DESCENDING" and (rel_pass % 2) == 0:
        S6_products_prune.append(product)

S6_products = S6_products_prune
print(len(S6_products))





if download_data:
    downloaded_components = []
    
    for product, count in zip(S6_products, range(len(S6_products))):
    
        product_download_directory = os.path.join(download_dir_relorbit, str(product))
        os.makedirs(product_download_directory, exist_ok=True)
    
        # download the required product components
        for entry in product.entries:
            res = [ele for ele in components if(ele == os.path.basename(entry))]
            if res:
                with product.open(entry=entry) as fsrc, open(os.path.join(product_download_directory, fsrc.name),
                                                            mode='wb') as fdst:
                    downloaded_components.append(os.path.join(product_download_directory, fsrc.name))
                    print(f'Downloading ({count+1}/{len(S6_products)}) {product}: {fsrc.name}.')
                    shutil.copyfileobj(fsrc, fdst)
else:
    downloaded_components = sorted(glob.glob(os.path.join(download_dir_relorbit, "*", components[0])))








polygons = []
for downloaded_component in downloaded_components:
    tree = ET.parse(downloaded_component)
    root = tree.getroot()
    polygon =  root.findall('.//gml:posList', {'gml':'http://www.opengis.net/gml'})
    polygons.append((polygon[0].text))





fig, m = plt.subplots(1, 1, figsize=(20, 20), dpi=300, subplot_kw={"projection": cartopy.crs.PlateCarree()})

for polygon, count in zip(polygons, range(len(polygons))):
    coords = np.asarray(polygon.split(' ')).astype('float')
    halfway = round(len(coords) / 4 - 1) * 2
    p, = m.plot(coords[1:halfway:2], coords[0:halfway:2], c=plt.cm.viridis(count/len(polygons)), 
                transform=cartopy.crs.Geodetic(), zorder=10, linewidth=(len(polygons)-count)/2)

# add some map embellishments
m.add_feature(cartopy.feature.NaturalEarthFeature('physical', 'land', '50m', edgecolor='k', facecolor='#546d51', linewidth=0.5), zorder=8)
m.set_global()
g1 = m.gridlines(draw_labels = True, linestyle='--', zorder=10)
g1.top_labels = g1.right_labels = False
g1.xlabel_style = g1.ylabel_style = {'color': 'gray'}
plt.title(f'Sentinel-6; relative orbit {S6_relorbit} ({S6_orbitdir})')
plt.show()






















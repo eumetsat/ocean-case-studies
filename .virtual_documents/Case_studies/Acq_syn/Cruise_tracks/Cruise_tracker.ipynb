


























import cartopy                            # a package that helps with mapping and projection management
import configparser                       # a package that lets us ingest configuration files
import datetime                           # a library that allows us to work with dates and times
import eumartools                         # a library package for helping to work with Sentinel-3 data
import eumdac                             # a tool that helps us download via the eumetsat/data-store
import getpass                            # a library to help us enter passwords
import matplotlib.pyplot as plt           # a library that support plotting
import matplotlib.dates as mdates         # a library that supports better date plotting
import numpy as np                        # a library that lets us work with arrays; we import this with a new name "np"
import os                                 # a library that allows us access to basic operating system commands
import pandas as pd                       # a library the support times series management
from pathlib import Path                  # a library to help us to construct system paths
import shutil                             # a library that allows us access to basic operating system commands like copy
import warnings                           # a library that helps us handle warnings
import xarray as xr                       # a library that supports the use of multi-dimensional arrays in Python
import zipfile                            # a library that allows us to unzip zip-files.

# turn off any script warnings
warnings.filterwarnings('ignore')





# set plot fontsize
plt.rcParams.update({'font.size': 18})





config_file = "config.ini"
config = configparser.ConfigParser()
config.read(config_file);





print({section: dict(config[section]) for section in config.sections()})





tvar = config["cruise_processing"]["time_variable"]
latvar = config["cruise_processing"]["latitude_variable"]
lonvar = config["cruise_processing"]["longitude_variable"]
spatial_tolerance = float(config["data_selection"]["spatial_tolerance"])
temporal_tolerance = float(config["data_selection"]["temporal_tolerance"])

if config["data_selection"]["download_data"] == "True":
    download_data = True
else:
    download_data = False

components = config["data_selection"]["components"].split(',')
flags = config["data_flagging"]["flags"].split(',')





# Create a download directory for our products
download_dir = os.path.join(os.getcwd(), config["data_selection"]["product_dir"])
os.makedirs(download_dir, exist_ok=True)











cruise_track_file = config["cruise_processing"]["cruise_file"]





df = pd.read_csv(cruise_track_file, header=int(config["cruise_processing"]["header_lines"]), delimiter=config["cruise_processing"]["delimiter"])





df_subset = df.copy()
if int(config["cruise_processing"]["max_index"]) != -1:
    df_subset = df_subset[0:int(config["cruise_processing"]["max_index"])]
if int(config["cruise_processing"]["min_index"]) != -1:
    df_subset = df_subset[int(config["cruise_processing"]["min_index"]):]
if int(config["cruise_processing"]["stride"]) != -1:
    df_subset = df_subset[0::int(config["cruise_processing"]["stride"])]    





df_subset











# load credentials
eumdac_credentials_file = Path(Path.home() / '.eumdac' / 'credentials')

if os.path.exists(eumdac_credentials_file):
    consumer_key, consumer_secret = Path(eumdac_credentials_file).read_text().split(',')
else:
    # creating authentication file
    consumer_key = input('Enter your consumer key: ')
    consumer_secret = getpass.getpass('Enter your consumer secret: ')
    try:
        os.makedirs(os.path.dirname(eumdac_credentials_file), exist_ok=True)
        with open(eumdac_credentials_file, "w") as f:
            f.write(f'{consumer_key},{consumer_secret}')
    except:
        pass
        
token = eumdac.AccessToken((consumer_key, consumer_secret))
print(f"This token '{token}' expires {token.expiration}")





datastore = eumdac.DataStore(token)








# Use collection ID
collection = datastore.get_collection(config["data_selection"]["collectionID"])





product_list = []
product_index = []
product_times = []
product_lats = []
product_lons = []





for index, row in df_subset.iterrows():
    print(f"[{str(index).zfill(5)}] Checking available products for:\t{row[tvar]}\t\tLat: {row[latvar]},\t\tLon: {row[lonvar]}")

    # make a very small box around our cruise point
    ROI = [[row[lonvar] - spatial_tolerance, row[latvar] - spatial_tolerance],
           [row[lonvar] - spatial_tolerance, row[latvar] + spatial_tolerance],
           [row[lonvar] + spatial_tolerance, row[latvar] + spatial_tolerance],
           [row[lonvar] + spatial_tolerance, row[latvar] - spatial_tolerance],
           [row[lonvar] - spatial_tolerance, row[latvar] - spatial_tolerance]]

    # convert this to a WKT polygon
    polygon = 'POLYGON(({}))'.format(','.join(["{} {}".format(*coord) for coord in ROI]))

    # make a very small time window around our cruise point time
    dtstart = datetime.datetime.strptime(row[tvar], config["cruise_processing"]["tformat"]) - datetime.timedelta(seconds=temporal_tolerance)
    dtend = datetime.datetime.strptime(row[tvar], config["cruise_processing"]["tformat"]) + datetime.timedelta(seconds=temporal_tolerance)

    # find the matching products
    products = collection.search(dtstart=dtstart, dtend=dtend, geo=polygon, timeliness=config["data_selection"]["timeliness"])
    for product in products:
        print(f"        Found: {product}")
        product_list.append(product)
        product_index.append(index)
        product_times.append(row[tvar])
        product_lats.append(row[latvar])
        product_lons.append(row[lonvar])





print(f"Identified {len(np.unique(product_list))} unique products for download")





output_file = os.path.join(download_dir, config["cruise_processing"]["cruise_file"].split('.')[0] + "_output.csv")

if os.path.exists(output_file):
    os.remove(output_file)

with open(output_file, 'a') as f:
    f.write("index,time,latitude,longitude,product\n")
    for index, product_time, product_lat, product_lon, product in zip(product_index, product_times, product_lats, product_lons, product_list):
        f.write(f'{index},{product_time},{product_lat},{product_lon},{product}\n')





shutil.copyfile(cruise_track_file, os.path.join(download_dir, os.path.basename(cruise_track_file)))
shutil.copyfile(config_file, os.path.join(download_dir, os.path.basename(config_file)));








# set up our figure
fig, m = plt.subplots(1, 1, figsize=(10, 10), dpi=300, subplot_kw={"projection": cartopy.crs.PlateCarree()})

# plot cruise track
p1, = m.plot(df["Longitude"], df["Latitude"], linestyle='--', zorder=1, color='0.5', transform = cartopy.crs.PlateCarree())
p2, = m.plot(df_subset["Longitude"], df_subset["Latitude"], zorder=2, color='g', transform = cartopy.crs.PlateCarree())
p3 = m.scatter(df_subset["Longitude"][product_index], df_subset["Latitude"][product_index], zorder=2, transform = cartopy.crs.PlateCarree(), color='r', edgecolor='k')

# add some map embellishments
m.add_feature(cartopy.feature.NaturalEarthFeature('physical', 'land', '10m', edgecolor='k', facecolor='#546d51', linewidth=0.5), zorder=8)
g1 = m.gridlines(draw_labels = True, linestyle='--', zorder=10)
g1.top_labels = g1.right_labels = False
g1.xlabel_style = g1.ylabel_style = {'color': 'gray'}

plt.show()











if download_data:
    for product, count in zip(np.unique(product_list), range(len(np.unique(product_list)))):
    
        if "all" in components:
    
            # download the required products
            with product.open() as fsrc, open(os.path.join(download_dir, fsrc.name), mode='wb') as fdst:
                print(f'Downloading ({count+1}/{len(np.unique(product_list))}) {fsrc.name}.')
                shutil.copyfileobj(fsrc, fdst)
        
            # Unzip the required products
            with zipfile.ZipFile(fdst.name, 'r') as zip_ref:
                for file in zip_ref.namelist():
                    if file.startswith(str(product)):
                        zip_ref.extract(file, download_dir)
        
            # tidy up the required products
            os.remove(fdst.name)
    
        else:
            
            product_download_directory = os.path.join(download_dir, str(product))
            os.makedirs(product_download_directory, exist_ok=True)
    
            # download the required product components
            for entry in product.entries:
                res = [ele for ele in components if(ele == os.path.basename(entry))]
                if res:
                    with product.open(entry=entry) as fsrc, open(os.path.join(product_download_directory, fsrc.name),
                                                                mode='wb') as fdst:
                        print(f'Downloading ({count+1}/{len(np.unique(product_list))}) {product}: {fsrc.name}.')
                        shutil.copyfileobj(fsrc, fdst)








product_times = [datetime.datetime.strptime(df_time, config["cruise_processing"]["tformat"]) for df_time in df_subset[tvar][product_index]]
product_chls = []
previous_product = None

for product, index in zip(product_list, product_index):

    # keep the product open if we read from it again
    if product != previous_product:
        try:
            da.close()
        except:
            pass
        flag_mask = eumartools.flag_mask(os.path.join(download_dir, str(product),
                                         config["data_flagging"]["flag_file"]),
                                         config["data_flagging"]["flag_var"], flags).astype(float)

        flag_mask[flag_mask == 1.0] = np.nan
        flag_mask[flag_mask == 0.0] = 1.0
        da = xr.open_mfdataset(os.path.join(download_dir, str(product), "*.nc"))

    pt = (da.longitude - df["Longitude"][index])**2 + (da.latitude - df["Latitude"][index])**2   
    ii, jj = np.where(pt == np.nanmin(pt))

    if np.isnan(flag_mask[ii[0],jj[0]]):
        print(f"[{str(index).zfill(5)}] flagged:\t{product}")
        product_chls.append(np.nan)
    else:
        print(f"[{str(index).zfill(5)}] reading:\t{product}")
        product_chls.append(da.CHL_NN[ii[0], jj[0]].values)

        # preview image
        if config["data_flagging"]["image_preview"] == "True":
            try:
                i1 = ii[0] - int(config["data_flagging"]["preview_size"])
                i2 = ii[0] + int(config["data_flagging"]["preview_size"]) + 1
                j1 = jj[0] - int(config["data_flagging"]["preview_size"])
                j2 = jj[0] + int(config["data_flagging"]["preview_size"]) + 1
                extract = da.CHL_NN[i1:i2, j1:j2] * flag_mask[i1:i2, j1:j2]
                extract.plot.pcolormesh(vmin=-2, vmax=2, cmap="viridis", size=4)
            except:
                pass

    previous_product = product








# set up our figure
pad = 0.5
fig, m = plt.subplots(1, 1, figsize=(10, 10), dpi=300, subplot_kw={"projection": cartopy.crs.PlateCarree()})

# plot cruise track
p1, = m.plot(df["Longitude"], df["Latitude"], linestyle='--', zorder=1, color='0.5', transform = cartopy.crs.PlateCarree())
p2, = m.plot(df_subset["Longitude"], df_subset["Latitude"], zorder=2, color='g', transform = cartopy.crs.PlateCarree())
p3 = m.scatter(df_subset["Longitude"][product_index], df_subset["Latitude"][product_index], zorder=2, transform = cartopy.crs.PlateCarree(),
               c=np.array(product_chls), edgecolor='k', vmin=-1, vmax=2)

m.set_extent([min(df_subset["Longitude"]) - pad, max(df_subset["Longitude"]) + pad, min(df_subset["Latitude"]) - pad, max(df_subset["Latitude"]) + pad])

# add some map embellishments
m.add_feature(cartopy.feature.NaturalEarthFeature('physical', 'land', '10m', edgecolor='k', facecolor='#546d51', linewidth=0.5), zorder=8)
g1 = m.gridlines(draw_labels = True, linestyle='--', zorder=10)
g1.top_labels = g1.right_labels = False
g1.xlabel_style = g1.ylabel_style = {'color': 'gray'}

# add a colour bar
cbar = fig.colorbar(p3, ax=m, location='bottom', pad=0.05)
ticks = [-1, 0, 1, 2]
cbar.set_ticks(ticks)
cbar.set_ticklabels([10**tick for tick in ticks])
cbar.set_label('Chlorophyll concentration (CHL NN) [mg.m$^{-3}$]')

plt.show()





fig, ax = plt.subplots(1, 1, figsize=(20,8), dpi=300)
p1 = plt.scatter(product_times, np.array(product_chls), c=np.array(product_chls), edgecolor='k',
                 vmin=-1, vmax=2, s=200)

ax.xaxis.set_major_formatter(mdates.DateFormatter('%Y-%m-%d %H:%M'))
plt.xticks(rotation=90, fontsize=16)
plt.yticks(ticks, [10**tick for tick in ticks])
plt.ylabel('Chlorophyll concentration (CHL NN) [mg.m$^{-3}$]');
















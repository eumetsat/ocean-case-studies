


























import cartopy                          # a library that support mapping
import xarray as xr                     # a library that supports the use of multi-dimensional arrays in Python
import glob                             # a library that aids in searching for files
import json                             # a library that helps us make JSON format files
import numpy as np                      # a library that lets us work with arrays; we import this with a new name "np"
import os                               # a library that allows us access to basic operating system commands
import shutil                           # a library that allows us access to basic operating system commands like copy
import zipfile                          # a library that allows us to unzip zip-files.
import matplotlib.pyplot as plt         # a library that support plotting
import matplotlib.ticker as mticker     # a library that extends plotting support
from scipy.ndimage import median_filter # a library that supports image filtering
import eumdac                           # a tool that helps us download via the eumetsat/data-store
import eumartools                       # a EUMETSAT library that support working with Sentinel-3 products
import warnings                         # a library that helps us handle warnings
from pathlib import Path                # a library to help us to construct system paths
import getpass                          # a library to help us enter passwords

warnings.filterwarnings('ignore')





# Create a download directory for our OLCI products
download_dir = os.path.join(os.getcwd(), "products")
os.makedirs(download_dir, exist_ok=True)





# This switch will determine if we download data or not
download_data = True

# This will set the extents of our image plots
extents = {}
extents["image0"] = [-10.0, 37.5, 69.5, 78.5]
extents["image1"] = [17.00, 35.0, 70.5, 75.5]

# This will set the upper and lower limits of our RGB channels
truncations = {}
truncations["image0"] = [(-2.93, -2.55), (-2.86, -2.55), (-2.88, -2.25)]
truncations["image1"] = [(-3.00, -1.00), (-3.20, -1.00), (-3.40, -0.80)]

# This parameter will sub-sample our OLCI products, which will speed up reading and plotting our data.
# The default value is 1, for full resolution, but you may want to increase this as high as 5 if you have memory
# issues. It is currently set to 5 to reduce the size of the rendered notebook.
grid_reduce = 5

# This list tells us which reflectance bands we will read in
radiometry_bands = [1, 2, 3, 4, 5, 6, 7, 8, 9, 10]

# This sets our plot default font size
plt.rcParams.update({'font.size': 20})

# This sets our figure dpi: default is 100 to reduce the size of the rendered notebook
dpi = 100








def embellish_plot(m):
    """Quick function to embellish plots with gridlines and labels

    Args:
        m (axis): the axis to plot into
    Returns:
        None
    """
    # Embellish with gridlines
    m.add_feature(cartopy.feature.NaturalEarthFeature('physical', 'land', '10m', edgecolor='k', facecolor='#546d51', linewidth=0.5), zorder=500)
    g1 = m.gridlines(draw_labels = True, linestyle='--', linewidth=0.5, zorder=1000)
    g1.top_labels = g1.right_labels = False
    g1.xlabel_style = g1.ylabel_style = {'color': '0.5'}





def tristim(channel_dict, level=2):
    """Quick function to calculate tristumulus RGB from OLCI reflectance or radiometry channels

    Args:
        channel_dict (dict)      : dictionary of stored radiance bands and values
        level                    : satellite level (1 or 2)
    Returns:
        red, green, blue (array) : the red, green and blue channels
    """
    if level == 1:
        red =    np.log(1.0 + 0.01 * channel_dict["Oa01_radiance"] + 0.09 * channel_dict["Oa02_radiance"] 
                            + 0.35 * channel_dict["Oa03_radiance"] + 0.04 * channel_dict["Oa04_radiance"] 
                            + 0.01 * channel_dict["Oa05_radiance"] + 0.59 * channel_dict["Oa06_radiance"] 
                            + 0.85 * channel_dict["Oa07_radiance"] + 0.12 * channel_dict["Oa08_radiance"] 
                            + 0.07 * channel_dict["Oa09_radiance"] + 0.04 * channel_dict["Oa10_radiance"])
        green =  np.log(1.0 + 0.26 * channel_dict["Oa03_radiance"] + 0.21 * channel_dict["Oa04_radiance"] 
                            + 0.50 * channel_dict["Oa05_radiance"] + 1.00 * channel_dict["Oa06_radiance"] 
                            + 0.38 * channel_dict["Oa07_radiance"] + 0.04 * channel_dict["Oa08_radiance"] 
                            + 0.03 * channel_dict["Oa09_radiance"] + 0.02 * channel_dict["Oa10_radiance"])
        blue =   np.log(1.0 + 0.07 * channel_dict["Oa01_radiance"] + 0.28 * channel_dict["Oa02_radiance"] 
                            + 1.77 * channel_dict["Oa03_radiance"] + 0.47 * channel_dict["Oa04_radiance"] 
                            + 0.16 * channel_dict["Oa05_radiance"])
    elif level == 2:
        red =   np.log(0.05 + 0.01 * channel_dict['Oa01_reflectance'] + 0.09 * channel_dict['Oa02_reflectance'] 
                            + 0.35 * channel_dict['Oa03_reflectance'] + 0.04 * channel_dict['Oa04_reflectance']
                            + 0.01 * channel_dict['Oa05_reflectance'] + 0.59 * channel_dict['Oa06_reflectance']
                            + 0.85 * channel_dict['Oa07_reflectance'] + 0.12 * channel_dict['Oa08_reflectance']
                            + 0.07 * channel_dict['Oa09_reflectance'] + 0.04 * channel_dict['Oa10_reflectance'])
        green = np.log(0.05 + 0.26 * channel_dict['Oa03_reflectance'] + 0.21 * channel_dict['Oa04_reflectance'] 
                            + 0.50 * channel_dict['Oa05_reflectance'] + 1.00 * channel_dict['Oa06_reflectance']
                            + 0.38 * channel_dict['Oa07_reflectance'] + 0.04 * channel_dict['Oa08_reflectance']
                            + 0.03 * channel_dict['Oa09_reflectance'] + 0.02 * channel_dict['Oa10_reflectance'])
        blue =  np.log(0.05 + 0.07 * channel_dict['Oa01_reflectance'] + 0.28 * channel_dict['Oa02_reflectance']
                            + 1.77 * channel_dict['Oa03_reflectance'] + 0.47 * channel_dict['Oa04_reflectance']
                            + 0.16 * channel_dict['Oa05_reflectance'])
    return red, green, blue   














# set collection ID for OLCI L2 WFR
collectionID = 'EO:EUM:DAT:0407'





# define required products
product_list = [
'S3A_OL_2_WFR____20220531T110022_20220531T110322_20220601T235144_0179_086_037_1620_MAR_O_NT_003.SEN3',
'S3B_OL_2_WFR____20220713T100611_20220713T100911_20220714T231816_0179_068_122_1620_MAR_O_NT_003.SEN3'
]





# load credentials
eumdac_credentials_file = Path(Path.home() / '.eumdac' / 'credentials')

if os.path.exists(eumdac_credentials_file):
    consumer_key, consumer_secret = Path(eumdac_credentials_file).read_text().split(',')
else:
    # creating authentication file
    consumer_key = input('Enter your consumer key: ')
    consumer_secret = getpass.getpass('Enter your consumer secret: ')
    try:
        os.makedirs(os.path.dirname(eumdac_credentials_file), exist_ok=True)
        with open(eumdac_credentials_file, "w") as f:
            f.write(f'{consumer_key},{consumer_secret}')
    except:
        pass
        
token = eumdac.AccessToken((consumer_key, consumer_secret))
print(f"This token '{token}' expires {token.expiration}")





datastore = eumdac.DataStore(token)





# Use collection ID
selected_collection = datastore.get_collection(collectionID)
print(selected_collection.title)





if download_data:    
    for product_id in product_list:
        print(f"Retrieving: {product_id} from {collectionID}")

        # find the required products
        selected_product = datastore.get_product(product_id=product_id, collection_id=collectionID)

        # download the required products
        with selected_product.open() as fsrc, open(os.path.join(download_dir, fsrc.name), mode='wb') as fdst:
            print(f'Downloading {fsrc.name}.')
            shutil.copyfileobj(fsrc, fdst)
            print(f'Download of product {fsrc.name} finished.')

        # Unzip the required products
        with zipfile.ZipFile(fdst.name, 'r') as zip_ref:
            for file in zip_ref.namelist():
                if file.startswith(str(selected_product)):
                    zip_ref.extract(file, download_dir)
            print(f'Unzipping of product {fdst.name} finished.')

        # tidy up the required products
        os.remove(fdst.name)








# selecting SAFE directory
SAFE_directories = glob.glob(os.path.join(download_dir, "*.SEN3"))





band_dict = {}





# read chlorophyll, geo_coordinate and quality bands
for SAFE_directory, count in zip(SAFE_directories, range(len(SAFE_directories))):
    print(os.path.basename(SAFE_directory))
    band_dict[f'image{count}'] = {}
    
    geo_vars = xr.open_dataset(os.path.join(SAFE_directory,'geo_coordinates.nc'))
    band_dict[f'image{count}']["lon"] = geo_vars.longitude.data[::grid_reduce,::grid_reduce]
    band_dict[f'image{count}']["lat"] = geo_vars.latitude.data[::grid_reduce,::grid_reduce]
    geo_vars.close()

    # reading masks: recommended flags
    flag_file = os.path.join(SAFE_directory,'wqsf.nc')
    flag_mask = eumartools.flag_mask(flag_file, 'WQSF', ['LAND', 'CLOUD', 'CLOUD_AMBIGUOUS', 'CLOUD_MARGIN', 
                                                    'INVALID', 'COSMETIC', 'SATURATED', 'SUSPECT',
                                                    'HISOLZEN', 'HIGHGLINT', 'SNOW_ICE', 'AC_FAIL',
                                                    'WHITECAPS', 'ADJAC', 'RWNEG_O2', 'RWNEG_O3',
                                                    'RWNEG_O4', 'RWNEG_O5', 'RWNEG_O6', 'RWNEG_O7', 'RWNEG_O8'])

    flag_mask = flag_mask.astype(float)[::grid_reduce, ::grid_reduce]
    flag_mask[flag_mask != 0.0] = np.nan
    flag_mask[flag_mask == 0.0] = 1.0
    
    CHL_mask = eumartools.flag_mask(flag_file, 'WQSF', ['OC4ME_FAIL']) 
    CHL_mask = CHL_mask.astype(float)[::grid_reduce, ::grid_reduce]
    CHL_mask[CHL_mask != 0.0] = np.nan
    CHL_mask[CHL_mask == 0.0] = 1.0    

    band_dict[f'image{count}']["flag_mask"] = flag_mask
    
    chl_vars = xr.open_dataset(os.path.join(SAFE_directory, 'chl_oc4me.nc'))
    CHL = chl_vars.CHL_OC4ME.data[::grid_reduce,::grid_reduce]*flag_mask*CHL_mask
    band_dict[f'image{count}']["CHL"] = CHL
    chl_vars.close()





# read radiometry bands
for SAFE_directory, count in zip(SAFE_directories, range(len(SAFE_directories))):
    print(os.path.basename(SAFE_directory))
    band_vars = xr.open_mfdataset(glob.glob(os.path.join(SAFE_directory,'Oa*.nc')))
    for band_var in band_vars:
        band_num = int(band_var.split('_')[0][2:])
        if band_num in radiometry_bands and "_err" not in band_var:
            print(f"Reading:  {band_var}")
            band = band_vars[band_var].data[::grid_reduce,::grid_reduce] * band_dict[f'image{count}']["flag_mask"]
            #band[band <= 0] = np.nan
            band = np.ma.masked_invalid(band)
            band_dict[f'image{count}'][band_var] = band
    band_vars.close()








for image in band_dict:

    # Tristim colour bands;
    red, green, blue = tristim(band_dict[image])
       
    # Truncate channels
    truncation = truncations[image]
    red[red<truncation[0][0]] = truncation[0][0] ; red[red>truncation[0][1]] = truncation[0][1]
    green[green<truncation[1][0]] = truncation[1][0] ; green[green>truncation[1][1]] = truncation[1][1]
    blue[blue<truncation[2][0]] = truncation[2][0] ; blue[blue>truncation[2][1]] = truncation[2][1]
    
    # Construct, normalise and histogram image
    band_dict[image]["rgb"] = np.dstack((red, green, blue))
    band_dict[image]["rgb"] = eumartools.normalise_image(band_dict[image]["rgb"], unhitch=True)
    band_dict[image]["rgb"] = eumartools.histogram_image(band_dict[image]["rgb"], nbins=512)

    # very light despeckling
    for channel in [0,1,2]:
        band_dict[image]["rgb"][:, :, channel] = median_filter(band_dict[image]["rgb"][:, :, channel], size=3)





for image, count, filename, linewidth in zip(band_dict, range(len(band_dict)), ["Bloom_RGB", "Cocco_RGB"], [1.5, 2.5]):

    fig, m = plt.subplots(1, 1, figsize=(20, 20), dpi=dpi, subplot_kw={"projection": cartopy.crs.Mercator()})

    # make the colour map
    colorArray = np.array(band_dict[image]["rgb"])
    colorTuple = colorArray.reshape((colorArray.shape[0] * colorArray.shape[1]), 3)
    colorTuple = np.insert(colorTuple, 3, 1.0, axis=1)

    # make the map
    c = m.pcolormesh(band_dict[image]["lon"], band_dict[image]["lat"], band_dict[image]["lon"], 
                     color=colorTuple, transform=cartopy.crs.PlateCarree(), zorder=3, alpha=1.0, linewidth=linewidth)

    # Embellish with gridlines
    m.set_extent(extents[image], crs=cartopy.crs.PlateCarree())
    embellish_plot(m)

    # save and plot
    plt.savefig(filename, bbox_inches='tight')
    plt.show()











band_dict["image0"]["POC"] = np.log10(203.2*(band_dict["image0"]['Oa03_reflectance'].data
                                            / band_dict["image0"]['Oa06_reflectance'].data)**-1.304)





for plot_var, label, ticks, cmap in zip(["CHL", "POC"],
                                  ["Chlorophyll [$mg\ m^{-3}$]", "POC [$mg\ m^{-3}$]"],
                                  [[0.1, 0.3, 1, 3, 10], [10, 100, 1000]], ["viridis", "magma"]):
    
    fig, m = plt.subplots(1, 1, figsize=(20, 20), dpi=dpi, subplot_kw={"projection": cartopy.crs.Mercator()})
    
    cmap = plt.get_cmap(cmap)
    cmap.set_bad(color = '0.8', alpha = 1.0)
    
    # make the map
    c = m.pcolormesh(band_dict["image0"]["lon"], band_dict["image0"]["lat"], band_dict["image0"][plot_var],
                     cmap=cmap, transform=cartopy.crs.PlateCarree(), edgecolor="face", alpha=1.0, zorder=3,
                     vmin=min(np.log10(ticks)), vmax=max(np.log10(ticks)))

    # Embellish with gridlines
    m.set_extent(extents["image0"], crs=cartopy.crs.PlateCarree())
    embellish_plot(m)
    
    # colorbar
    cb_ax = fig.add_axes([m.get_position().x0+0.015, 0.265, m.get_position().width/3.5, 0.01])
    cbar = fig.colorbar(c, cax=cb_ax, orientation="horizontal", label=label)
    cbar.set_ticks(np.log10(ticks))
    cbar.set_ticklabels(ticks)

    # save and plot
    plt.savefig(f"Bloom_{plot_var}.png", bbox_inches='tight')
    plt.show()











# PIC: example file reduced by factor of 5.
SeaDAS_PIC_file = os.path.join(os.getcwd(), "precomputed", "S3B_OLCI_EFR_20220713T100610_L2_OC_reduced.nc")
NAV = xr.open_mfdataset(SeaDAS_PIC_file, group="navigation_data")
PIC = xr.open_mfdataset(SeaDAS_PIC_file, group="geophysical_data")

band_dict[f'image1']["l2gen_lon"] = NAV["longitude"]
band_dict[f'image1']["l2gen_lat"] = NAV["latitude"]
band_dict[f'image1']["l2gen_PIC"] = np.log10(PIC["pic"]*12*1000)

NAV.close()
PIC.close()





for plot_var, label, ticks, cmap in zip(["CHL", "l2gen_PIC"],
                                        ["Chlorophyll [$mg\ m^{-3}$]", "PIC [$mg\ m^{-3}$]"],
                                        [[0.1, 0.3, 1, 3, 10], [10, 100, 1000]], ["viridis", "Blues_r"]):

    fig, m = plt.subplots(1, 1, figsize=(20, 20), dpi=dpi, subplot_kw={"projection": cartopy.crs.Mercator()})

    cmap = plt.get_cmap(cmap)
    cmap.set_bad(color = '0.8', alpha = 1.0)
    if plot_var == "l2gen_PIC":
        lon_var = "l2gen_lon" ; lat_var = "l2gen_lat"
    else:
        lon_var = "lon" ; lat_var = "lat"

    # make the map
    c = m.pcolormesh(band_dict["image1"][lon_var], band_dict["image1"][lat_var], band_dict["image1"][plot_var],
                     cmap=cmap, transform=cartopy.crs.PlateCarree(), edgecolor="face", alpha=1.0, zorder=3,
                     vmin=min(np.log10(ticks)), vmax=max(np.log10(ticks)))

    # add some map embellishments
    m.set_extent(extents["image1"], crs=cartopy.crs.PlateCarree())
    embellish_plot(m)
    
    # colorbar
    cb_ax = fig.add_axes([m.get_position().x0+0.015, 0.175, m.get_position().width/3.5, 0.01])
    cbar = fig.colorbar(c, cax=cb_ax, orientation="horizontal", label=label)
    cbar.set_ticks(np.log10(ticks))
    cbar.set_ticklabels(ticks)

    # save and plot
    plt.savefig(f"Cocco_{plot_var}.png", bbox_inches='tight')
    plt.show()







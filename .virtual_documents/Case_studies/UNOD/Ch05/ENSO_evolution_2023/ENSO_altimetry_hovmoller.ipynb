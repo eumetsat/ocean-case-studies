


























import copernicusmarine         # this library supports access to the Copernicus Marine Service catalogue via API
import numpy as np              # a library that lets us work with arrays; we import this with a new name "np"
import matplotlib.pyplot as plt # a library the provides plotting capability
from pathlib import Path        # a library to help us to construct system paths
import warnings                 # a library that helps us handle warnings

warnings.filterwarnings('ignore')
plt.rcParams.update({'font.size': 32})











# Default location expected by the copernicusmarine package
copernicus_marine_credentials_file = Path(Path.home() / '.copernicusmarine' / '.copernicusmarine-credentials')

# Create it only if it does not already exists
if not copernicus_marine_credentials_file.is_file():
    copernicusmarine.login()





ds = copernicusmarine.open_dataset(
   dataset_id = "cmems_obs-sl_glo_phy-ssh_nrt_allsat-l4-duacs-0.25deg_P1D",
   minimum_longitude = 120,
   maximum_longitude = 280,
   minimum_latitude = -2,
   maximum_latitude = 2,
   start_datetime = "2022-01-01 00:00:00",    
   end_datetime = "2024-02-29 23:59:59", 
   variables = ['sla'], 
)





ds











# average over the latitudes without NaNs
nclatmean = ds.mean(dim='latitude', skipna=True)





# resample weekly
nclatmean_weekly = nclatmean.resample(time='W', skipna=True).mean()








# create a longitude-time grid to plot.
time2, lon2 = np.meshgrid(nclatmean_weekly.longitude, nclatmean_weekly.time)





# Here, we define min / max of the color bar. We shift the colorbar middle 
# in order to balance colors in the plot since sla are referenced to a 20-year
# average, not the current 30+ years available
colormax = np.round(np.nanmax(nclatmean_weekly.sla), 2)
colormin = np.round(np.nanmin(nclatmean_weekly.sla), 2)





# set up our figure
fig = plt.figure(figsize=(35,25))

# set up our axes
ax = fig.add_subplot()
ax.invert_yaxis()

# plot out main panel of data; the Hovmoller plot
mm = ax.pcolormesh(time2, lon2, nclatmean_weekly.sla, vmin=colormin, vmax=colormax, cmap='RdYlBu_r')

# label and tidy up our plot
ax.grid(color='gray', linestyle='--', linewidth=2)
ax.set_xlabel("Longitude")

# plot our colorbar
cbar = fig.colorbar(mm, orientation='horizontal', pad=0.08, shrink=0.66, aspect=36)
cbar.set_label('Sea Level Anomaly [m]', fontsize=36)

# save our plot
plt.savefig('hovmoller_ENSO_2022-2024.png', dpi=150, bbox_inches='tight', pad_inches=0.01)













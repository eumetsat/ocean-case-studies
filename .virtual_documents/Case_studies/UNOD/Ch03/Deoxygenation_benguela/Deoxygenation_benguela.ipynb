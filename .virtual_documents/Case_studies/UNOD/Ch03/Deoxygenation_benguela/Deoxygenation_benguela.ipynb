


























import cartopy                               # a package that helps with mapping and projection management
import glob                                  # a package that helps with file searching
import matplotlib.pyplot as plt              # a library that facilitates plotting
import matplotlib.ticker as mticker          # a library that facilitates plotting
import matplotlib.patheffects as PathEffects # a library that facilitates plotting
import numpy as np                           # a library that lets us work with arrays; we import this with a new name "np"
import os                                    # a library that allows us access to basic operating system commands like making directories
import shutil                                # a library that allows us access to basic operating system commands like copy
import xarray as xr                          # a powerful library that facilitates working with arrays
import zipfile                               # a library that allows us to unzip zip-files.
import eumartools                            # a library package for helping to work with Sentinel-3 data
import eumdac                                # a tool that helps us download via the eumetsat/data-store
import warnings                              # a library that helps us handle warnings
from pathlib import Path                     # a library to help us to construct system paths
import getpass                               # a library to help us enter passwords

warnings.filterwarnings('ignore')
plt.rcParams.update({'font.size': 12})








# Create a download directory for our OLCI products
download_dir = os.path.join(os.getcwd(), "products")
os.makedirs(download_dir, exist_ok=True)





# Settings
download_data = True





collection_id = 'EO:EUM:DAT:0407'
product_list = ['S3A_OL_2_WFR____20220220T080053_20220220T080353_20220221T184925_0179_082_149_3420_MAR_O_NT_003.SEN3',
                'S3A_OL_2_WFR____20220220T080353_20220220T080653_20220221T184943_0180_082_149_3600_MAR_O_NT_003.SEN3']





# load credentials
eumdac_credentials_file = Path(Path.home() / '.eumdac' / 'credentials')

if os.path.exists(eumdac_credentials_file):
    consumer_key, consumer_secret = Path(eumdac_credentials_file).read_text().split(',')
else:
    # creating authentication file
    consumer_key = input('Enter your consumer key: ')
    consumer_secret = getpass.getpass('Enter your consumer secret: ')
    try:
        os.makedirs(os.path.dirname(eumdac_credentials_file), exist_ok=True)
        with open(eumdac_credentials_file, "w") as f:
            f.write(f'{consumer_key},{consumer_secret}')
    except:
        pass
        
token = eumdac.AccessToken((consumer_key, consumer_secret))
print(f"This token '{token}' expires {token.expiration}")





datastore = eumdac.DataStore(token)





if download_data:    
    for product_id in product_list:
        print(f"Retrieving: {product_id} from {collection_id}")

        # find the required products
        selected_product = datastore.get_product(product_id=product_id, collection_id=collection_id)

        # download the required products
        with selected_product.open() as fsrc, open(os.path.join(download_dir, fsrc.name), mode='wb') as fdst:
            print(f'Downloading {fsrc.name}.')
            shutil.copyfileobj(fsrc, fdst)
            print(f'Download of product {fsrc.name} finished.')

        # Unzip the required products
        with zipfile.ZipFile(fdst.name, 'r') as zip_ref:
            for file in zip_ref.namelist():
                if file.startswith(str(selected_product)):
                    zip_ref.extract(file, download_dir)
            print(f'Unzipping of product {fdst.name} finished.')

        # tidy up the required products
        os.remove(fdst.name)








# makes area average
subset_box_lons = [17, 17, 19, 19, 17]
subset_box_lats = [-33, -31, -31, -33, -33]


SAFE_directories = glob.glob(os.path.join(download_dir,'*.SEN3'))


chls = []
lons = []
lats = []
flag_masks = []

for SAFE_directory in SAFE_directories:

    # read and subset coords
    geo_file = os.path.join(SAFE_directory,'geo_coordinates.nc')
    geo_fid = xr.open_dataset(geo_file)
    lon = geo_fid.longitude.data
    lat = geo_fid.latitude.data
    ii, jj, region_mask = eumartools.subset_image(lon, lat, subset_box_lons, subset_box_lats) 
    geo_fid.close()
    lons.append(lon[min(jj):max(jj), min(ii):max(ii)])
    lats.append(lat[min(jj):max(jj), min(ii):max(ii)])

    # read and subset band vars
    band_vars = xr.open_mfdataset(glob.glob(os.path.join(SAFE_directory,'Oa*.nc')))
    ref_665 = np.array(band_vars['Oa08_reflectance'].data[min(jj):max(jj), min(ii):max(ii)])
    ref_709 = np.array(band_vars['Oa11_reflectance'].data[min(jj):max(jj), min(ii):max(ii)])
    band_vars.close()
    
    # read and subset OC4ME CHL
    chl_vars = xr.open_mfdataset(glob.glob(os.path.join(SAFE_directory,'chl_oc4me*.nc')))
    chl = np.array(chl_vars['CHL_OC4ME'].data[min(jj):max(jj), min(ii):max(ii)])
    chl_vars.close()    
    
    # reading masks: example flags
    flag_file = os.path.join(SAFE_directory,'wqsf.nc')
    flag_mask = eumartools.flag_mask(flag_file, 'WQSF',
                                     ['CLOUD', 'CLOUD_AMBIGUOUS', 'CLOUD_MARGIN', 
                                      'INVALID', 'HISOLZEN','HIGHGLINT',
                                      'COSMETIC','SUSPECT','SATURATED'])

    flag_mask = flag_mask.astype(float)[min(jj):max(jj), min(ii):max(ii)]
    flag_mask[flag_mask == 0.0] = np.nan
    flag_masks.append(flag_mask)
    
    # calculate band ratio
    ref_665[flag_mask == 1] = np.nan
    ref_709[flag_mask == 1] = np.nan
    band_ratio = np.log10(227.25 * np.exp(-2.815*ref_665/ref_709))
    chl[flag_mask == 1] = np.nan

    # switch at 1
    band_ratio[chl < np.log10(1)] = chl[chl < np.log10(1)]
    chls.append(band_ratio)








# set up our figure
fig, m = plt.subplots(1, 1, figsize=(10, 14), dpi=300, subplot_kw={"projection": cartopy.crs.PlateCarree()})

# plot our ocean colour products
for chl, lon, lat, flag_mask in zip(chls, lons, lats, flag_masks):

    p1 = m.pcolormesh(lon, lat, chl, cmap=plt.cm.viridis, vmin=-1, vmax=2, zorder=1, transform = cartopy.crs.PlateCarree())

    m.contourf(lon, lat, flag_mask, levels=[0,1], colors='0.9', zorder=4, transform = cartopy.crs.PlateCarree())

# add our location notation and arrow
txt = m.annotate('Elandsbaai', xy=(18.3369, -32.3003),  xycoords='data',
        xytext=(0.75, 0.45), textcoords='axes fraction', color='k',
        arrowprops=dict(arrowstyle="fancy", facecolor='white'),
        zorder=100)
txt.set_path_effects([PathEffects.withStroke(linewidth=2, foreground='w')])

# add some map embellishments
m.add_feature(cartopy.feature.NaturalEarthFeature('physical', 'land', '10m', edgecolor='k', facecolor='#546d51', linewidth=0.5), zorder=8)
g1 = m.gridlines(draw_labels = True, linestyle='--', zorder=10)
g1.top_labels = g1.right_labels = False
g1.xlabel_style = g1.ylabel_style = {'color': 'gray'}

# add a colour bar
cbar = fig.colorbar(p1, ax=m, location='bottom', pad=0.05)
ticks = [-1,0,1,2]
cbar.set_ticks(ticks)
cbar.set_ticklabels([10**tick for tick in ticks])
cbar.set_label('Band switching (OC4ME <-> 665:709) derived chlorophyll concentration [mg.m$^{-3}$]')

# output the figure
plt.tight_layout()
plt.savefig('Coastal_deoxygenation_South_African_red_tides_OLCI.png', bbox_inches='tight')







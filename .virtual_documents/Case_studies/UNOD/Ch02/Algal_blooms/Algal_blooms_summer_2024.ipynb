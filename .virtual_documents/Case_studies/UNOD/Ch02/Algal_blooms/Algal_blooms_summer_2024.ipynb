


























import os                              # a library that allows us access to basic operating system commands
import eumartools                      # a EUMETSAT library that support working with Sentinel-3 products
import eumdac                          # a tool that helps us download via the eumetsat/data-store
import shutil                          # a library that allows us access to basic operating system commands like copy
import xarray as xr                    # a library that helps us work efficiently with multi-dimensional arrays
import matplotlib                      # a library the provides plotting capability
import matplotlib.pyplot as plt        # a library the provides plotting capability
import cartopy                         # a library that supports mapping and projection
import numpy as np                     # a library that lets us work with arrays; we import this with a new name "np"
import getpass                         # a library to help us enter passwords
from pathlib import Path               # a library that helps construct system path objects
import ipywidgets as widgets           # a library that supports interactive widgets
import time                            # a library that helps us manage script timing
import warnings                        # a library that supports managing warning messages

warnings.filterwarnings("ignore")
plt.rcParams.update({'font.size': 12})


# Create a download directory for our products
download_dir = os.path.join(os.getcwd(), "products")
os.makedirs(download_dir, exist_ok=True)


download_customised_data = False


collections = {}
collections['L1B'] = {'collection_id': 'EO:EUM:DAT:0409', 'dt_product': 'OLL1EFR', 'bands': ['oa02_radiance', 'oa06_radiance', 'oa08_radiance']}
collections['L2']  = {'collection_id': 'EO:EUM:DAT:0407', 'dt_product': 'OLL2WFR', 'bands': ['oa02_reflectance', 'oa06_reflectance', 'oa08_reflectance', 'tsm_nn', 'chl_nn', 'wqsf']}








def embellish_plot(m, level='L1B'):
    """Quick function to embellish plots with gridlines and labels

    Args:
        m (axis): the axis to plot into
    Returns:
        None
    """
    # Embellish with gridlines
    if level == 'L2':
        m.add_feature(cartopy.feature.NaturalEarthFeature('physical', 'land', '10m', edgecolor='k', facecolor='#546d51', linewidth=0.5), zorder=500)
    g1 = m.gridlines(draw_labels = True, linestyle='--', linewidth=0.5, zorder=1000)
    g1.top_labels = g1.right_labels = False
    g1.xlabel_style = g1.ylabel_style = {'color': '0.5'}


def flag_mask(flag_file, flag_variable, applied_flags):
    """Function to build a binary mask from specific flags.

    Args:
        flag_file (string): the netCDF format file containing the flags
        flag_variable (string): the name of the flag field in flag_file
        applied_flags (list): names of flags to apply, as list of strings
        test (bool): test case switch

    Returns:
        if succesful & test is true (int); sum of flag binary flag mask
        if succesful & test is false (numpy.ndarray); binary flag mask
        if unsuccessful (string); error message

    """
    flag_fid = xr.open_dataset(flag_file)
    flags = flag_fid.get(flag_variable).data.astype(np.int64)
    flag_names = flag_fid.get(flag_variable).flag_meanings.split(" ")
    flag_values = np.array(flag_fid.get(flag_variable).flag_masks[1:-1].replace(" ","").split(",")).astype(np.int64)
    flag_fid.close()

    flag_bits = np.zeros(np.shape(flags), np.dtype(type(flags[0][0])))

    for flag in applied_flags:
        flag_bits = flag_bits | flag_values[flag_names.index(flag)]

    return (flags & flag_bits) > 0


def patch_cbar_axis(m, cplot, ticks):
    """Function to embed a colour bar in a plot

    Args:
        m (axis): the axis to plot into
        cplot (plot) : the axis to associate the colours with
        ticks: colour bar ticks
    Returns:
        None
    """
    axins = m.inset_axes((0.035, 0.11, .4, .025))
    coords = m.transAxes.inverted().transform(axins.get_tightbbox())
    border = 0.02
    w, h = coords[1] - coords[0] + 2.0 * border
    m.add_patch(plt.Rectangle(coords[0] - border, w, h, fc="w", ec="k", alpha=0.75, transform=m.transAxes, zorder=2))

    cbar = fig.colorbar(cplot, cax=axins, location='bottom')
    cbar.set_ticks(ticks)
    cbar.set_ticklabels([10**tick for tick in ticks])








location = widgets.Select(options=['L1B Baltic Sea', 'L1B Barents Sea', 'L1B Black Sea', 'L1B Celtic Sea', 'L1B Dogger Bank', 'L1B Skagerrak', 'L2 Skagerrak'],
    value='L2 Skagerrak',
    description='Region:')
location


product_dict = {}
product_dict['L1B Baltic Sea'] = {'product': 'S3B_OL_1_EFR____20240625T084630_20240625T084930_20240626T114930_0179_094_278_1980_MAR_O_NT_002.SEN3', 'roi': [60, 56, 17, 25], 'min': [71, 23, 11], 'max': [107, 65, 45]}
product_dict['L1B Barents Sea'] = {'product': 'S3A_OL_1_EFR____20240810T074846_20240810T075146_20240811T110827_0179_115_306_1800_MAR_O_NT_004.SEN3', 'roi': [73, 69, 35, 43], 'min': [65, 22, 9], 'max': [92, 49, 33]}
product_dict['L1B Black Sea'] = {'product': 'S3A_OL_1_EFR____20240717T081715_20240717T082015_20240718T113114_0179_114_349_2160_MAR_O_NT_004.SEN3', 'roi': [46.75, 44.75, 29.5, 33.5], 'min': [75, 29, 14], 'max': [99, 98, 105]}
product_dict['L1B Celtic Sea'] = {'product': 'S3A_OL_1_EFR____20240510T110151_20240510T110451_20240511T140321_0180_112_151_2160_MAR_O_NT_002.SEN3', 'roi': [50, 46, -11, -3], 'min': [65, 17, 5], 'max': [115, 75, 60]}
product_dict['L1B Dogger Bank'] = {'product': 'S3A_OL_1_EFR____20240708T102854_20240708T103154_20240709T130126_0179_114_222_1980_MAR_O_NT_002.SEN3', 'roi': [55.5, 51.5, 0, 8], 'min': [58, 18, 8], 'max': [107, 85, 58]}
product_dict['L1B Skagerrak'] = {'product': 'S3B_OL_1_EFR____20240626T100118_20240626T100418_20240627T124631_0180_094_293_1980_MAR_O_NT_002.SEN3', 'roi': [58, 54,  3.5, 11.5], 'min': [65, 22, 9], 'max': [102, 70, 50]}
product_dict['L2 Skagerrak'] = {'product': 'S3B_OL_2_WFR____20240626T100118_20240626T100418_20240627T172400_0180_094_293_1980_MAR_O_NT_003.SEN3', 'roi': [58, 54,  3.5, 11.5], 'min': [0.0001, 0.0001, 0.0001], 'max': [0.025, 0.025, 0.006]}
product = product_dict[location.value]


if "OL_1" in product['product']:
    collection_tag = "L1B"
else:
    collection_tag = "L2"

output_filename = os.path.join(download_dir, f"{collections[collection_tag]['dt_product']}_{location.value.replace(' ', '_')}.nc")








# load credentials
eumdac_credentials_file = Path(Path.home() / '.eumdac' / 'credentials')

if os.path.exists(eumdac_credentials_file):
    consumer_key, consumer_secret = Path(eumdac_credentials_file).read_text().split(',')
else:
    # creating authentication file
    consumer_key = input('Enter your consumer key: ')
    consumer_secret = getpass.getpass('Enter your consumer secret: ')
    try:
        os.makedirs(os.path.dirname(eumdac_credentials_file), exist_ok=True)
        with open(eumdac_credentials_file, "w") as f:
            f.write(f'{consumer_key},{consumer_secret}')
    except:
        pass
        
token = eumdac.AccessToken((consumer_key, consumer_secret))
print(f"This token '{token}' expires {token.expiration}")





datastore = eumdac.DataStore(token)





selected_product = datastore.get_product(product_id=product['product'], collection_id=collections[collection_tag]['collection_id'])





datatailor = eumdac.DataTailor(token)





# Defining the chain configuration
chain = eumdac.tailor_models.Chain(
    product = collections[collection_tag]['dt_product'],
    roi = {"NSWE" : product['roi']},
    filter = {"bands" : collections[collection_tag]['bands']},
    projection = 'geographic',
    resample_resolution = [0.003, 0.003],
    resample_method = 'near',
    format = 'netcdf4')





if download_customised_data:
    print(f"Customising {product['product']}")
    sleep_time = 10
    
    customisation = datatailor.new_customisation(selected_product, chain=chain)
    status = customisation.status
    
    # Monitor the customisation
    while status:
        # Get the status of the ongoing customisation
        status = customisation.status
    
        if "DONE" in status:
            print(f"Customisation {customisation._id} is successfully completed.")
            break
        elif status in ["ERROR","FAILED","DELETED","KILLED","INACTIVE"]:
            print(f"Customisation {customisation._id} was unsuccessful. Customisation log is printed.\n")
            print(customisation.logfile)
            break
        elif "QUEUED" in status:
            print(f"Customisation {customisation._id} is queued.")
        elif "RUNNING" in status:
            print(f"Customisation {customisation._id} is running.")
        time.sleep(sleep_time)





if download_customised_data:
    # Download
    print(f"Customisation {customisation._id} outputs downloading.")
    
    with customisation.stream_output(customisation.outputs[0],) as stream, \
        open(stream.name, mode='wb') as fdst:
            shutil.copyfileobj(stream, fdst)
            os.rename(fdst.name, output_filename)
    
    # Tidy up (if successful)
    print(f"Customisation {customisation._id} outputs cleared.")
    customisation.delete()








# select files
ds = xr.open_mfdataset(output_filename)





ds





if collection_tag == 'L2':
    applied_flags = ['LAND', 'CLOUD', 'CLOUD_AMBIGUOUS', 'CLOUD_MARGIN', 
                                                    'INVALID', 'COSMETIC', 'SATURATED', 'SUSPECT',
                                                    'HISOLZEN', 'HIGHGLINT', 'SNOW_ICE', 'OCNN_FAIL']
    flag_variable = 'wqsf'
    mask = flag_mask(output_filename, 'wqsf', applied_flags).astype(np.float32)
    mask[mask != 0.0] = np.nan
    mask[np.isfinite(mask)] = 1.0


red = np.array(ds[collections[collection_tag]['bands'][2]])
green = np.array(ds[collections[collection_tag]['bands'][1]])
blue = np.array(ds[collections[collection_tag]['bands'][0]])

if collection_tag == "L2":
    red = red * mask
    green = green * mask
    blue = blue * mask

red[red > product['max'][2]] = product['max'][2]
red[red < product['min'][2]] = product['min'][2]
green[green > product['max'][1]] = product['max'][1]
green[green < product['min'][1]] = product['min'][1]
blue[blue > product['max'][0]] = product['max'][0]
blue[blue < product['min'][0]] = product['min'][0]


# load the level 1b or level 2 image data
if collection_tag == "L2":
    rgb = np.dstack((red, green, blue))
else:
    rgb = np.dstack((np.log10(red), np.log10(green), np.log10(blue)))
    rgb[np.isinf(rgb)] = np.nan





# first normalise by channel
rgb_norm = eumartools.normalise_image(rgb, unhitch=True)
# then remove the outliers from the unhitched image
rgb_trunc = eumartools.truncate_image(rgb_norm, min_percentile=1, max_percentile=99)
# then histogram the truncate image
rgb_final = eumartools.histogram_image(rgb_trunc, nbins=256)





fig, m = plt.subplots(1, 1, figsize=(20, 20), dpi=150, subplot_kw={"projection": cartopy.crs.PlateCarree()})
m.pcolormesh(ds['lon'], ds['lat'], rgb_final, transform=cartopy.crs.PlateCarree())
t = m.annotate(f"Natural colour RGB, OLCI {location.value}\n{product['product']}", (0.005, 0.0175), xycoords="axes fraction", color="#117a65", fontsize=10)
t.set_bbox(dict(facecolor='white', alpha=0.75, edgecolor=None))
embellish_plot(m, level=collection_tag)
plt.savefig(output_filename.replace(".nc", ".png"), bbox_inches="tight")





if collection_tag == "L2":
    
    vmin = -1
    vmax = 1
    ticks = range(vmin, vmax+1)

    for variable, label, cmap in zip(['chl_nn','tsm_nn'],
                                     ['Neural network chlorophyll [$mg.m^{3}$]', 'Neural network total suspend matter [$mg.m^{3}$]'],
                                     ['viridis', 'inferno']):
        fig, m = plt.subplots(1, 1, figsize=(20, 20), dpi=150, subplot_kw={"projection": cartopy.crs.PlateCarree()})
        p1 = m.pcolormesh(ds['lon'], ds['lat'], ds[variable]*mask, transform=cartopy.crs.PlateCarree(), cmap=cmap, vmin=vmin, vmax=vmax)
        patch_cbar_axis(m, p1, ticks)
        
        t = m.annotate(f"{label}\n{product['product']}", (0.005, 0.0175), xycoords="axes fraction", fontsize=10)
        t.set_bbox(dict(facecolor='white', alpha=0.75, edgecolor=None))
        embellish_plot(m, level=collection_tag)
        plt.savefig(output_filename.replace(".nc", f"_{variable}.png"), bbox_inches="tight")
















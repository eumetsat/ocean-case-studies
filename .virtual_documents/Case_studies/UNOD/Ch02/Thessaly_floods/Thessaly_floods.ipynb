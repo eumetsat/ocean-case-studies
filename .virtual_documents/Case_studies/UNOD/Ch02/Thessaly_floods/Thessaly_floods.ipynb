


























import os                              # a library that allows us access to basic operating system commands
#import eumartools                      # a EUMETSAT library that support working with Sentinel-3 products
import eumdac                          # a tool that helps us download via the eumetsat/data-store
#import shutil                          # a library that allows us access to basic operating system commands like copy
#import xarray as xr                    # a library that helps us work efficiently with multi-dimensional arrays
import matplotlib.pyplot as plt        # a library the provides plotting capability
#import cartopy                         # a library that supports mapping and projection
#import numpy as np                     # a library that lets us work with arrays; we import this with a new name "np"
import getpass                         # a library to help us enter passwords
from pathlib import Path               # a library that helps construct system path objects
#import ipywidgets as widgets           # a library that supports interactive widgets
#import time                            # a library that helps us manage script timing
import warnings                        # a library that supports managing warning messages
#from mpl_toolkits.axes_grid1.inset_locator import inset_axes
import datetime

warnings.filterwarnings("ignore")
plt.rcParams.update({'font.size': 12})


# Create a download directory for our products
download_dir = os.path.join(os.getcwd(), "products")
os.makedirs(download_dir, exist_ok=True)


download_customised_data = True


collections = {}
collections['L1B'] = {'collection_id': 'EO:EUM:DAT:0409', 'dt_product': 'OLL1EFR', 'bands': ['oa02_radiance', 'oa06_radiance', 'oa08_radiance']}
collections['L2']  = {'collection_id': 'EO:EUM:DAT:0407', 'dt_product': 'OLL2WFR', 'bands': ['oa02_reflectance', 'oa06_reflectance', 'oa08_reflectance', 'tsm_nn', 'chl_nn', 'wqsf']}
collection_tag = "L1B"








product_dict = {'roi': [39.75, 39.00, 22.00, 23.00], 'min': [65, 22, 9], 'max': [102, 70, 50]}

dt_starts = [datetime.datetime(2023, 9, 1), datetime.datetime(2024, 9, 1)]
dt_ends = [datetime.datetime(2023, 9, 10), datetime.datetime(2024, 9, 5)]








# load credentials
eumdac_credentials_file = Path(Path.home() / '.eumdac' / 'credentials')

if os.path.exists(eumdac_credentials_file):
    consumer_key, consumer_secret = Path(eumdac_credentials_file).read_text().split(',')
else:
    # creating authentication file
    consumer_key = input('Enter your consumer key: ')
    consumer_secret = getpass.getpass('Enter your consumer secret: ')
    try:
        os.makedirs(os.path.dirname(eumdac_credentials_file), exist_ok=True)
        with open(eumdac_credentials_file, "w") as f:
            f.write(f'{consumer_key},{consumer_secret}')
    except:
        pass
        
token = eumdac.AccessToken((consumer_key, consumer_secret))
print(f"This token '{token}' expires {token.expiration}")





datastore = eumdac.DataStore(token)





roi = [[product_dict['roi'][2], product_dict['roi'][1]],
       [product_dict['roi'][3], product_dict['roi'][1]],
       [product_dict['roi'][3], product_dict['roi'][0]],
       [product_dict['roi'][2], product_dict['roi'][0]],
       [product_dict['roi'][2], product_dict['roi'][1]]]       

selected_collection = datastore.get_collection(collections[collection_tag]['collection_id'])
selected_products = selected_collection.search(dtstart=dt_starts[0],
                                               dtend=dt_ends[0],
                                               geo='POLYGON(({}))'.format(','.join(["{} {}".format(*coord) for coord in roi])),
                                               timeliness='NT')


for product in selected_products:
    print(product)





datatailor = eumdac.DataTailor(token)





# Defining the chain configuration
chain = eumdac.tailor_models.Chain(
    product = "",
    roi = {"NSWE" : product_dict['roi']},
    filter = {"bands" : collections[collection_tag]['bands']},
    projection = 'geographic',
    resample_resolution = [0.001, 0.001],
    resample_method = 'bilinear',
    format = 'netcdf4'
)





if download_customised_data:
    
    sleep_time = 10
    for product in selected_products:
        print(f"Customising {product['product']}")
    
        this_chain
        customisation = datatailor.new_customisation(selected_product, chain=chain)
        status = customisation.status
        
        # Monitor the customisation
        while status:
            # Get the status of the ongoing customisation
            status = customisation.status
        
            if "DONE" in status:
                print(f"Customisation {customisation._id} is successfully completed.")
                break
            elif status in ["ERROR","FAILED","DELETED","KILLED","INACTIVE"]:
                print(f"Customisation {customisation._id} was unsuccessful. Customisation log is printed.\n")
                print(customisation.logfile)
                break
            elif "QUEUED" in status:
                print(f"Customisation {customisation._id} is queued.")
            elif "RUNNING" in status:
                print(f"Customisation {customisation._id} is running.")
            time.sleep(sleep_time)





if download_customised_data:
    # Download
    print(f"Customisation {customisation._id} outputs downloading.")
    
    with customisation.stream_output(customisation.outputs[0],) as stream, \
        open(stream.name, mode='wb') as fdst:
            shutil.copyfileobj(stream, fdst)
            os.rename(fdst.name, product['filename'])
    
    # Tidy up (if successful)
    print(f"Customisation {customisation._id} outputs cleared.")
    customisation.delete()








# select files
ds = xr.open_mfdataset(product['filename'])





ds





if collection_tag == 'L2':
    #flag_mask = eumartools.flag_mask(product['filename'], 'wqsf', ['LAND', 'CLOUD', 'CLOUD_AMBIGUOUS', 'CLOUD_MARGIN', 
    #                                                'INVALID', 'COSMETIC', 'SATURATED', 'SUSPECT',
    #                                                'HISOLZEN', 'HIGHGLINT', 'SNOW_ICE', 'AC_FAIL',
    #                                                'WHITECAPS', 'ADJAC'])

    applied_flags = ['LAND', 'CLOUD', 'CLOUD_AMBIGUOUS', 'CLOUD_MARGIN', 
                                                    'INVALID', 'COSMETIC', 'SATURATED', 'SUSPECT',
                                                    'HISOLZEN', 'HIGHGLINT', 'SNOW_ICE', 'OCNN_FAIL']
    flag_variable = 'wqsf'
    mask = flag_mask(product['filename'], 'wqsf', applied_flags).astype(np.float32)
    mask[mask != 0.0] = np.nan
    mask[np.isfinite(mask)] = 1.0


red = np.array(ds[collections[collection_tag]['bands'][2]])
green = np.array(ds[collections[collection_tag]['bands'][1]])
blue = np.array(ds[collections[collection_tag]['bands'][0]])

if collection_tag == "L2":
    red = red * mask
    green = green * mask
    blue = blue * mask
else:
    red[red > product['max'][2]] = product['max'][2]
    red[red < product['min'][2]] = product['min'][2]
    
    green[green > product['max'][1]] = product['max'][1]
    green[green < product['min'][1]] = product['min'][1]
    
    blue[blue > product['max'][0]] = product['max'][0]
    blue[blue < product['min'][0]] = product['min'][0]


# load the level-1 image data
rgb = np.dstack((np.log10(red), np.log10(green), np.log10(blue)))
rgb[np.isinf(rgb)] = np.nan
ds.close()





# first normalise by channel
rgb_norm = eumartools.normalise_image(rgb, unhitch=True)
# then remove the outliers from the unhitched image
rgb_trunc = eumartools.truncate_image(rgb_norm, min_percentile=0, max_percentile=100)
# then histogram the truncate image
rgb_final = eumartools.histogram_image(rgb_trunc, nbins=1024)





fig, m = plt.subplots(1, 1, figsize=(20, 20), dpi=150, subplot_kw={"projection": cartopy.crs.PlateCarree()})
m.pcolormesh(ds['lon'], ds['lat'], rgb_final, transform=cartopy.crs.PlateCarree())
m.title.set_text('Natural colour RGB')
#embellish_plot(m, level=collection_tag)
plt.savefig(os.path.basename(product['filename']).replace(".nc", ".png"), bbox_inches="tight")


if collection_tag == "L2":
    
    vmin = -1
    vmax = 1
    ticks = range(vmin,vmax+1)

    for variable, label, cmap in zip(['chl_nn','tsm_nn'],
                                     ['Neural network chlorophyll [$mg.m^{3}$]', 'Neural network total suspend matter [$mg.m^{3}$]'],
                                     ['viridis', 'inferno']):
        fig, m = plt.subplots(1, 1, figsize=(10, 10), dpi=150, subplot_kw={"projection": cartopy.crs.PlateCarree()})
        p1 = m.pcolormesh(ds['lon'], ds['lat'], ds[variable]*mask, transform=cartopy.crs.PlateCarree(), cmap=cmap, vmin=vmin, vmax=vmax)
        cbaxes = inset_axes(m, width="40%", height="2.5%", loc=4) 
        cbar = fig.colorbar(p1, cax=cbaxes, location='top')
        cbar.set_ticks(ticks)
        cbar.set_ticklabels([10**tick for tick in ticks], fontsize=8)
        plt.setp(plt.getp(cbar.ax.axes, 'xticklabels'), color='w')
        m.title.set_text(label)
        embellish_plot(m, level=collection_tag)
        plt.savefig(os.path.basename(product['filename']).replace(".nc", f"_{variable}.png"), bbox_inches="tight")















